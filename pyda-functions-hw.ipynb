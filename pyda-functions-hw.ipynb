{
 "cells": [
  {
   "cell_type": "markdown",
   "metadata": {},
   "source": [
    "## Задание 1"
   ]
  },
  {
   "cell_type": "markdown",
   "metadata": {},
   "source": [
    "Дан список вида:"
   ]
  },
  {
   "cell_type": "code",
   "execution_count": 14,
   "metadata": {},
   "outputs": [],
   "source": [
    "data = [\n",
    "    [13, 25, 23, 34],\n",
    "    [45, 32, 44, 47],\n",
    "    [12, 33, 23, 95],\n",
    "    [13, 53, 34, 35]\n",
    "]"
   ]
  },
  {
   "cell_type": "markdown",
   "metadata": {},
   "source": [
    "Напишите функцию, которая возвращает сумму элементов на диагонали. Т. е. 13+32+23+35.  \n",
    "Список может быть любой длины, но всегда является \"квадратным\" (количество элементов во вложенных списках равно их количеству)."
   ]
  },
  {
   "cell_type": "code",
   "execution_count": 3,
   "metadata": {},
   "outputs": [],
   "source": [
    "def slip(data):\n",
    "    x = 0\n",
    "    result = 0\n",
    "    for line in data:\n",
    "        result += line[x]\n",
    "        x +=1\n",
    "    \n",
    "    return result"
   ]
  },
  {
   "cell_type": "code",
   "execution_count": 4,
   "metadata": {},
   "outputs": [
    {
     "data": {
      "text/plain": [
       "103"
      ]
     },
     "execution_count": 4,
     "metadata": {},
     "output_type": "execute_result"
    }
   ],
   "source": [
    "slip(data)"
   ]
  },
  {
   "cell_type": "code",
   "execution_count": 18,
   "metadata": {},
   "outputs": [],
   "source": [
    "#для эксперимента добавил вариацию с не только квардатным списком — который считает до тех пор, пока возможно идти по диагонали\n",
    "datata = [\n",
    "    [13, 25, 23, 34],\n",
    "    [45, 32, 44, 47],\n",
    "    [12, 33, 23, 95],\n",
    "    [13, 53, 34, 35],\n",
    "    [13, 25, 23, 34,13, 25, 23, 34],\n",
    "    [45, 32, 44, 47,13, 25, 23, 34],\n",
    "    [12, 33, 23, 95],\n",
    "    [13, 53, 34, 35,13, 25, 23, 34]\n",
    "]"
   ]
  },
  {
   "cell_type": "code",
   "execution_count": 19,
   "metadata": {},
   "outputs": [],
   "source": [
    "def slip(data):\n",
    "    x = 0\n",
    "    result = 0\n",
    "    \n",
    "    for line in data:\n",
    "        if (x + 1) <= len(line):\n",
    "            result += line[x]\n",
    "            x +=1\n",
    "        else:\n",
    "            break\n",
    "    \n",
    "    return result"
   ]
  },
  {
   "cell_type": "code",
   "execution_count": 20,
   "metadata": {},
   "outputs": [
    {
     "data": {
      "text/plain": [
       "141"
      ]
     },
     "execution_count": 20,
     "metadata": {},
     "output_type": "execute_result"
    }
   ],
   "source": [
    "slip(datata)"
   ]
  },
  {
   "cell_type": "markdown",
   "metadata": {},
   "source": [
    "## Задание 2"
   ]
  },
  {
   "cell_type": "markdown",
   "metadata": {},
   "source": [
    "Напишите функцию, возвращающую сумму первых n чисел Фибоначчи (для этого вам может понадобится ознакомиться с рекурсией)."
   ]
  },
  {
   "cell_type": "code",
   "execution_count": 93,
   "metadata": {},
   "outputs": [],
   "source": [
    "def fibo_sum():\n",
    "    \n",
    "    n = int(input('Сколько первых чисел Фибоначчи вы хотите сложить? '))\n",
    "    fibo = [0,1]\n",
    "    x = 0\n",
    "\n",
    "    while x < (n - 2):\n",
    "        x += 1\n",
    "        fibo.append(fibo[x] + fibo [x-1])\n",
    "\n",
    "    return print('Результат:', sum(fibo))"
   ]
  },
  {
   "cell_type": "code",
   "execution_count": 95,
   "metadata": {},
   "outputs": [
    {
     "name": "stdout",
     "output_type": "stream",
     "text": [
      "Сколько первых чисел Фибоначчи вы хотите сложить? 10\n",
      "Результат: 88\n"
     ]
    }
   ],
   "source": [
    "fibo_sum()"
   ]
  },
  {
   "cell_type": "markdown",
   "metadata": {},
   "source": [
    "## Задание 3\n"
   ]
  },
  {
   "cell_type": "markdown",
   "metadata": {},
   "source": [
    "Напишите функцию, преобразующую произвольный список вида ['2018-01-01', 'yandex', 'cpc', 100] (он может быть любой длины) в словарь {'2018-01-01': {'yandex': {'cpc': 100}}}"
   ]
  },
  {
   "cell_type": "code",
   "execution_count": 312,
   "metadata": {},
   "outputs": [],
   "source": [
    "index = ['2018-01-01', 'yandex', 'cpc', 100, '2018-02-01', 'google', 'cpc', 170]"
   ]
  },
  {
   "cell_type": "code",
   "execution_count": 313,
   "metadata": {},
   "outputs": [],
   "source": [
    "def index_dict_add(x, dic):\n",
    "    \n",
    "    index_dict = {}\n",
    "    \n",
    "    index_dict[x] = dic\n",
    "    \n",
    "    return index_dict"
   ]
  },
  {
   "cell_type": "code",
   "execution_count": 321,
   "metadata": {},
   "outputs": [],
   "source": [
    "def main(index):\n",
    "    \n",
    "    index.reverse()\n",
    "    dic = {}\n",
    "    \n",
    "    dic[index[1]] = index[0]\n",
    "    \n",
    "    for i in index[2::]:\n",
    "        dic = index_dict_add(i, dic)\n",
    "            \n",
    "    return dic"
   ]
  },
  {
   "cell_type": "code",
   "execution_count": 323,
   "metadata": {},
   "outputs": [
    {
     "data": {
      "text/plain": [
       "{'2018-01-01': {'yandex': {'cpc': {100: {'2018-02-01': {'google': {'cpc': 170}}}}}}}"
      ]
     },
     "execution_count": 323,
     "metadata": {},
     "output_type": "execute_result"
    }
   ],
   "source": [
    "main(index)"
   ]
  },
  {
   "cell_type": "code",
   "execution_count": null,
   "metadata": {},
   "outputs": [],
   "source": []
  },
  {
   "cell_type": "markdown",
   "metadata": {},
   "source": [
    "## Задание 4"
   ]
  },
  {
   "cell_type": "markdown",
   "metadata": {},
   "source": [
    "Вы работаете секретарем и вам постоянно приходят различные документы. Вы должны быть очень внимательны, чтобы не потерять ни один документ. Каталог документов хранится в следующем виде:"
   ]
  },
  {
   "cell_type": "code",
   "execution_count": 75,
   "metadata": {},
   "outputs": [],
   "source": [
    "documents = [\n",
    "    {'type': 'passport', 'number': '2207 876234', 'name': 'Василий Гупкин'},\n",
    "    {'type': 'invoice', 'number': '11-2', 'name': 'Геннадий Покемонов'},\n",
    "    {'type': 'insurance', 'number': '10006', 'name': 'Аристарх Павлов'}\n",
    "]"
   ]
  },
  {
   "cell_type": "markdown",
   "metadata": {},
   "source": [
    "Перечень полок, на которых находятся документы хранится в следующем виде:"
   ]
  },
  {
   "cell_type": "code",
   "execution_count": 76,
   "metadata": {},
   "outputs": [],
   "source": [
    "directories = {\n",
    "    '1': ['2207 876234', '11-2', '5455 028765'],\n",
    "    '2': ['10006', '5400 028765', '5455 002299'],\n",
    "    '3': []\n",
    "}"
   ]
  },
  {
   "cell_type": "markdown",
   "metadata": {},
   "source": [
    "Необходимо реализовать пользовательские команды (внимание! это не название функций, которые должны быть выразительными, а команды, которые вводит пользователь, чтобы получить необходимый результат):\n",
    "  \n",
    "- p – people – команда, которая спросит номер документа и выведет имя человека, которому он принадлежит;  \n",
    "- s – shelf – команда, которая спросит номер документа и выведет номер полки, на которой он находится  \n",
    "Правильно обработайте ситуацию, когда пользователь будет вводить несуществующий документ.\n",
    "- l – list – команда, которая выведет список всех документов в формате   \n",
    "**passport \"2207 876234\" \"Василий Гупкин\"**  \n",
    "- as – add shelf – команда, которая спросит номер новой полки и добавит ее в перечень\n",
    "- d – delete – команда, которая спросит номер документа и удалит его из каталога и из перечня полок. Предусмотрите сценарий, когда пользователь вводит несуществующий документ;  \n",
    "- m – move – команда, которая спросит номер документа и целевую полку и переместит его с текущей полки на целевую. Корректно обработайте кейсы, когда пользователь пытается переместить несуществующий документ или переместить документ на несуществующую полку;  \n",
    "- a – add – команда, которая добавит новый документ в каталог и в перечень полок, спросив его номер, тип, имя владельца и номер полки, на котором он будет храниться."
   ]
  },
  {
   "cell_type": "code",
   "execution_count": 77,
   "metadata": {},
   "outputs": [],
   "source": [
    "#l – list – команда, которая выведет список всех документов в формате\n",
    "\n",
    "def list_doc():\n",
    "    \n",
    "    for i in documents:\n",
    "\n",
    "        print(i['type'], ' \"', i['number'], '\" ', '\"', i['name'], '\"', sep='')"
   ]
  },
  {
   "cell_type": "code",
   "execution_count": 78,
   "metadata": {},
   "outputs": [],
   "source": [
    "#p – people – команда, которая спросит номер документа и выведет имя человека, которому он принадлежит;\n",
    "\n",
    "def name_by_number(number):\n",
    "    \n",
    "     for i in documents:\n",
    "        \n",
    "         if i['number'] == number:\n",
    "            \n",
    "             print(i['name'])"
   ]
  },
  {
   "cell_type": "code",
   "execution_count": 79,
   "metadata": {},
   "outputs": [],
   "source": [
    "#s – shelf – команда, которая спросит номер документа и выведет номер полки, на которой он находится\n",
    "#Правильно обработайте ситуацию, когда пользователь будет вводить несуществующий документ\n",
    "\n",
    "#попробовал переписать одной строкой через dict comprehension (чувствую себя с ним неуверенно пока, поэтому не стер первый вариант)\n",
    "\n",
    "def directory_by_number(number):\n",
    "    \n",
    "    print({i for i in directories.keys() if number in directories[i]})\n",
    "\n",
    "#    for i in directories.keys():\n",
    "        \n",
    "#         if number in directories[i]: \n",
    "                \n",
    "#            print(i)"
   ]
  },
  {
   "cell_type": "code",
   "execution_count": 80,
   "metadata": {},
   "outputs": [],
   "source": [
    "def add_shelf(number):\n",
    "    \n",
    "    directories.setdefault(number, [])"
   ]
  },
  {
   "cell_type": "code",
   "execution_count": 81,
   "metadata": {},
   "outputs": [],
   "source": [
    "#d – delete – команда, которая спросит номер документа и удалит его из каталога и из перечня полок. \n",
    "#Предусмотрите сценарий, когда пользователь вводит несуществующий документ;\n",
    "\n",
    "def delete_doc_by_number(number):\n",
    "    \n",
    "    for i in directories.keys():\n",
    "    \n",
    "        if number in directories[i]:\n",
    "        \n",
    "            directories[i].remove(number)\n",
    "\n",
    "    for i in documents:\n",
    "    \n",
    "        if i['number'] == number:\n",
    "\n",
    "            documents.remove(i)\n",
    "        \n",
    "    return directories, documents"
   ]
  },
  {
   "cell_type": "code",
   "execution_count": 82,
   "metadata": {},
   "outputs": [],
   "source": [
    "def number_exists(number):\n",
    "    \n",
    "    n = False\n",
    "    \n",
    "    for i in directories.keys():\n",
    "        \n",
    "        if number in directories[i]:\n",
    "            \n",
    "            n = True\n",
    "            \n",
    "    return n"
   ]
  },
  {
   "cell_type": "code",
   "execution_count": 83,
   "metadata": {},
   "outputs": [],
   "source": [
    "#m – move – команда, которая спросит номер документа и целевую полку и переместит его с текущей полки на целевую. \n",
    "#Корректно обработайте кейсы, когда пользователь пытается переместить несуществующий документ \n",
    "#или переместить документ на несуществующую полку;\n",
    "\n",
    "def move_document(number, shelf):\n",
    "    \n",
    "    for i in directories.keys():\n",
    "        \n",
    "        if number in directories[i]:\n",
    "            \n",
    "            directories[i].remove(number)\n",
    "            directories[shelf].append(number)\n",
    "            \n",
    "    return directories"
   ]
  },
  {
   "cell_type": "code",
   "execution_count": 84,
   "metadata": {},
   "outputs": [],
   "source": [
    "def shelf_exists(number):\n",
    "    \n",
    "    n = False\n",
    "    \n",
    "    for i in directories.keys():\n",
    "        \n",
    "        if number == i:\n",
    "            \n",
    "            n = True\n",
    "            \n",
    "    return n"
   ]
  },
  {
   "cell_type": "code",
   "execution_count": 85,
   "metadata": {},
   "outputs": [],
   "source": [
    "#a – add – команда, которая добавит новый документ в каталог и в перечень полок, спросив его номер, \n",
    "#тип, имя владельца и номер полки, на котором он будет храниться.\n",
    "\n",
    "def add_doc():\n",
    "     \n",
    "    new_doc = {}\n",
    "    \n",
    "    new_doc['type'] = input(\"Тип документа: \")\n",
    "    new_doc['number'] = input(\"Номер документа: \")\n",
    "    new_doc['name'] = input(\"Имя: \")\n",
    "    \n",
    "    shelf = input(\"На какую полку положить: \")\n",
    "    \n",
    "    documents.append(new_doc)\n",
    "    \n",
    "    if shelf_exists(shelf) == True:\n",
    "        \n",
    "        directories[shelf].append(new_doc['number'])\n",
    "        \n",
    "    else:\n",
    "        print('Нет такой полки алё')\n",
    "        \n",
    "    return directories, documents"
   ]
  },
  {
   "cell_type": "code",
   "execution_count": 86,
   "metadata": {},
   "outputs": [],
   "source": [
    "#здесь на всякий случай не стал удалять технические выводы принта\n",
    "\n",
    "def main():\n",
    "\n",
    "    command = input('Введите команду: ')\n",
    "\n",
    "    if command == 'l':\n",
    "\n",
    "        list_doc()\n",
    "\n",
    "    elif command == 'p':\n",
    "\n",
    "        name_by_number(input('Введите номер документа: '))\n",
    "\n",
    "    elif command == 's':\n",
    "\n",
    "        directory_by_number(input('Введите номер документа: '))\n",
    "\n",
    "    elif command == 'as':\n",
    "\n",
    "        add_shelf(input('Введите номер новой полки: '))\n",
    "#        print(directories)\n",
    "\n",
    "    elif command == 'd':\n",
    "\n",
    "        number = input('Введите номер документа: ')\n",
    "\n",
    "        if number_exists(number) == True:\n",
    "\n",
    "            delete_doc_by_number(number)\n",
    "#            print(documents)\n",
    "\n",
    "        else:\n",
    "            print('Документ не найден')\n",
    "\n",
    "    elif command == 'm':\n",
    "\n",
    "        number = input('Введите номер документа: ')\n",
    "\n",
    "        if number_exists(number) == True:     \n",
    "            \n",
    "            shelf = input('Введите номер полки для переноса: ')\n",
    "            if shelf_exists(shelf) == True:\n",
    "                move_document(number, shelf)\n",
    "            else:\n",
    "                print('Нет такой полки')\n",
    "        else: \n",
    "            print('Неверный номер документа')\n",
    "            \n",
    "#        print(directories)\n",
    "\n",
    "    elif command == 'a':\n",
    "\n",
    "        add_doc()\n",
    "#        print(documents, directories)\n",
    "\n",
    "    else:\n",
    "\n",
    "        print('сорян, такое не умею')"
   ]
  },
  {
   "cell_type": "code",
   "execution_count": 92,
   "metadata": {
    "scrolled": true
   },
   "outputs": [
    {
     "name": "stdout",
     "output_type": "stream",
     "text": [
      "Введите команду: l\n",
      "passport \"2207 876234\" \"Василий Гупкин\"\n",
      "invoice \"11-2\" \"Геннадий Покемонов\"\n",
      "insurance \"10006\" \"Аристарх Павлов\"\n",
      "id \"1234-sd\" \"Olesya Markovna\"\n"
     ]
    }
   ],
   "source": [
    "main()"
   ]
  },
  {
   "cell_type": "markdown",
   "metadata": {},
   "source": [
    "Необходимо реализовать пользовательские команды (внимание! это не название функций, которые должны быть выразительными, а команды, которые вводит пользователь, чтобы получить необходимый результат):\n",
    "  \n",
    "- p – people – команда, которая спросит номер документа и выведет имя человека, которому он принадлежит;  \n",
    "- s – shelf – команда, которая спросит номер документа и выведет номер полки, на которой он находится  \n",
    "Правильно обработайте ситуацию, когда пользователь будет вводить несуществующий документ.\n",
    "- l – list – команда, которая выведет список всех документов в формате   \n",
    "**passport \"2207 876234\" \"Василий Гупкин\"**  \n",
    "- as – add shelf – команда, которая спросит номер новой полки и добавит ее в перечень\n",
    "- d – delete – команда, которая спросит номер документа и удалит его из каталога и из перечня полок. Предусмотрите сценарий, когда пользователь вводит несуществующий документ;  \n",
    "- m – move – команда, которая спросит номер документа и целевую полку и переместит его с текущей полки на целевую. Корректно обработайте кейсы, когда пользователь пытается переместить несуществующий документ или переместить документ на несуществующую полку;  \n",
    "- a – add – команда, которая добавит новый документ в каталог и в перечень полок, спросив его номер, тип, имя владельца и номер полки, на котором он будет храниться."
   ]
  }
 ],
 "metadata": {
  "kernelspec": {
   "display_name": "Python 3",
   "language": "python",
   "name": "python3"
  },
  "language_info": {
   "codemirror_mode": {
    "name": "ipython",
    "version": 3
   },
   "file_extension": ".py",
   "mimetype": "text/x-python",
   "name": "python",
   "nbconvert_exporter": "python",
   "pygments_lexer": "ipython3",
   "version": "3.7.4"
  }
 },
 "nbformat": 4,
 "nbformat_minor": 2
}
