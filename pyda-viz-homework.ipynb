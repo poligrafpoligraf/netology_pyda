{
 "cells": [
  {
   "cell_type": "markdown",
   "metadata": {},
   "source": [
    "### Что делать\n",
    "\n",
    "Построить 5 графиков по выбранным данным. \n",
    "\n",
    "Графики должны быть различных видов и использовать хотя бы 2 из рассмотренных на занятии библиотек. \n",
    "\n",
    "Для каждого описать, какого типа переменные участвуют в визуализации, какова её цель (например, посмотреть на корреляцию двух величин или на распределение значений) и почему выбрали именно такой тип графика."
   ]
  },
  {
   "cell_type": "markdown",
   "metadata": {},
   "source": [
    "### Всякие графики к домашнему заданию\n",
    "\n",
    "Сериал \"Прослушка\" пока не пересмотрен, но это не повод не порыться в сете с данными по преступности в Балтиморе, взял его здесь:\n",
    "\n",
    "https://www.kaggle.com/sohier/crime-in-baltimore \n",
    "\n",
    "(потом в процессе понял, что есть более новый датасет на https://www.baltimorepolice.org/crime-stats/open-data — но оказалось, что там немного отличаются данные по годам и нет части того, что есть в первом. пытаться соединять не стал из-за неизбежных ошибок в данных, поэтому в итоге строил все на первом)"
   ]
  },
  {
   "cell_type": "code",
   "execution_count": 2,
   "metadata": {},
   "outputs": [],
   "source": [
    "import pandas as pd\n",
    "import matplotlib.pyplot as plt\n",
    "import re\n",
    "import seaborn as sns"
   ]
  },
  {
   "cell_type": "code",
   "execution_count": 3,
   "metadata": {},
   "outputs": [],
   "source": [
    "from pylab import rcParams\n",
    "rcParams['figure.figsize'] = 11,7\n",
    "#тоже удобней оказалось, когда размер побольше"
   ]
  },
  {
   "cell_type": "code",
   "execution_count": 6,
   "metadata": {},
   "outputs": [
    {
     "data": {
      "text/html": [
       "<div>\n",
       "<style scoped>\n",
       "    .dataframe tbody tr th:only-of-type {\n",
       "        vertical-align: middle;\n",
       "    }\n",
       "\n",
       "    .dataframe tbody tr th {\n",
       "        vertical-align: top;\n",
       "    }\n",
       "\n",
       "    .dataframe thead th {\n",
       "        text-align: right;\n",
       "    }\n",
       "</style>\n",
       "<table border=\"1\" class=\"dataframe\">\n",
       "  <thead>\n",
       "    <tr style=\"text-align: right;\">\n",
       "      <th></th>\n",
       "      <th>CrimeDate</th>\n",
       "      <th>CrimeTime</th>\n",
       "      <th>CrimeCode</th>\n",
       "      <th>Location</th>\n",
       "      <th>Description</th>\n",
       "      <th>Inside/Outside</th>\n",
       "      <th>Weapon</th>\n",
       "      <th>Post</th>\n",
       "      <th>District</th>\n",
       "      <th>Neighborhood</th>\n",
       "      <th>Longitude</th>\n",
       "      <th>Latitude</th>\n",
       "      <th>Location 1</th>\n",
       "      <th>Premise</th>\n",
       "      <th>Total Incidents</th>\n",
       "    </tr>\n",
       "  </thead>\n",
       "  <tbody>\n",
       "    <tr>\n",
       "      <th>0</th>\n",
       "      <td>09/02/2017</td>\n",
       "      <td>23:30:00</td>\n",
       "      <td>3JK</td>\n",
       "      <td>4200 AUDREY AVE</td>\n",
       "      <td>ROBBERY - RESIDENCE</td>\n",
       "      <td>I</td>\n",
       "      <td>KNIFE</td>\n",
       "      <td>913.0</td>\n",
       "      <td>SOUTHERN</td>\n",
       "      <td>Brooklyn</td>\n",
       "      <td>-76.60541</td>\n",
       "      <td>39.22951</td>\n",
       "      <td>(39.2295100000, -76.6054100000)</td>\n",
       "      <td>ROW/TOWNHO</td>\n",
       "      <td>1</td>\n",
       "    </tr>\n",
       "    <tr>\n",
       "      <th>1</th>\n",
       "      <td>09/02/2017</td>\n",
       "      <td>23:00:00</td>\n",
       "      <td>7A</td>\n",
       "      <td>800 NEWINGTON AVE</td>\n",
       "      <td>AUTO THEFT</td>\n",
       "      <td>O</td>\n",
       "      <td>NaN</td>\n",
       "      <td>133.0</td>\n",
       "      <td>CENTRAL</td>\n",
       "      <td>Reservoir Hill</td>\n",
       "      <td>-76.63217</td>\n",
       "      <td>39.31360</td>\n",
       "      <td>(39.3136000000, -76.6321700000)</td>\n",
       "      <td>STREET</td>\n",
       "      <td>1</td>\n",
       "    </tr>\n",
       "    <tr>\n",
       "      <th>2</th>\n",
       "      <td>09/02/2017</td>\n",
       "      <td>22:53:00</td>\n",
       "      <td>9S</td>\n",
       "      <td>600 RADNOR AV</td>\n",
       "      <td>SHOOTING</td>\n",
       "      <td>Outside</td>\n",
       "      <td>FIREARM</td>\n",
       "      <td>524.0</td>\n",
       "      <td>NORTHERN</td>\n",
       "      <td>Winston-Govans</td>\n",
       "      <td>-76.60697</td>\n",
       "      <td>39.34768</td>\n",
       "      <td>(39.3476800000, -76.6069700000)</td>\n",
       "      <td>Street</td>\n",
       "      <td>1</td>\n",
       "    </tr>\n",
       "    <tr>\n",
       "      <th>3</th>\n",
       "      <td>09/02/2017</td>\n",
       "      <td>22:50:00</td>\n",
       "      <td>4C</td>\n",
       "      <td>1800 RAMSAY ST</td>\n",
       "      <td>AGG. ASSAULT</td>\n",
       "      <td>I</td>\n",
       "      <td>OTHER</td>\n",
       "      <td>934.0</td>\n",
       "      <td>SOUTHERN</td>\n",
       "      <td>Carrollton Ridge</td>\n",
       "      <td>-76.64526</td>\n",
       "      <td>39.28315</td>\n",
       "      <td>(39.2831500000, -76.6452600000)</td>\n",
       "      <td>ROW/TOWNHO</td>\n",
       "      <td>1</td>\n",
       "    </tr>\n",
       "    <tr>\n",
       "      <th>4</th>\n",
       "      <td>09/02/2017</td>\n",
       "      <td>22:31:00</td>\n",
       "      <td>4E</td>\n",
       "      <td>100 LIGHT ST</td>\n",
       "      <td>COMMON ASSAULT</td>\n",
       "      <td>O</td>\n",
       "      <td>HANDS</td>\n",
       "      <td>113.0</td>\n",
       "      <td>CENTRAL</td>\n",
       "      <td>Downtown West</td>\n",
       "      <td>-76.61365</td>\n",
       "      <td>39.28756</td>\n",
       "      <td>(39.2875600000, -76.6136500000)</td>\n",
       "      <td>STREET</td>\n",
       "      <td>1</td>\n",
       "    </tr>\n",
       "  </tbody>\n",
       "</table>\n",
       "</div>"
      ],
      "text/plain": [
       "    CrimeDate CrimeTime CrimeCode           Location          Description  \\\n",
       "0  09/02/2017  23:30:00       3JK    4200 AUDREY AVE  ROBBERY - RESIDENCE   \n",
       "1  09/02/2017  23:00:00        7A  800 NEWINGTON AVE           AUTO THEFT   \n",
       "2  09/02/2017  22:53:00        9S      600 RADNOR AV             SHOOTING   \n",
       "3  09/02/2017  22:50:00        4C     1800 RAMSAY ST         AGG. ASSAULT   \n",
       "4  09/02/2017  22:31:00        4E       100 LIGHT ST       COMMON ASSAULT   \n",
       "\n",
       "  Inside/Outside   Weapon   Post  District      Neighborhood  Longitude  \\\n",
       "0              I    KNIFE  913.0  SOUTHERN          Brooklyn  -76.60541   \n",
       "1              O      NaN  133.0   CENTRAL    Reservoir Hill  -76.63217   \n",
       "2        Outside  FIREARM  524.0  NORTHERN    Winston-Govans  -76.60697   \n",
       "3              I    OTHER  934.0  SOUTHERN  Carrollton Ridge  -76.64526   \n",
       "4              O    HANDS  113.0   CENTRAL     Downtown West  -76.61365   \n",
       "\n",
       "   Latitude                       Location 1     Premise  Total Incidents  \n",
       "0  39.22951  (39.2295100000, -76.6054100000)  ROW/TOWNHO                1  \n",
       "1  39.31360  (39.3136000000, -76.6321700000)      STREET                1  \n",
       "2  39.34768  (39.3476800000, -76.6069700000)      Street                1  \n",
       "3  39.28315  (39.2831500000, -76.6452600000)  ROW/TOWNHO                1  \n",
       "4  39.28756  (39.2875600000, -76.6136500000)      STREET                1  "
      ]
     },
     "execution_count": 6,
     "metadata": {},
     "output_type": "execute_result"
    }
   ],
   "source": [
    "crime_df = pd.read_csv('BPD_Part_1_Victim_Based_Crime_Data.csv')\n",
    "crime_df.head()"
   ]
  },
  {
   "cell_type": "code",
   "execution_count": 7,
   "metadata": {},
   "outputs": [
    {
     "name": "stdout",
     "output_type": "stream",
     "text": [
      "<class 'pandas.core.frame.DataFrame'>\n",
      "RangeIndex: 276529 entries, 0 to 276528\n",
      "Data columns (total 15 columns):\n",
      " #   Column           Non-Null Count   Dtype  \n",
      "---  ------           --------------   -----  \n",
      " 0   CrimeDate        276529 non-null  object \n",
      " 1   CrimeTime        276529 non-null  object \n",
      " 2   CrimeCode        276529 non-null  object \n",
      " 3   Location         274322 non-null  object \n",
      " 4   Description      276529 non-null  object \n",
      " 5   Inside/Outside   266250 non-null  object \n",
      " 6   Weapon           95577 non-null   object \n",
      " 7   Post             276305 non-null  float64\n",
      " 8   District         276449 non-null  object \n",
      " 9   Neighborhood     273789 non-null  object \n",
      " 10  Longitude        274325 non-null  float64\n",
      " 11  Latitude         274325 non-null  float64\n",
      " 12  Location 1       274325 non-null  object \n",
      " 13  Premise          265772 non-null  object \n",
      " 14  Total Incidents  276529 non-null  int64  \n",
      "dtypes: float64(3), int64(1), object(11)\n",
      "memory usage: 31.6+ MB\n"
     ]
    }
   ],
   "source": [
    "crime_df.info()"
   ]
  },
  {
   "cell_type": "code",
   "execution_count": 8,
   "metadata": {},
   "outputs": [
    {
     "data": {
      "text/html": [
       "<div>\n",
       "<style scoped>\n",
       "    .dataframe tbody tr th:only-of-type {\n",
       "        vertical-align: middle;\n",
       "    }\n",
       "\n",
       "    .dataframe tbody tr th {\n",
       "        vertical-align: top;\n",
       "    }\n",
       "\n",
       "    .dataframe thead th {\n",
       "        text-align: right;\n",
       "    }\n",
       "</style>\n",
       "<table border=\"1\" class=\"dataframe\">\n",
       "  <thead>\n",
       "    <tr style=\"text-align: right;\">\n",
       "      <th></th>\n",
       "      <th>Description</th>\n",
       "      <th>Total Incidents</th>\n",
       "    </tr>\n",
       "  </thead>\n",
       "  <tbody>\n",
       "    <tr>\n",
       "      <th>0</th>\n",
       "      <td>LARCENY</td>\n",
       "      <td>60528</td>\n",
       "    </tr>\n",
       "    <tr>\n",
       "      <th>1</th>\n",
       "      <td>COMMON ASSAULT</td>\n",
       "      <td>45518</td>\n",
       "    </tr>\n",
       "    <tr>\n",
       "      <th>2</th>\n",
       "      <td>BURGLARY</td>\n",
       "      <td>42538</td>\n",
       "    </tr>\n",
       "    <tr>\n",
       "      <th>3</th>\n",
       "      <td>LARCENY FROM AUTO</td>\n",
       "      <td>36295</td>\n",
       "    </tr>\n",
       "    <tr>\n",
       "      <th>4</th>\n",
       "      <td>AGG. ASSAULT</td>\n",
       "      <td>27513</td>\n",
       "    </tr>\n",
       "  </tbody>\n",
       "</table>\n",
       "</div>"
      ],
      "text/plain": [
       "         Description  Total Incidents\n",
       "0            LARCENY            60528\n",
       "1     COMMON ASSAULT            45518\n",
       "2           BURGLARY            42538\n",
       "3  LARCENY FROM AUTO            36295\n",
       "4       AGG. ASSAULT            27513"
      ]
     },
     "execution_count": 8,
     "metadata": {},
     "output_type": "execute_result"
    }
   ],
   "source": [
    "#попробуем самую простую столбчатую диаграмму для разных типов преступлений\n",
    "\n",
    "cr_barch = (crime_df\n",
    "            .groupby('Description')[['Total Incidents']].count()\n",
    "            .sort_values('Total Incidents', ascending=False)\n",
    "            .reset_index()\n",
    ")\n",
    "cr_barch.head()"
   ]
  },
  {
   "cell_type": "code",
   "execution_count": 9,
   "metadata": {},
   "outputs": [
    {
     "data": {
      "text/plain": [
       "Text(0.5, 1.0, 'Crime in Baltimore 2012-2017')"
      ]
     },
     "execution_count": 9,
     "metadata": {},
     "output_type": "execute_result"
    },
    {
     "data": {
      "image/png": "[encoded data removed]",
      "text/plain": [
       "<Figure size 792x504 with 1 Axes>"
      ]
     },
     "metadata": {
      "needs_background": "light"
     },
     "output_type": "display_data"
    }
   ],
   "source": [
    "plt.barh(cr_barch['Description'], cr_barch['Total Incidents'])\n",
    "plt.xlabel('Total Incidents')\n",
    "plt.ylabel('Crime Types')\n",
    "plt.title('Crime in Baltimore 2012-2017')\n",
    "\n",
    "#предсказуемо видно, что обычные кражи сильно опережают все остальное (ну и кражи со взломом и из машины не так далеко)"
   ]
  },
  {
   "cell_type": "code",
   "execution_count": 10,
   "metadata": {},
   "outputs": [],
   "source": [
    "#добавим графу с годами отдельно в датафрейм, чтобы посмотреть как что меняется с точностью до года\n",
    "\n",
    "def get_year(df):\n",
    "    \n",
    "    y = re.search(r'\\d{4}', df['CrimeDate'])\n",
    "        \n",
    "    if y:\n",
    "        return y.group()"
   ]
  },
  {
   "cell_type": "code",
   "execution_count": 11,
   "metadata": {},
   "outputs": [
    {
     "data": {
      "text/html": [
       "<div>\n",
       "<style scoped>\n",
       "    .dataframe tbody tr th:only-of-type {\n",
       "        vertical-align: middle;\n",
       "    }\n",
       "\n",
       "    .dataframe tbody tr th {\n",
       "        vertical-align: top;\n",
       "    }\n",
       "\n",
       "    .dataframe thead th {\n",
       "        text-align: right;\n",
       "    }\n",
       "</style>\n",
       "<table border=\"1\" class=\"dataframe\">\n",
       "  <thead>\n",
       "    <tr style=\"text-align: right;\">\n",
       "      <th></th>\n",
       "      <th>CrimeDate</th>\n",
       "      <th>CrimeTime</th>\n",
       "      <th>CrimeCode</th>\n",
       "      <th>Location</th>\n",
       "      <th>Description</th>\n",
       "      <th>Inside/Outside</th>\n",
       "      <th>Weapon</th>\n",
       "      <th>Post</th>\n",
       "      <th>District</th>\n",
       "      <th>Neighborhood</th>\n",
       "      <th>Longitude</th>\n",
       "      <th>Latitude</th>\n",
       "      <th>Location 1</th>\n",
       "      <th>Premise</th>\n",
       "      <th>Total Incidents</th>\n",
       "      <th>Year</th>\n",
       "    </tr>\n",
       "  </thead>\n",
       "  <tbody>\n",
       "    <tr>\n",
       "      <th>0</th>\n",
       "      <td>09/02/2017</td>\n",
       "      <td>23:30:00</td>\n",
       "      <td>3JK</td>\n",
       "      <td>4200 AUDREY AVE</td>\n",
       "      <td>ROBBERY - RESIDENCE</td>\n",
       "      <td>I</td>\n",
       "      <td>KNIFE</td>\n",
       "      <td>913.0</td>\n",
       "      <td>SOUTHERN</td>\n",
       "      <td>Brooklyn</td>\n",
       "      <td>-76.60541</td>\n",
       "      <td>39.22951</td>\n",
       "      <td>(39.2295100000, -76.6054100000)</td>\n",
       "      <td>ROW/TOWNHO</td>\n",
       "      <td>1</td>\n",
       "      <td>2017</td>\n",
       "    </tr>\n",
       "    <tr>\n",
       "      <th>1</th>\n",
       "      <td>09/02/2017</td>\n",
       "      <td>23:00:00</td>\n",
       "      <td>7A</td>\n",
       "      <td>800 NEWINGTON AVE</td>\n",
       "      <td>AUTO THEFT</td>\n",
       "      <td>O</td>\n",
       "      <td>NaN</td>\n",
       "      <td>133.0</td>\n",
       "      <td>CENTRAL</td>\n",
       "      <td>Reservoir Hill</td>\n",
       "      <td>-76.63217</td>\n",
       "      <td>39.31360</td>\n",
       "      <td>(39.3136000000, -76.6321700000)</td>\n",
       "      <td>STREET</td>\n",
       "      <td>1</td>\n",
       "      <td>2017</td>\n",
       "    </tr>\n",
       "    <tr>\n",
       "      <th>2</th>\n",
       "      <td>09/02/2017</td>\n",
       "      <td>22:53:00</td>\n",
       "      <td>9S</td>\n",
       "      <td>600 RADNOR AV</td>\n",
       "      <td>SHOOTING</td>\n",
       "      <td>Outside</td>\n",
       "      <td>FIREARM</td>\n",
       "      <td>524.0</td>\n",
       "      <td>NORTHERN</td>\n",
       "      <td>Winston-Govans</td>\n",
       "      <td>-76.60697</td>\n",
       "      <td>39.34768</td>\n",
       "      <td>(39.3476800000, -76.6069700000)</td>\n",
       "      <td>Street</td>\n",
       "      <td>1</td>\n",
       "      <td>2017</td>\n",
       "    </tr>\n",
       "    <tr>\n",
       "      <th>3</th>\n",
       "      <td>09/02/2017</td>\n",
       "      <td>22:50:00</td>\n",
       "      <td>4C</td>\n",
       "      <td>1800 RAMSAY ST</td>\n",
       "      <td>AGG. ASSAULT</td>\n",
       "      <td>I</td>\n",
       "      <td>OTHER</td>\n",
       "      <td>934.0</td>\n",
       "      <td>SOUTHERN</td>\n",
       "      <td>Carrollton Ridge</td>\n",
       "      <td>-76.64526</td>\n",
       "      <td>39.28315</td>\n",
       "      <td>(39.2831500000, -76.6452600000)</td>\n",
       "      <td>ROW/TOWNHO</td>\n",
       "      <td>1</td>\n",
       "      <td>2017</td>\n",
       "    </tr>\n",
       "    <tr>\n",
       "      <th>4</th>\n",
       "      <td>09/02/2017</td>\n",
       "      <td>22:31:00</td>\n",
       "      <td>4E</td>\n",
       "      <td>100 LIGHT ST</td>\n",
       "      <td>COMMON ASSAULT</td>\n",
       "      <td>O</td>\n",
       "      <td>HANDS</td>\n",
       "      <td>113.0</td>\n",
       "      <td>CENTRAL</td>\n",
       "      <td>Downtown West</td>\n",
       "      <td>-76.61365</td>\n",
       "      <td>39.28756</td>\n",
       "      <td>(39.2875600000, -76.6136500000)</td>\n",
       "      <td>STREET</td>\n",
       "      <td>1</td>\n",
       "      <td>2017</td>\n",
       "    </tr>\n",
       "  </tbody>\n",
       "</table>\n",
       "</div>"
      ],
      "text/plain": [
       "    CrimeDate CrimeTime CrimeCode           Location          Description  \\\n",
       "0  09/02/2017  23:30:00       3JK    4200 AUDREY AVE  ROBBERY - RESIDENCE   \n",
       "1  09/02/2017  23:00:00        7A  800 NEWINGTON AVE           AUTO THEFT   \n",
       "2  09/02/2017  22:53:00        9S      600 RADNOR AV             SHOOTING   \n",
       "3  09/02/2017  22:50:00        4C     1800 RAMSAY ST         AGG. ASSAULT   \n",
       "4  09/02/2017  22:31:00        4E       100 LIGHT ST       COMMON ASSAULT   \n",
       "\n",
       "  Inside/Outside   Weapon   Post  District      Neighborhood  Longitude  \\\n",
       "0              I    KNIFE  913.0  SOUTHERN          Brooklyn  -76.60541   \n",
       "1              O      NaN  133.0   CENTRAL    Reservoir Hill  -76.63217   \n",
       "2        Outside  FIREARM  524.0  NORTHERN    Winston-Govans  -76.60697   \n",
       "3              I    OTHER  934.0  SOUTHERN  Carrollton Ridge  -76.64526   \n",
       "4              O    HANDS  113.0   CENTRAL     Downtown West  -76.61365   \n",
       "\n",
       "   Latitude                       Location 1     Premise  Total Incidents  \\\n",
       "0  39.22951  (39.2295100000, -76.6054100000)  ROW/TOWNHO                1   \n",
       "1  39.31360  (39.3136000000, -76.6321700000)      STREET                1   \n",
       "2  39.34768  (39.3476800000, -76.6069700000)      Street                1   \n",
       "3  39.28315  (39.2831500000, -76.6452600000)  ROW/TOWNHO                1   \n",
       "4  39.28756  (39.2875600000, -76.6136500000)      STREET                1   \n",
       "\n",
       "   Year  \n",
       "0  2017  \n",
       "1  2017  \n",
       "2  2017  \n",
       "3  2017  \n",
       "4  2017  "
      ]
     },
     "execution_count": 11,
     "metadata": {},
     "output_type": "execute_result"
    }
   ],
   "source": [
    "crime_df['Year'] = crime_df.apply(get_year, axis=1)\n",
    "crime_df.head()"
   ]
  },
  {
   "cell_type": "code",
   "execution_count": 12,
   "metadata": {},
   "outputs": [
    {
     "data": {
      "text/html": [
       "<div>\n",
       "<style scoped>\n",
       "    .dataframe tbody tr th:only-of-type {\n",
       "        vertical-align: middle;\n",
       "    }\n",
       "\n",
       "    .dataframe tbody tr th {\n",
       "        vertical-align: top;\n",
       "    }\n",
       "\n",
       "    .dataframe thead th {\n",
       "        text-align: right;\n",
       "    }\n",
       "</style>\n",
       "<table border=\"1\" class=\"dataframe\">\n",
       "  <thead>\n",
       "    <tr style=\"text-align: right;\">\n",
       "      <th>Description</th>\n",
       "      <th>AGG. ASSAULT</th>\n",
       "      <th>ARSON</th>\n",
       "      <th>ASSAULT BY THREAT</th>\n",
       "      <th>AUTO THEFT</th>\n",
       "      <th>BURGLARY</th>\n",
       "      <th>COMMON ASSAULT</th>\n",
       "      <th>HOMICIDE</th>\n",
       "      <th>LARCENY</th>\n",
       "      <th>LARCENY FROM AUTO</th>\n",
       "      <th>RAPE</th>\n",
       "      <th>ROBBERY - CARJACKING</th>\n",
       "      <th>ROBBERY - COMMERCIAL</th>\n",
       "      <th>ROBBERY - RESIDENCE</th>\n",
       "      <th>ROBBERY - STREET</th>\n",
       "      <th>SHOOTING</th>\n",
       "    </tr>\n",
       "    <tr>\n",
       "      <th>Year</th>\n",
       "      <th></th>\n",
       "      <th></th>\n",
       "      <th></th>\n",
       "      <th></th>\n",
       "      <th></th>\n",
       "      <th></th>\n",
       "      <th></th>\n",
       "      <th></th>\n",
       "      <th></th>\n",
       "      <th></th>\n",
       "      <th></th>\n",
       "      <th></th>\n",
       "      <th></th>\n",
       "      <th></th>\n",
       "      <th></th>\n",
       "    </tr>\n",
       "  </thead>\n",
       "  <tbody>\n",
       "    <tr>\n",
       "      <th>2012</th>\n",
       "      <td>4870</td>\n",
       "      <td>242</td>\n",
       "      <td>688</td>\n",
       "      <td>3950</td>\n",
       "      <td>7876</td>\n",
       "      <td>9261</td>\n",
       "      <td>216</td>\n",
       "      <td>10767</td>\n",
       "      <td>7034</td>\n",
       "      <td>315</td>\n",
       "      <td>182</td>\n",
       "      <td>558</td>\n",
       "      <td>535</td>\n",
       "      <td>2712</td>\n",
       "      <td>369</td>\n",
       "    </tr>\n",
       "    <tr>\n",
       "      <th>2013</th>\n",
       "      <td>4605</td>\n",
       "      <td>274</td>\n",
       "      <td>636</td>\n",
       "      <td>4542</td>\n",
       "      <td>7464</td>\n",
       "      <td>8469</td>\n",
       "      <td>235</td>\n",
       "      <td>12047</td>\n",
       "      <td>6516</td>\n",
       "      <td>280</td>\n",
       "      <td>124</td>\n",
       "      <td>560</td>\n",
       "      <td>547</td>\n",
       "      <td>2870</td>\n",
       "      <td>402</td>\n",
       "    </tr>\n",
       "    <tr>\n",
       "      <th>2014</th>\n",
       "      <td>4260</td>\n",
       "      <td>215</td>\n",
       "      <td>509</td>\n",
       "      <td>4396</td>\n",
       "      <td>6869</td>\n",
       "      <td>7458</td>\n",
       "      <td>211</td>\n",
       "      <td>11098</td>\n",
       "      <td>6423</td>\n",
       "      <td>249</td>\n",
       "      <td>156</td>\n",
       "      <td>626</td>\n",
       "      <td>468</td>\n",
       "      <td>2662</td>\n",
       "      <td>369</td>\n",
       "    </tr>\n",
       "    <tr>\n",
       "      <th>2015</th>\n",
       "      <td>4758</td>\n",
       "      <td>286</td>\n",
       "      <td>553</td>\n",
       "      <td>5532</td>\n",
       "      <td>7826</td>\n",
       "      <td>6981</td>\n",
       "      <td>342</td>\n",
       "      <td>10309</td>\n",
       "      <td>6620</td>\n",
       "      <td>281</td>\n",
       "      <td>283</td>\n",
       "      <td>874</td>\n",
       "      <td>433</td>\n",
       "      <td>3127</td>\n",
       "      <td>636</td>\n",
       "    </tr>\n",
       "    <tr>\n",
       "      <th>2016</th>\n",
       "      <td>5112</td>\n",
       "      <td>263</td>\n",
       "      <td>637</td>\n",
       "      <td>5223</td>\n",
       "      <td>7356</td>\n",
       "      <td>7465</td>\n",
       "      <td>318</td>\n",
       "      <td>9829</td>\n",
       "      <td>6019</td>\n",
       "      <td>286</td>\n",
       "      <td>412</td>\n",
       "      <td>857</td>\n",
       "      <td>522</td>\n",
       "      <td>3782</td>\n",
       "      <td>668</td>\n",
       "    </tr>\n",
       "    <tr>\n",
       "      <th>2017</th>\n",
       "      <td>3908</td>\n",
       "      <td>184</td>\n",
       "      <td>480</td>\n",
       "      <td>3195</td>\n",
       "      <td>5147</td>\n",
       "      <td>5884</td>\n",
       "      <td>237</td>\n",
       "      <td>6478</td>\n",
       "      <td>3683</td>\n",
       "      <td>226</td>\n",
       "      <td>371</td>\n",
       "      <td>666</td>\n",
       "      <td>361</td>\n",
       "      <td>2538</td>\n",
       "      <td>466</td>\n",
       "    </tr>\n",
       "  </tbody>\n",
       "</table>\n",
       "</div>"
      ],
      "text/plain": [
       "Description  AGG. ASSAULT  ARSON  ASSAULT BY THREAT  AUTO THEFT  BURGLARY  \\\n",
       "Year                                                                        \n",
       "2012                 4870    242                688        3950      7876   \n",
       "2013                 4605    274                636        4542      7464   \n",
       "2014                 4260    215                509        4396      6869   \n",
       "2015                 4758    286                553        5532      7826   \n",
       "2016                 5112    263                637        5223      7356   \n",
       "2017                 3908    184                480        3195      5147   \n",
       "\n",
       "Description  COMMON ASSAULT  HOMICIDE  LARCENY  LARCENY FROM AUTO  RAPE  \\\n",
       "Year                                                                      \n",
       "2012                   9261       216    10767               7034   315   \n",
       "2013                   8469       235    12047               6516   280   \n",
       "2014                   7458       211    11098               6423   249   \n",
       "2015                   6981       342    10309               6620   281   \n",
       "2016                   7465       318     9829               6019   286   \n",
       "2017                   5884       237     6478               3683   226   \n",
       "\n",
       "Description  ROBBERY - CARJACKING  ROBBERY - COMMERCIAL  ROBBERY - RESIDENCE  \\\n",
       "Year                                                                           \n",
       "2012                          182                   558                  535   \n",
       "2013                          124                   560                  547   \n",
       "2014                          156                   626                  468   \n",
       "2015                          283                   874                  433   \n",
       "2016                          412                   857                  522   \n",
       "2017                          371                   666                  361   \n",
       "\n",
       "Description  ROBBERY - STREET  SHOOTING  \n",
       "Year                                     \n",
       "2012                     2712       369  \n",
       "2013                     2870       402  \n",
       "2014                     2662       369  \n",
       "2015                     3127       636  \n",
       "2016                     3782       668  \n",
       "2017                     2538       466  "
      ]
     },
     "execution_count": 12,
     "metadata": {},
     "output_type": "execute_result"
    }
   ],
   "source": [
    "#допустим, попробуем тепловую карту, вдруг там интересно? тогда нужна кросс-таблица\n",
    "\n",
    "crime_types_by_years = crime_df.pivot_table(\n",
    "                        index='Year', \n",
    "                        columns='Description', \n",
    "                        values='Total Incidents', \n",
    "                        aggfunc=sum).fillna(0)\n",
    "\n",
    "crime_types_by_years"
   ]
  },
  {
   "cell_type": "code",
   "execution_count": 13,
   "metadata": {},
   "outputs": [
    {
     "data": {
      "image/png": "[encoded data removed]",
      "text/plain": [
       "<Figure size 792x504 with 2 Axes>"
      ]
     },
     "metadata": {
      "needs_background": "light"
     },
     "output_type": "display_data"
    }
   ],
   "source": [
    "ax = sns.heatmap(crime_types_by_years)\n",
    "\n",
    "#видим некоторый прирост уличных грабежей в 2016 и как будто общий спад краж в послеждние годы, \n",
    "#но особенной пищи для размышлений тут нет"
   ]
  },
  {
   "cell_type": "code",
   "execution_count": 14,
   "metadata": {},
   "outputs": [
    {
     "data": {
      "text/html": [
       "<div>\n",
       "<style scoped>\n",
       "    .dataframe tbody tr th:only-of-type {\n",
       "        vertical-align: middle;\n",
       "    }\n",
       "\n",
       "    .dataframe tbody tr th {\n",
       "        vertical-align: top;\n",
       "    }\n",
       "\n",
       "    .dataframe thead th {\n",
       "        text-align: right;\n",
       "    }\n",
       "</style>\n",
       "<table border=\"1\" class=\"dataframe\">\n",
       "  <thead>\n",
       "    <tr style=\"text-align: right;\">\n",
       "      <th>Description</th>\n",
       "      <th>AGG. ASSAULT</th>\n",
       "      <th>ARSON</th>\n",
       "      <th>ASSAULT BY THREAT</th>\n",
       "      <th>AUTO THEFT</th>\n",
       "      <th>BURGLARY</th>\n",
       "      <th>COMMON ASSAULT</th>\n",
       "      <th>HOMICIDE</th>\n",
       "      <th>LARCENY</th>\n",
       "      <th>LARCENY FROM AUTO</th>\n",
       "      <th>RAPE</th>\n",
       "      <th>ROBBERY - CARJACKING</th>\n",
       "      <th>ROBBERY - COMMERCIAL</th>\n",
       "      <th>ROBBERY - RESIDENCE</th>\n",
       "      <th>ROBBERY - STREET</th>\n",
       "      <th>SHOOTING</th>\n",
       "    </tr>\n",
       "    <tr>\n",
       "      <th>District</th>\n",
       "      <th></th>\n",
       "      <th></th>\n",
       "      <th></th>\n",
       "      <th></th>\n",
       "      <th></th>\n",
       "      <th></th>\n",
       "      <th></th>\n",
       "      <th></th>\n",
       "      <th></th>\n",
       "      <th></th>\n",
       "      <th></th>\n",
       "      <th></th>\n",
       "      <th></th>\n",
       "      <th></th>\n",
       "      <th></th>\n",
       "    </tr>\n",
       "  </thead>\n",
       "  <tbody>\n",
       "    <tr>\n",
       "      <th>CENTRAL</th>\n",
       "      <td>2576</td>\n",
       "      <td>85</td>\n",
       "      <td>400</td>\n",
       "      <td>1745</td>\n",
       "      <td>2882</td>\n",
       "      <td>5208</td>\n",
       "      <td>104</td>\n",
       "      <td>8998</td>\n",
       "      <td>5795</td>\n",
       "      <td>197</td>\n",
       "      <td>149</td>\n",
       "      <td>502</td>\n",
       "      <td>195</td>\n",
       "      <td>2602</td>\n",
       "      <td>193</td>\n",
       "    </tr>\n",
       "    <tr>\n",
       "      <th>EASTERN</th>\n",
       "      <td>3201</td>\n",
       "      <td>132</td>\n",
       "      <td>283</td>\n",
       "      <td>1865</td>\n",
       "      <td>3155</td>\n",
       "      <td>5124</td>\n",
       "      <td>227</td>\n",
       "      <td>4388</td>\n",
       "      <td>2642</td>\n",
       "      <td>156</td>\n",
       "      <td>110</td>\n",
       "      <td>297</td>\n",
       "      <td>264</td>\n",
       "      <td>1346</td>\n",
       "      <td>445</td>\n",
       "    </tr>\n",
       "    <tr>\n",
       "      <th>NORTHEASTERN</th>\n",
       "      <td>3730</td>\n",
       "      <td>272</td>\n",
       "      <td>682</td>\n",
       "      <td>4995</td>\n",
       "      <td>7869</td>\n",
       "      <td>6858</td>\n",
       "      <td>206</td>\n",
       "      <td>8653</td>\n",
       "      <td>5069</td>\n",
       "      <td>244</td>\n",
       "      <td>205</td>\n",
       "      <td>666</td>\n",
       "      <td>498</td>\n",
       "      <td>2733</td>\n",
       "      <td>326</td>\n",
       "    </tr>\n",
       "    <tr>\n",
       "      <th>NORTHERN</th>\n",
       "      <td>2327</td>\n",
       "      <td>130</td>\n",
       "      <td>307</td>\n",
       "      <td>2765</td>\n",
       "      <td>5978</td>\n",
       "      <td>4121</td>\n",
       "      <td>117</td>\n",
       "      <td>7393</td>\n",
       "      <td>4980</td>\n",
       "      <td>192</td>\n",
       "      <td>179</td>\n",
       "      <td>587</td>\n",
       "      <td>324</td>\n",
       "      <td>2067</td>\n",
       "      <td>198</td>\n",
       "    </tr>\n",
       "    <tr>\n",
       "      <th>NORTHWESTERN</th>\n",
       "      <td>2786</td>\n",
       "      <td>185</td>\n",
       "      <td>404</td>\n",
       "      <td>3517</td>\n",
       "      <td>4748</td>\n",
       "      <td>4072</td>\n",
       "      <td>215</td>\n",
       "      <td>5808</td>\n",
       "      <td>3116</td>\n",
       "      <td>153</td>\n",
       "      <td>228</td>\n",
       "      <td>487</td>\n",
       "      <td>281</td>\n",
       "      <td>1756</td>\n",
       "      <td>305</td>\n",
       "    </tr>\n",
       "    <tr>\n",
       "      <th>SOUTHEASTERN</th>\n",
       "      <td>3253</td>\n",
       "      <td>101</td>\n",
       "      <td>443</td>\n",
       "      <td>2650</td>\n",
       "      <td>5227</td>\n",
       "      <td>6213</td>\n",
       "      <td>95</td>\n",
       "      <td>9336</td>\n",
       "      <td>6709</td>\n",
       "      <td>170</td>\n",
       "      <td>148</td>\n",
       "      <td>598</td>\n",
       "      <td>303</td>\n",
       "      <td>2881</td>\n",
       "      <td>164</td>\n",
       "    </tr>\n",
       "    <tr>\n",
       "      <th>SOUTHERN</th>\n",
       "      <td>3420</td>\n",
       "      <td>196</td>\n",
       "      <td>324</td>\n",
       "      <td>3040</td>\n",
       "      <td>5231</td>\n",
       "      <td>5231</td>\n",
       "      <td>133</td>\n",
       "      <td>7183</td>\n",
       "      <td>3724</td>\n",
       "      <td>202</td>\n",
       "      <td>170</td>\n",
       "      <td>424</td>\n",
       "      <td>425</td>\n",
       "      <td>1802</td>\n",
       "      <td>345</td>\n",
       "    </tr>\n",
       "    <tr>\n",
       "      <th>SOUTHWESTERN</th>\n",
       "      <td>2985</td>\n",
       "      <td>216</td>\n",
       "      <td>342</td>\n",
       "      <td>3385</td>\n",
       "      <td>4569</td>\n",
       "      <td>4295</td>\n",
       "      <td>208</td>\n",
       "      <td>4872</td>\n",
       "      <td>2505</td>\n",
       "      <td>164</td>\n",
       "      <td>166</td>\n",
       "      <td>349</td>\n",
       "      <td>305</td>\n",
       "      <td>1316</td>\n",
       "      <td>415</td>\n",
       "    </tr>\n",
       "    <tr>\n",
       "      <th>WESTERN</th>\n",
       "      <td>3226</td>\n",
       "      <td>147</td>\n",
       "      <td>318</td>\n",
       "      <td>2868</td>\n",
       "      <td>2876</td>\n",
       "      <td>4373</td>\n",
       "      <td>254</td>\n",
       "      <td>3883</td>\n",
       "      <td>1744</td>\n",
       "      <td>158</td>\n",
       "      <td>170</td>\n",
       "      <td>230</td>\n",
       "      <td>270</td>\n",
       "      <td>1182</td>\n",
       "      <td>519</td>\n",
       "    </tr>\n",
       "  </tbody>\n",
       "</table>\n",
       "</div>"
      ],
      "text/plain": [
       "Description   AGG. ASSAULT  ARSON  ASSAULT BY THREAT  AUTO THEFT  BURGLARY  \\\n",
       "District                                                                     \n",
       "CENTRAL               2576     85                400        1745      2882   \n",
       "EASTERN               3201    132                283        1865      3155   \n",
       "NORTHEASTERN          3730    272                682        4995      7869   \n",
       "NORTHERN              2327    130                307        2765      5978   \n",
       "NORTHWESTERN          2786    185                404        3517      4748   \n",
       "SOUTHEASTERN          3253    101                443        2650      5227   \n",
       "SOUTHERN              3420    196                324        3040      5231   \n",
       "SOUTHWESTERN          2985    216                342        3385      4569   \n",
       "WESTERN               3226    147                318        2868      2876   \n",
       "\n",
       "Description   COMMON ASSAULT  HOMICIDE  LARCENY  LARCENY FROM AUTO  RAPE  \\\n",
       "District                                                                   \n",
       "CENTRAL                 5208       104     8998               5795   197   \n",
       "EASTERN                 5124       227     4388               2642   156   \n",
       "NORTHEASTERN            6858       206     8653               5069   244   \n",
       "NORTHERN                4121       117     7393               4980   192   \n",
       "NORTHWESTERN            4072       215     5808               3116   153   \n",
       "SOUTHEASTERN            6213        95     9336               6709   170   \n",
       "SOUTHERN                5231       133     7183               3724   202   \n",
       "SOUTHWESTERN            4295       208     4872               2505   164   \n",
       "WESTERN                 4373       254     3883               1744   158   \n",
       "\n",
       "Description   ROBBERY - CARJACKING  ROBBERY - COMMERCIAL  ROBBERY - RESIDENCE  \\\n",
       "District                                                                        \n",
       "CENTRAL                        149                   502                  195   \n",
       "EASTERN                        110                   297                  264   \n",
       "NORTHEASTERN                   205                   666                  498   \n",
       "NORTHERN                       179                   587                  324   \n",
       "NORTHWESTERN                   228                   487                  281   \n",
       "SOUTHEASTERN                   148                   598                  303   \n",
       "SOUTHERN                       170                   424                  425   \n",
       "SOUTHWESTERN                   166                   349                  305   \n",
       "WESTERN                        170                   230                  270   \n",
       "\n",
       "Description   ROBBERY - STREET  SHOOTING  \n",
       "District                                  \n",
       "CENTRAL                   2602       193  \n",
       "EASTERN                   1346       445  \n",
       "NORTHEASTERN              2733       326  \n",
       "NORTHERN                  2067       198  \n",
       "NORTHWESTERN              1756       305  \n",
       "SOUTHEASTERN              2881       164  \n",
       "SOUTHERN                  1802       345  \n",
       "SOUTHWESTERN              1316       415  \n",
       "WESTERN                   1182       519  "
      ]
     },
     "execution_count": 14,
     "metadata": {},
     "output_type": "execute_result"
    }
   ],
   "source": [
    "#а если посмотреть по районам?\n",
    "\n",
    "crime_types_by_districts = crime_df.pivot_table(\n",
    "                        index='District', \n",
    "                        columns='Description', \n",
    "                        values='Total Incidents', \n",
    "                        aggfunc=sum).fillna(0)\n",
    "\n",
    "crime_types_by_districts"
   ]
  },
  {
   "cell_type": "code",
   "execution_count": 15,
   "metadata": {},
   "outputs": [
    {
     "data": {
      "text/plain": [
       "<matplotlib.axes._subplots.AxesSubplot at 0x10ec480d0>"
      ]
     },
     "execution_count": 15,
     "metadata": {},
     "output_type": "execute_result"
    },
    {
     "data": {
      "image/png": "[encoded data removed]",
      "text/plain": [
       "<Figure size 792x504 with 2 Axes>"
      ]
     },
     "metadata": {
      "needs_background": "light"
     },
     "output_type": "display_data"
    }
   ],
   "source": [
    "sns.heatmap(crime_types_by_districts)\n",
    "\n",
    "#уже хоть как-то поинтересней — видно, что северо-восток и юго-восток города в целом более криминальные места, чем другие районы\n",
    "#самым благополучным тут смотрится Запад Балтимора "
   ]
  },
  {
   "cell_type": "code",
   "execution_count": 17,
   "metadata": {},
   "outputs": [
    {
     "data": {
      "text/plain": [
       "<matplotlib.axes._subplots.AxesSubplot at 0x1a24eb9810>"
      ]
     },
     "execution_count": 17,
     "metadata": {},
     "output_type": "execute_result"
    },
    {
     "data": {
      "image/png": "[encoded data removed]",
      "text/plain": [
       "<Figure size 792x504 with 1 Axes>"
      ]
     },
     "metadata": {
      "needs_background": "light"
     },
     "output_type": "display_data"
    }
   ],
   "source": [
    "#а вот по отдельным районам (а их 278) такую карту не выстроишь, нужно что-то другое придумывать \n",
    "\n",
    "#вернемся к разбивке по типам преступлений и по годам — может быть, здесь поможет барчарт с накоплением? \n",
    "\n",
    "crime_types_by_years.plot(kind='bar', rot=45, stacked=True)\n",
    "\n",
    "#это, в отличие от тепловой карты, хотя бы можно как-то воспринимать, но все так ровненько, что особых выводом сделать сложно\n",
    "#но видно, что в 2014 почему-то в целом меньше преступлений, а с 2017 — резко меньше (скорее всего, неполные данные за год)\n",
    "#вообще для стольких вариаций явно не очень удачный выбор барчарта — даже цвета начинают повторяться \n",
    "#(долго глядел на аномально большой кусок с шутингами, пока не понял, в чем дело)"
   ]
  },
  {
   "cell_type": "code",
   "execution_count": 18,
   "metadata": {},
   "outputs": [
    {
     "data": {
      "text/plain": [
       "<matplotlib.axes._subplots.AxesSubplot at 0x1a28493d10>"
      ]
     },
     "execution_count": 18,
     "metadata": {},
     "output_type": "execute_result"
    },
    {
     "data": {
      "image/png": "[encoded data removed]",
      "text/plain": [
       "<Figure size 792x504 with 1 Axes>"
      ]
     },
     "metadata": {
      "needs_background": "light"
     },
     "output_type": "display_data"
    }
   ],
   "source": [
    "#все-таки построим что-то более симпатичное из насильственных преступлений против человека, \n",
    "# кажется, aggravated assault это довольно широкое понятие, поэтому преобладает. \n",
    "#Довольно заметный рост числа шутингов и вроде бы убийств в 2015 и 2016\n",
    "\n",
    "crime_types_by_years[['HOMICIDE', 'SHOOTING', 'RAPE', 'AGG. ASSAULT']].plot(kind='bar', rot=45, stacked=True)"
   ]
  },
  {
   "cell_type": "code",
   "execution_count": 19,
   "metadata": {},
   "outputs": [
    {
     "data": {
      "text/plain": [
       "<matplotlib.axes._subplots.AxesSubplot at 0x1a28540110>"
      ]
     },
     "execution_count": 19,
     "metadata": {},
     "output_type": "execute_result"
    },
    {
     "data": {
      "image/png": "[encoded data removed]",
      "text/plain": [
       "<Figure size 792x504 with 1 Axes>"
      ]
     },
     "metadata": {
      "needs_background": "light"
     },
     "output_type": "display_data"
    }
   ],
   "source": [
    "#проверим этот рост шутингов и убийств на другом графике \n",
    "#(и выкинем данные за 2017, потому что с ними явно что-то не то — они ограничены сентябрем)\n",
    "#тут рост убийств и шутингов вполне заметен \n",
    "\n",
    "crime_types_by_years1 = crime_types_by_years.loc[(crime_types_by_years.index != '2017')]\n",
    "\n",
    "crime_types_by_years1[['HOMICIDE', 'SHOOTING', 'RAPE']].plot()"
   ]
  },
  {
   "cell_type": "markdown",
   "metadata": {},
   "source": [
    "Тут пришлось отвлечься, потому что график навел на мысль, что где-то слышал, что вообще проблема gun violence в сша растет с каждым годом — и тут как раз попался на глаза датасет за 2013-2018, быстренько попробую такой же график по годам общий построить\n",
    "\n",
    "данные взял отсюда: https://www.kaggle.com/jameslko/gun-violence-data "
   ]
  },
  {
   "cell_type": "code",
   "execution_count": 20,
   "metadata": {},
   "outputs": [
    {
     "data": {
      "text/html": [
       "<div>\n",
       "<style scoped>\n",
       "    .dataframe tbody tr th:only-of-type {\n",
       "        vertical-align: middle;\n",
       "    }\n",
       "\n",
       "    .dataframe tbody tr th {\n",
       "        vertical-align: top;\n",
       "    }\n",
       "\n",
       "    .dataframe thead th {\n",
       "        text-align: right;\n",
       "    }\n",
       "</style>\n",
       "<table border=\"1\" class=\"dataframe\">\n",
       "  <thead>\n",
       "    <tr style=\"text-align: right;\">\n",
       "      <th></th>\n",
       "      <th>incident_id</th>\n",
       "      <th>date</th>\n",
       "      <th>state</th>\n",
       "      <th>city_or_county</th>\n",
       "      <th>address</th>\n",
       "      <th>n_killed</th>\n",
       "      <th>n_injured</th>\n",
       "      <th>incident_url</th>\n",
       "      <th>source_url</th>\n",
       "      <th>incident_url_fields_missing</th>\n",
       "      <th>...</th>\n",
       "      <th>participant_age</th>\n",
       "      <th>participant_age_group</th>\n",
       "      <th>participant_gender</th>\n",
       "      <th>participant_name</th>\n",
       "      <th>participant_relationship</th>\n",
       "      <th>participant_status</th>\n",
       "      <th>participant_type</th>\n",
       "      <th>sources</th>\n",
       "      <th>state_house_district</th>\n",
       "      <th>state_senate_district</th>\n",
       "    </tr>\n",
       "  </thead>\n",
       "  <tbody>\n",
       "    <tr>\n",
       "      <th>0</th>\n",
       "      <td>461105</td>\n",
       "      <td>2013-01-01</td>\n",
       "      <td>Pennsylvania</td>\n",
       "      <td>Mckeesport</td>\n",
       "      <td>1506 Versailles Avenue and Coursin Street</td>\n",
       "      <td>0</td>\n",
       "      <td>4</td>\n",
       "      <td>http://www.gunviolencearchive.org/incident/461105</td>\n",
       "      <td>http://www.post-gazette.com/local/south/2013/0...</td>\n",
       "      <td>False</td>\n",
       "      <td>...</td>\n",
       "      <td>0::20</td>\n",
       "      <td>0::Adult 18+||1::Adult 18+||2::Adult 18+||3::A...</td>\n",
       "      <td>0::Male||1::Male||3::Male||4::Female</td>\n",
       "      <td>0::Julian Sims</td>\n",
       "      <td>NaN</td>\n",
       "      <td>0::Arrested||1::Injured||2::Injured||3::Injure...</td>\n",
       "      <td>0::Victim||1::Victim||2::Victim||3::Victim||4:...</td>\n",
       "      <td>http://pittsburgh.cbslocal.com/2013/01/01/4-pe...</td>\n",
       "      <td>NaN</td>\n",
       "      <td>NaN</td>\n",
       "    </tr>\n",
       "    <tr>\n",
       "      <th>1</th>\n",
       "      <td>460726</td>\n",
       "      <td>2013-01-01</td>\n",
       "      <td>California</td>\n",
       "      <td>Hawthorne</td>\n",
       "      <td>13500 block of Cerise Avenue</td>\n",
       "      <td>1</td>\n",
       "      <td>3</td>\n",
       "      <td>http://www.gunviolencearchive.org/incident/460726</td>\n",
       "      <td>http://www.dailybulletin.com/article/zz/201301...</td>\n",
       "      <td>False</td>\n",
       "      <td>...</td>\n",
       "      <td>0::20</td>\n",
       "      <td>0::Adult 18+||1::Adult 18+||2::Adult 18+||3::A...</td>\n",
       "      <td>0::Male</td>\n",
       "      <td>0::Bernard Gillis</td>\n",
       "      <td>NaN</td>\n",
       "      <td>0::Killed||1::Injured||2::Injured||3::Injured</td>\n",
       "      <td>0::Victim||1::Victim||2::Victim||3::Victim||4:...</td>\n",
       "      <td>http://losangeles.cbslocal.com/2013/01/01/man-...</td>\n",
       "      <td>62.0</td>\n",
       "      <td>35.0</td>\n",
       "    </tr>\n",
       "    <tr>\n",
       "      <th>2</th>\n",
       "      <td>478855</td>\n",
       "      <td>2013-01-01</td>\n",
       "      <td>Ohio</td>\n",
       "      <td>Lorain</td>\n",
       "      <td>1776 East 28th Street</td>\n",
       "      <td>1</td>\n",
       "      <td>3</td>\n",
       "      <td>http://www.gunviolencearchive.org/incident/478855</td>\n",
       "      <td>http://chronicle.northcoastnow.com/2013/02/14/...</td>\n",
       "      <td>False</td>\n",
       "      <td>...</td>\n",
       "      <td>0::25||1::31||2::33||3::34||4::33</td>\n",
       "      <td>0::Adult 18+||1::Adult 18+||2::Adult 18+||3::A...</td>\n",
       "      <td>0::Male||1::Male||2::Male||3::Male||4::Male</td>\n",
       "      <td>0::Damien Bell||1::Desmen Noble||2::Herman Sea...</td>\n",
       "      <td>NaN</td>\n",
       "      <td>0::Injured, Unharmed, Arrested||1::Unharmed, A...</td>\n",
       "      <td>0::Subject-Suspect||1::Subject-Suspect||2::Vic...</td>\n",
       "      <td>http://www.morningjournal.com/general-news/201...</td>\n",
       "      <td>56.0</td>\n",
       "      <td>13.0</td>\n",
       "    </tr>\n",
       "    <tr>\n",
       "      <th>3</th>\n",
       "      <td>478925</td>\n",
       "      <td>2013-01-05</td>\n",
       "      <td>Colorado</td>\n",
       "      <td>Aurora</td>\n",
       "      <td>16000 block of East Ithaca Place</td>\n",
       "      <td>4</td>\n",
       "      <td>0</td>\n",
       "      <td>http://www.gunviolencearchive.org/incident/478925</td>\n",
       "      <td>http://www.dailydemocrat.com/20130106/aurora-s...</td>\n",
       "      <td>False</td>\n",
       "      <td>...</td>\n",
       "      <td>0::29||1::33||2::56||3::33</td>\n",
       "      <td>0::Adult 18+||1::Adult 18+||2::Adult 18+||3::A...</td>\n",
       "      <td>0::Female||1::Male||2::Male||3::Male</td>\n",
       "      <td>0::Stacie Philbrook||1::Christopher Ratliffe||...</td>\n",
       "      <td>NaN</td>\n",
       "      <td>0::Killed||1::Killed||2::Killed||3::Killed</td>\n",
       "      <td>0::Victim||1::Victim||2::Victim||3::Subject-Su...</td>\n",
       "      <td>http://denver.cbslocal.com/2013/01/06/officer-...</td>\n",
       "      <td>40.0</td>\n",
       "      <td>28.0</td>\n",
       "    </tr>\n",
       "    <tr>\n",
       "      <th>4</th>\n",
       "      <td>478959</td>\n",
       "      <td>2013-01-07</td>\n",
       "      <td>North Carolina</td>\n",
       "      <td>Greensboro</td>\n",
       "      <td>307 Mourning Dove Terrace</td>\n",
       "      <td>2</td>\n",
       "      <td>2</td>\n",
       "      <td>http://www.gunviolencearchive.org/incident/478959</td>\n",
       "      <td>http://www.journalnow.com/news/local/article_d...</td>\n",
       "      <td>False</td>\n",
       "      <td>...</td>\n",
       "      <td>0::18||1::46||2::14||3::47</td>\n",
       "      <td>0::Adult 18+||1::Adult 18+||2::Teen 12-17||3::...</td>\n",
       "      <td>0::Female||1::Male||2::Male||3::Female</td>\n",
       "      <td>0::Danielle Imani Jameison||1::Maurice Eugene ...</td>\n",
       "      <td>3::Family</td>\n",
       "      <td>0::Injured||1::Injured||2::Killed||3::Killed</td>\n",
       "      <td>0::Victim||1::Victim||2::Victim||3::Subject-Su...</td>\n",
       "      <td>http://myfox8.com/2013/01/08/update-mother-sho...</td>\n",
       "      <td>62.0</td>\n",
       "      <td>27.0</td>\n",
       "    </tr>\n",
       "  </tbody>\n",
       "</table>\n",
       "<p>5 rows × 29 columns</p>\n",
       "</div>"
      ],
      "text/plain": [
       "   incident_id        date           state city_or_county  \\\n",
       "0       461105  2013-01-01    Pennsylvania     Mckeesport   \n",
       "1       460726  2013-01-01      California      Hawthorne   \n",
       "2       478855  2013-01-01            Ohio         Lorain   \n",
       "3       478925  2013-01-05        Colorado         Aurora   \n",
       "4       478959  2013-01-07  North Carolina     Greensboro   \n",
       "\n",
       "                                     address  n_killed  n_injured  \\\n",
       "0  1506 Versailles Avenue and Coursin Street         0          4   \n",
       "1               13500 block of Cerise Avenue         1          3   \n",
       "2                      1776 East 28th Street         1          3   \n",
       "3           16000 block of East Ithaca Place         4          0   \n",
       "4                  307 Mourning Dove Terrace         2          2   \n",
       "\n",
       "                                        incident_url  \\\n",
       "0  http://www.gunviolencearchive.org/incident/461105   \n",
       "1  http://www.gunviolencearchive.org/incident/460726   \n",
       "2  http://www.gunviolencearchive.org/incident/478855   \n",
       "3  http://www.gunviolencearchive.org/incident/478925   \n",
       "4  http://www.gunviolencearchive.org/incident/478959   \n",
       "\n",
       "                                          source_url  \\\n",
       "0  http://www.post-gazette.com/local/south/2013/0...   \n",
       "1  http://www.dailybulletin.com/article/zz/201301...   \n",
       "2  http://chronicle.northcoastnow.com/2013/02/14/...   \n",
       "3  http://www.dailydemocrat.com/20130106/aurora-s...   \n",
       "4  http://www.journalnow.com/news/local/article_d...   \n",
       "\n",
       "   incident_url_fields_missing  ...                    participant_age  \\\n",
       "0                        False  ...                              0::20   \n",
       "1                        False  ...                              0::20   \n",
       "2                        False  ...  0::25||1::31||2::33||3::34||4::33   \n",
       "3                        False  ...         0::29||1::33||2::56||3::33   \n",
       "4                        False  ...         0::18||1::46||2::14||3::47   \n",
       "\n",
       "                               participant_age_group  \\\n",
       "0  0::Adult 18+||1::Adult 18+||2::Adult 18+||3::A...   \n",
       "1  0::Adult 18+||1::Adult 18+||2::Adult 18+||3::A...   \n",
       "2  0::Adult 18+||1::Adult 18+||2::Adult 18+||3::A...   \n",
       "3  0::Adult 18+||1::Adult 18+||2::Adult 18+||3::A...   \n",
       "4  0::Adult 18+||1::Adult 18+||2::Teen 12-17||3::...   \n",
       "\n",
       "                            participant_gender  \\\n",
       "0         0::Male||1::Male||3::Male||4::Female   \n",
       "1                                      0::Male   \n",
       "2  0::Male||1::Male||2::Male||3::Male||4::Male   \n",
       "3         0::Female||1::Male||2::Male||3::Male   \n",
       "4       0::Female||1::Male||2::Male||3::Female   \n",
       "\n",
       "                                    participant_name  \\\n",
       "0                                     0::Julian Sims   \n",
       "1                                  0::Bernard Gillis   \n",
       "2  0::Damien Bell||1::Desmen Noble||2::Herman Sea...   \n",
       "3  0::Stacie Philbrook||1::Christopher Ratliffe||...   \n",
       "4  0::Danielle Imani Jameison||1::Maurice Eugene ...   \n",
       "\n",
       "   participant_relationship  \\\n",
       "0                       NaN   \n",
       "1                       NaN   \n",
       "2                       NaN   \n",
       "3                       NaN   \n",
       "4                 3::Family   \n",
       "\n",
       "                                  participant_status  \\\n",
       "0  0::Arrested||1::Injured||2::Injured||3::Injure...   \n",
       "1      0::Killed||1::Injured||2::Injured||3::Injured   \n",
       "2  0::Injured, Unharmed, Arrested||1::Unharmed, A...   \n",
       "3         0::Killed||1::Killed||2::Killed||3::Killed   \n",
       "4       0::Injured||1::Injured||2::Killed||3::Killed   \n",
       "\n",
       "                                    participant_type  \\\n",
       "0  0::Victim||1::Victim||2::Victim||3::Victim||4:...   \n",
       "1  0::Victim||1::Victim||2::Victim||3::Victim||4:...   \n",
       "2  0::Subject-Suspect||1::Subject-Suspect||2::Vic...   \n",
       "3  0::Victim||1::Victim||2::Victim||3::Subject-Su...   \n",
       "4  0::Victim||1::Victim||2::Victim||3::Subject-Su...   \n",
       "\n",
       "                                             sources state_house_district  \\\n",
       "0  http://pittsburgh.cbslocal.com/2013/01/01/4-pe...                  NaN   \n",
       "1  http://losangeles.cbslocal.com/2013/01/01/man-...                 62.0   \n",
       "2  http://www.morningjournal.com/general-news/201...                 56.0   \n",
       "3  http://denver.cbslocal.com/2013/01/06/officer-...                 40.0   \n",
       "4  http://myfox8.com/2013/01/08/update-mother-sho...                 62.0   \n",
       "\n",
       "  state_senate_district  \n",
       "0                   NaN  \n",
       "1                  35.0  \n",
       "2                  13.0  \n",
       "3                  28.0  \n",
       "4                  27.0  \n",
       "\n",
       "[5 rows x 29 columns]"
      ]
     },
     "execution_count": 20,
     "metadata": {},
     "output_type": "execute_result"
    }
   ],
   "source": [
    "gun_violence_data = pd.read_csv('gun-violence-data_01-2013_03-2018.csv')\n",
    "gun_violence_data.head()"
   ]
  },
  {
   "cell_type": "code",
   "execution_count": 21,
   "metadata": {},
   "outputs": [
    {
     "data": {
      "text/html": [
       "<div>\n",
       "<style scoped>\n",
       "    .dataframe tbody tr th:only-of-type {\n",
       "        vertical-align: middle;\n",
       "    }\n",
       "\n",
       "    .dataframe tbody tr th {\n",
       "        vertical-align: top;\n",
       "    }\n",
       "\n",
       "    .dataframe thead th {\n",
       "        text-align: right;\n",
       "    }\n",
       "</style>\n",
       "<table border=\"1\" class=\"dataframe\">\n",
       "  <thead>\n",
       "    <tr style=\"text-align: right;\">\n",
       "      <th></th>\n",
       "      <th>incident_id</th>\n",
       "      <th>CrimeDate</th>\n",
       "      <th>state</th>\n",
       "      <th>city_or_county</th>\n",
       "      <th>address</th>\n",
       "      <th>n_killed</th>\n",
       "      <th>n_injured</th>\n",
       "      <th>incident_url</th>\n",
       "      <th>source_url</th>\n",
       "      <th>incident_url_fields_missing</th>\n",
       "      <th>...</th>\n",
       "      <th>participant_age_group</th>\n",
       "      <th>participant_gender</th>\n",
       "      <th>participant_name</th>\n",
       "      <th>participant_relationship</th>\n",
       "      <th>participant_status</th>\n",
       "      <th>participant_type</th>\n",
       "      <th>sources</th>\n",
       "      <th>state_house_district</th>\n",
       "      <th>state_senate_district</th>\n",
       "      <th>Year</th>\n",
       "    </tr>\n",
       "  </thead>\n",
       "  <tbody>\n",
       "    <tr>\n",
       "      <th>0</th>\n",
       "      <td>461105</td>\n",
       "      <td>2013-01-01</td>\n",
       "      <td>Pennsylvania</td>\n",
       "      <td>Mckeesport</td>\n",
       "      <td>1506 Versailles Avenue and Coursin Street</td>\n",
       "      <td>0</td>\n",
       "      <td>4</td>\n",
       "      <td>http://www.gunviolencearchive.org/incident/461105</td>\n",
       "      <td>http://www.post-gazette.com/local/south/2013/0...</td>\n",
       "      <td>False</td>\n",
       "      <td>...</td>\n",
       "      <td>0::Adult 18+||1::Adult 18+||2::Adult 18+||3::A...</td>\n",
       "      <td>0::Male||1::Male||3::Male||4::Female</td>\n",
       "      <td>0::Julian Sims</td>\n",
       "      <td>NaN</td>\n",
       "      <td>0::Arrested||1::Injured||2::Injured||3::Injure...</td>\n",
       "      <td>0::Victim||1::Victim||2::Victim||3::Victim||4:...</td>\n",
       "      <td>http://pittsburgh.cbslocal.com/2013/01/01/4-pe...</td>\n",
       "      <td>NaN</td>\n",
       "      <td>NaN</td>\n",
       "      <td>2013</td>\n",
       "    </tr>\n",
       "    <tr>\n",
       "      <th>1</th>\n",
       "      <td>460726</td>\n",
       "      <td>2013-01-01</td>\n",
       "      <td>California</td>\n",
       "      <td>Hawthorne</td>\n",
       "      <td>13500 block of Cerise Avenue</td>\n",
       "      <td>1</td>\n",
       "      <td>3</td>\n",
       "      <td>http://www.gunviolencearchive.org/incident/460726</td>\n",
       "      <td>http://www.dailybulletin.com/article/zz/201301...</td>\n",
       "      <td>False</td>\n",
       "      <td>...</td>\n",
       "      <td>0::Adult 18+||1::Adult 18+||2::Adult 18+||3::A...</td>\n",
       "      <td>0::Male</td>\n",
       "      <td>0::Bernard Gillis</td>\n",
       "      <td>NaN</td>\n",
       "      <td>0::Killed||1::Injured||2::Injured||3::Injured</td>\n",
       "      <td>0::Victim||1::Victim||2::Victim||3::Victim||4:...</td>\n",
       "      <td>http://losangeles.cbslocal.com/2013/01/01/man-...</td>\n",
       "      <td>62.0</td>\n",
       "      <td>35.0</td>\n",
       "      <td>2013</td>\n",
       "    </tr>\n",
       "    <tr>\n",
       "      <th>2</th>\n",
       "      <td>478855</td>\n",
       "      <td>2013-01-01</td>\n",
       "      <td>Ohio</td>\n",
       "      <td>Lorain</td>\n",
       "      <td>1776 East 28th Street</td>\n",
       "      <td>1</td>\n",
       "      <td>3</td>\n",
       "      <td>http://www.gunviolencearchive.org/incident/478855</td>\n",
       "      <td>http://chronicle.northcoastnow.com/2013/02/14/...</td>\n",
       "      <td>False</td>\n",
       "      <td>...</td>\n",
       "      <td>0::Adult 18+||1::Adult 18+||2::Adult 18+||3::A...</td>\n",
       "      <td>0::Male||1::Male||2::Male||3::Male||4::Male</td>\n",
       "      <td>0::Damien Bell||1::Desmen Noble||2::Herman Sea...</td>\n",
       "      <td>NaN</td>\n",
       "      <td>0::Injured, Unharmed, Arrested||1::Unharmed, A...</td>\n",
       "      <td>0::Subject-Suspect||1::Subject-Suspect||2::Vic...</td>\n",
       "      <td>http://www.morningjournal.com/general-news/201...</td>\n",
       "      <td>56.0</td>\n",
       "      <td>13.0</td>\n",
       "      <td>2013</td>\n",
       "    </tr>\n",
       "    <tr>\n",
       "      <th>3</th>\n",
       "      <td>478925</td>\n",
       "      <td>2013-01-05</td>\n",
       "      <td>Colorado</td>\n",
       "      <td>Aurora</td>\n",
       "      <td>16000 block of East Ithaca Place</td>\n",
       "      <td>4</td>\n",
       "      <td>0</td>\n",
       "      <td>http://www.gunviolencearchive.org/incident/478925</td>\n",
       "      <td>http://www.dailydemocrat.com/20130106/aurora-s...</td>\n",
       "      <td>False</td>\n",
       "      <td>...</td>\n",
       "      <td>0::Adult 18+||1::Adult 18+||2::Adult 18+||3::A...</td>\n",
       "      <td>0::Female||1::Male||2::Male||3::Male</td>\n",
       "      <td>0::Stacie Philbrook||1::Christopher Ratliffe||...</td>\n",
       "      <td>NaN</td>\n",
       "      <td>0::Killed||1::Killed||2::Killed||3::Killed</td>\n",
       "      <td>0::Victim||1::Victim||2::Victim||3::Subject-Su...</td>\n",
       "      <td>http://denver.cbslocal.com/2013/01/06/officer-...</td>\n",
       "      <td>40.0</td>\n",
       "      <td>28.0</td>\n",
       "      <td>2013</td>\n",
       "    </tr>\n",
       "    <tr>\n",
       "      <th>4</th>\n",
       "      <td>478959</td>\n",
       "      <td>2013-01-07</td>\n",
       "      <td>North Carolina</td>\n",
       "      <td>Greensboro</td>\n",
       "      <td>307 Mourning Dove Terrace</td>\n",
       "      <td>2</td>\n",
       "      <td>2</td>\n",
       "      <td>http://www.gunviolencearchive.org/incident/478959</td>\n",
       "      <td>http://www.journalnow.com/news/local/article_d...</td>\n",
       "      <td>False</td>\n",
       "      <td>...</td>\n",
       "      <td>0::Adult 18+||1::Adult 18+||2::Teen 12-17||3::...</td>\n",
       "      <td>0::Female||1::Male||2::Male||3::Female</td>\n",
       "      <td>0::Danielle Imani Jameison||1::Maurice Eugene ...</td>\n",
       "      <td>3::Family</td>\n",
       "      <td>0::Injured||1::Injured||2::Killed||3::Killed</td>\n",
       "      <td>0::Victim||1::Victim||2::Victim||3::Subject-Su...</td>\n",
       "      <td>http://myfox8.com/2013/01/08/update-mother-sho...</td>\n",
       "      <td>62.0</td>\n",
       "      <td>27.0</td>\n",
       "      <td>2013</td>\n",
       "    </tr>\n",
       "  </tbody>\n",
       "</table>\n",
       "<p>5 rows × 30 columns</p>\n",
       "</div>"
      ],
      "text/plain": [
       "   incident_id   CrimeDate           state city_or_county  \\\n",
       "0       461105  2013-01-01    Pennsylvania     Mckeesport   \n",
       "1       460726  2013-01-01      California      Hawthorne   \n",
       "2       478855  2013-01-01            Ohio         Lorain   \n",
       "3       478925  2013-01-05        Colorado         Aurora   \n",
       "4       478959  2013-01-07  North Carolina     Greensboro   \n",
       "\n",
       "                                     address  n_killed  n_injured  \\\n",
       "0  1506 Versailles Avenue and Coursin Street         0          4   \n",
       "1               13500 block of Cerise Avenue         1          3   \n",
       "2                      1776 East 28th Street         1          3   \n",
       "3           16000 block of East Ithaca Place         4          0   \n",
       "4                  307 Mourning Dove Terrace         2          2   \n",
       "\n",
       "                                        incident_url  \\\n",
       "0  http://www.gunviolencearchive.org/incident/461105   \n",
       "1  http://www.gunviolencearchive.org/incident/460726   \n",
       "2  http://www.gunviolencearchive.org/incident/478855   \n",
       "3  http://www.gunviolencearchive.org/incident/478925   \n",
       "4  http://www.gunviolencearchive.org/incident/478959   \n",
       "\n",
       "                                          source_url  \\\n",
       "0  http://www.post-gazette.com/local/south/2013/0...   \n",
       "1  http://www.dailybulletin.com/article/zz/201301...   \n",
       "2  http://chronicle.northcoastnow.com/2013/02/14/...   \n",
       "3  http://www.dailydemocrat.com/20130106/aurora-s...   \n",
       "4  http://www.journalnow.com/news/local/article_d...   \n",
       "\n",
       "   incident_url_fields_missing  ...  \\\n",
       "0                        False  ...   \n",
       "1                        False  ...   \n",
       "2                        False  ...   \n",
       "3                        False  ...   \n",
       "4                        False  ...   \n",
       "\n",
       "                               participant_age_group  \\\n",
       "0  0::Adult 18+||1::Adult 18+||2::Adult 18+||3::A...   \n",
       "1  0::Adult 18+||1::Adult 18+||2::Adult 18+||3::A...   \n",
       "2  0::Adult 18+||1::Adult 18+||2::Adult 18+||3::A...   \n",
       "3  0::Adult 18+||1::Adult 18+||2::Adult 18+||3::A...   \n",
       "4  0::Adult 18+||1::Adult 18+||2::Teen 12-17||3::...   \n",
       "\n",
       "                            participant_gender  \\\n",
       "0         0::Male||1::Male||3::Male||4::Female   \n",
       "1                                      0::Male   \n",
       "2  0::Male||1::Male||2::Male||3::Male||4::Male   \n",
       "3         0::Female||1::Male||2::Male||3::Male   \n",
       "4       0::Female||1::Male||2::Male||3::Female   \n",
       "\n",
       "                                    participant_name participant_relationship  \\\n",
       "0                                     0::Julian Sims                      NaN   \n",
       "1                                  0::Bernard Gillis                      NaN   \n",
       "2  0::Damien Bell||1::Desmen Noble||2::Herman Sea...                      NaN   \n",
       "3  0::Stacie Philbrook||1::Christopher Ratliffe||...                      NaN   \n",
       "4  0::Danielle Imani Jameison||1::Maurice Eugene ...                3::Family   \n",
       "\n",
       "                                  participant_status  \\\n",
       "0  0::Arrested||1::Injured||2::Injured||3::Injure...   \n",
       "1      0::Killed||1::Injured||2::Injured||3::Injured   \n",
       "2  0::Injured, Unharmed, Arrested||1::Unharmed, A...   \n",
       "3         0::Killed||1::Killed||2::Killed||3::Killed   \n",
       "4       0::Injured||1::Injured||2::Killed||3::Killed   \n",
       "\n",
       "                                    participant_type  \\\n",
       "0  0::Victim||1::Victim||2::Victim||3::Victim||4:...   \n",
       "1  0::Victim||1::Victim||2::Victim||3::Victim||4:...   \n",
       "2  0::Subject-Suspect||1::Subject-Suspect||2::Vic...   \n",
       "3  0::Victim||1::Victim||2::Victim||3::Subject-Su...   \n",
       "4  0::Victim||1::Victim||2::Victim||3::Subject-Su...   \n",
       "\n",
       "                                             sources  state_house_district  \\\n",
       "0  http://pittsburgh.cbslocal.com/2013/01/01/4-pe...                   NaN   \n",
       "1  http://losangeles.cbslocal.com/2013/01/01/man-...                  62.0   \n",
       "2  http://www.morningjournal.com/general-news/201...                  56.0   \n",
       "3  http://denver.cbslocal.com/2013/01/06/officer-...                  40.0   \n",
       "4  http://myfox8.com/2013/01/08/update-mother-sho...                  62.0   \n",
       "\n",
       "  state_senate_district  Year  \n",
       "0                   NaN  2013  \n",
       "1                  35.0  2013  \n",
       "2                  13.0  2013  \n",
       "3                  28.0  2013  \n",
       "4                  27.0  2013  \n",
       "\n",
       "[5 rows x 30 columns]"
      ]
     },
     "execution_count": 21,
     "metadata": {},
     "output_type": "execute_result"
    }
   ],
   "source": [
    "gun_violence_data.rename(columns={'date': 'CrimeDate'}, inplace=True) #новое имя чтоб функцию применить\n",
    "gun_violence_data['Year'] = gun_violence_data.apply(get_year, axis=1)\n",
    "gun_violence_data.head()"
   ]
  },
  {
   "cell_type": "code",
   "execution_count": 22,
   "metadata": {},
   "outputs": [
    {
     "data": {
      "text/plain": [
       "<matplotlib.axes._subplots.AxesSubplot at 0x1a3b817490>"
      ]
     },
     "execution_count": 22,
     "metadata": {},
     "output_type": "execute_result"
    },
    {
     "data": {
      "image/png": "[encoded data removed]",
      "text/plain": [
       "<Figure size 792x504 with 1 Axes>"
      ]
     },
     "metadata": {
      "needs_background": "light"
     },
     "output_type": "display_data"
    }
   ],
   "source": [
    "# ну в общем, на первый взгляд и правда по этим данным видим постепенный рост такой стрельбы \n",
    "#(данные за 2013 и 2017 понятное дело, скорее всего и тут неполные)\n",
    "\n",
    "gun_violence_data.groupby('Year')[['n_killed', 'n_injured']].sum().plot()"
   ]
  },
  {
   "cell_type": "code",
   "execution_count": 23,
   "metadata": {},
   "outputs": [
    {
     "name": "stdout",
     "output_type": "stream",
     "text": [
      "(94678, 4)\n"
     ]
    }
   ],
   "source": [
    "# но вернемся к первому набору данных из Балтимора — вот что интересно там, орудие преступления\n",
    "#запомнил, что так делать плохо, но все-таки сделал датафрейм только из преступлений с оружием и где указан район\n",
    "\n",
    "crime_df_weapon = crime_df[['Year', 'Weapon', 'District', 'Neighborhood']].dropna()\n",
    "print(crime_df_weapon.shape)"
   ]
  },
  {
   "cell_type": "code",
   "execution_count": 24,
   "metadata": {},
   "outputs": [
    {
     "data": {
      "text/html": [
       "<div>\n",
       "<style scoped>\n",
       "    .dataframe tbody tr th:only-of-type {\n",
       "        vertical-align: middle;\n",
       "    }\n",
       "\n",
       "    .dataframe tbody tr th {\n",
       "        vertical-align: top;\n",
       "    }\n",
       "\n",
       "    .dataframe thead th {\n",
       "        text-align: right;\n",
       "    }\n",
       "</style>\n",
       "<table border=\"1\" class=\"dataframe\">\n",
       "  <thead>\n",
       "    <tr style=\"text-align: right;\">\n",
       "      <th></th>\n",
       "      <th>Year</th>\n",
       "      <th>Weapon</th>\n",
       "      <th>District</th>\n",
       "      <th>Neighborhood</th>\n",
       "    </tr>\n",
       "  </thead>\n",
       "  <tbody>\n",
       "    <tr>\n",
       "      <th>0</th>\n",
       "      <td>2017</td>\n",
       "      <td>KNIFE</td>\n",
       "      <td>SOUTHERN</td>\n",
       "      <td>Brooklyn</td>\n",
       "    </tr>\n",
       "    <tr>\n",
       "      <th>2</th>\n",
       "      <td>2017</td>\n",
       "      <td>FIREARM</td>\n",
       "      <td>NORTHERN</td>\n",
       "      <td>Winston-Govans</td>\n",
       "    </tr>\n",
       "    <tr>\n",
       "      <th>3</th>\n",
       "      <td>2017</td>\n",
       "      <td>OTHER</td>\n",
       "      <td>SOUTHERN</td>\n",
       "      <td>Carrollton Ridge</td>\n",
       "    </tr>\n",
       "    <tr>\n",
       "      <th>4</th>\n",
       "      <td>2017</td>\n",
       "      <td>HANDS</td>\n",
       "      <td>CENTRAL</td>\n",
       "      <td>Downtown West</td>\n",
       "    </tr>\n",
       "    <tr>\n",
       "      <th>6</th>\n",
       "      <td>2017</td>\n",
       "      <td>FIREARM</td>\n",
       "      <td>SOUTHEASTERN</td>\n",
       "      <td>Canton</td>\n",
       "    </tr>\n",
       "  </tbody>\n",
       "</table>\n",
       "</div>"
      ],
      "text/plain": [
       "   Year   Weapon      District      Neighborhood\n",
       "0  2017    KNIFE      SOUTHERN          Brooklyn\n",
       "2  2017  FIREARM      NORTHERN    Winston-Govans\n",
       "3  2017    OTHER      SOUTHERN  Carrollton Ridge\n",
       "4  2017    HANDS       CENTRAL     Downtown West\n",
       "6  2017  FIREARM  SOUTHEASTERN            Canton"
      ]
     },
     "execution_count": 24,
     "metadata": {},
     "output_type": "execute_result"
    }
   ],
   "source": [
    "crime_df_weapon.head()"
   ]
  },
  {
   "cell_type": "code",
   "execution_count": 25,
   "metadata": {},
   "outputs": [
    {
     "data": {
      "text/html": [
       "<div>\n",
       "<style scoped>\n",
       "    .dataframe tbody tr th:only-of-type {\n",
       "        vertical-align: middle;\n",
       "    }\n",
       "\n",
       "    .dataframe tbody tr th {\n",
       "        vertical-align: top;\n",
       "    }\n",
       "\n",
       "    .dataframe thead th {\n",
       "        text-align: right;\n",
       "    }\n",
       "</style>\n",
       "<table border=\"1\" class=\"dataframe\">\n",
       "  <thead>\n",
       "    <tr style=\"text-align: right;\">\n",
       "      <th></th>\n",
       "      <th>Count</th>\n",
       "    </tr>\n",
       "    <tr>\n",
       "      <th>Weapon</th>\n",
       "      <th></th>\n",
       "    </tr>\n",
       "  </thead>\n",
       "  <tbody>\n",
       "    <tr>\n",
       "      <th>FIREARM</th>\n",
       "      <td>22176</td>\n",
       "    </tr>\n",
       "    <tr>\n",
       "      <th>HANDS</th>\n",
       "      <td>48483</td>\n",
       "    </tr>\n",
       "    <tr>\n",
       "      <th>KNIFE</th>\n",
       "      <td>9548</td>\n",
       "    </tr>\n",
       "    <tr>\n",
       "      <th>OTHER</th>\n",
       "      <td>14471</td>\n",
       "    </tr>\n",
       "  </tbody>\n",
       "</table>\n",
       "</div>"
      ],
      "text/plain": [
       "         Count\n",
       "Weapon        \n",
       "FIREARM  22176\n",
       "HANDS    48483\n",
       "KNIFE     9548\n",
       "OTHER    14471"
      ]
     },
     "execution_count": 25,
     "metadata": {},
     "output_type": "execute_result"
    }
   ],
   "source": [
    "weapon_pie = crime_df_weapon.groupby('Weapon')[['Year']].count()\n",
    "weapon_pie.rename(columns={'Year': 'Count'}, inplace=True)\n",
    "weapon_pie.sort_values(by='Count', ascending=True)\n",
    "weapon_pie"
   ]
  },
  {
   "cell_type": "code",
   "execution_count": 26,
   "metadata": {},
   "outputs": [
    {
     "data": {
      "text/plain": [
       "<matplotlib.axes._subplots.AxesSubplot at 0x1a37f84350>"
      ]
     },
     "execution_count": 26,
     "metadata": {},
     "output_type": "execute_result"
    },
    {
     "data": {
      "image/png": "[encoded data removed]",
      "text/plain": [
       "<Figure size 792x504 with 1 Axes>"
      ]
     },
     "metadata": {},
     "output_type": "display_data"
    }
   ],
   "source": [
    "#кругляшок красивый, но малоинформативный, разве что видно, что преступлений с огнестрельным оружием почти четверть, \n",
    "#куда больше ножей и всего остального — в России, например, его доля явно была бы ниже (интересно проверить)\n",
    "\n",
    "weapon_pie.plot(kind='pie', y='Count')"
   ]
  },
  {
   "cell_type": "code",
   "execution_count": 27,
   "metadata": {},
   "outputs": [
    {
     "data": {
      "text/html": [
       "<div>\n",
       "<style scoped>\n",
       "    .dataframe tbody tr th:only-of-type {\n",
       "        vertical-align: middle;\n",
       "    }\n",
       "\n",
       "    .dataframe tbody tr th {\n",
       "        vertical-align: top;\n",
       "    }\n",
       "\n",
       "    .dataframe thead th {\n",
       "        text-align: right;\n",
       "    }\n",
       "</style>\n",
       "<table border=\"1\" class=\"dataframe\">\n",
       "  <thead>\n",
       "    <tr style=\"text-align: right;\">\n",
       "      <th></th>\n",
       "      <th>Total Incidents</th>\n",
       "    </tr>\n",
       "    <tr>\n",
       "      <th>District</th>\n",
       "      <th></th>\n",
       "    </tr>\n",
       "  </thead>\n",
       "  <tbody>\n",
       "    <tr>\n",
       "      <th>WESTERN</th>\n",
       "      <td>22218</td>\n",
       "    </tr>\n",
       "    <tr>\n",
       "      <th>EASTERN</th>\n",
       "      <td>23635</td>\n",
       "    </tr>\n",
       "    <tr>\n",
       "      <th>SOUTHWESTERN</th>\n",
       "      <td>26092</td>\n",
       "    </tr>\n",
       "    <tr>\n",
       "      <th>NORTHWESTERN</th>\n",
       "      <td>28061</td>\n",
       "    </tr>\n",
       "    <tr>\n",
       "      <th>CENTRAL</th>\n",
       "      <td>31631</td>\n",
       "    </tr>\n",
       "  </tbody>\n",
       "</table>\n",
       "</div>"
      ],
      "text/plain": [
       "              Total Incidents\n",
       "District                     \n",
       "WESTERN                 22218\n",
       "EASTERN                 23635\n",
       "SOUTHWESTERN            26092\n",
       "NORTHWESTERN            28061\n",
       "CENTRAL                 31631"
      ]
     },
     "execution_count": 27,
     "metadata": {},
     "output_type": "execute_result"
    }
   ],
   "source": [
    "#\n",
    "district_pie = crime_df.groupby(['District'])[['Total Incidents']].sum().sort_values('Total Incidents')\n",
    "district_pie.head()"
   ]
  },
  {
   "cell_type": "code",
   "execution_count": 28,
   "metadata": {},
   "outputs": [
    {
     "data": {
      "text/plain": [
       "<matplotlib.axes._subplots.AxesSubplot at 0x1a24731750>"
      ]
     },
     "execution_count": 28,
     "metadata": {},
     "output_type": "execute_result"
    },
    {
     "data": {
      "image/png": "[encoded data removed]",
      "text/plain": [
       "<Figure size 792x504 with 1 Axes>"
      ]
     },
     "metadata": {},
     "output_type": "display_data"
    }
   ],
   "source": [
    "# ладно, придется признать, что вышло достаточно бесполезно \n",
    "\n",
    "district_pie.plot(kind='pie', y='Total Incidents')"
   ]
  },
  {
   "cell_type": "code",
   "execution_count": 29,
   "metadata": {},
   "outputs": [
    {
     "data": {
      "text/html": [
       "        <script type=\"text/javascript\">\n",
       "        window.PlotlyConfig = {MathJaxConfig: 'local'};\n",
       "        if (window.MathJax) {MathJax.Hub.Config({SVG: {font: \"STIX-Web\"}});}\n",
       "        if (typeof require !== 'undefined') {\n",
       "        require.undef(\"plotly\");\n",
       "        requirejs.config({\n",
       "            paths: {\n",
       "                'plotly': ['https://cdn.plot.ly/plotly-latest.min']\n",
       "            }\n",
       "        });\n",
       "        require(['plotly'], function(Plotly) {\n",
       "            window._Plotly = Plotly;\n",
       "        });\n",
       "        }\n",
       "        </script>\n",
       "        "
      ]
     },
     "metadata": {},
     "output_type": "display_data"
    }
   ],
   "source": [
    "# попробую что-то сделать с plotly из этого — может быть, если не полезно получится, то хотя бы красиво \n",
    "\n",
    "from plotly.offline import init_notebook_mode, iplot\n",
    "import plotly\n",
    "import plotly.graph_objs as go\n",
    "\n",
    "init_notebook_mode(connected=True)"
   ]
  },
  {
   "cell_type": "code",
   "execution_count": 30,
   "metadata": {},
   "outputs": [
    {
     "data": {
      "text/html": [
       "<div>\n",
       "<style scoped>\n",
       "    .dataframe tbody tr th:only-of-type {\n",
       "        vertical-align: middle;\n",
       "    }\n",
       "\n",
       "    .dataframe tbody tr th {\n",
       "        vertical-align: top;\n",
       "    }\n",
       "\n",
       "    .dataframe thead th {\n",
       "        text-align: right;\n",
       "    }\n",
       "</style>\n",
       "<table border=\"1\" class=\"dataframe\">\n",
       "  <thead>\n",
       "    <tr style=\"text-align: right;\">\n",
       "      <th></th>\n",
       "      <th>Total Incidents</th>\n",
       "    </tr>\n",
       "    <tr>\n",
       "      <th>District</th>\n",
       "      <th></th>\n",
       "    </tr>\n",
       "  </thead>\n",
       "  <tbody>\n",
       "    <tr>\n",
       "      <th>WESTERN</th>\n",
       "      <td>22218</td>\n",
       "    </tr>\n",
       "    <tr>\n",
       "      <th>EASTERN</th>\n",
       "      <td>23635</td>\n",
       "    </tr>\n",
       "    <tr>\n",
       "      <th>SOUTHWESTERN</th>\n",
       "      <td>26092</td>\n",
       "    </tr>\n",
       "    <tr>\n",
       "      <th>NORTHWESTERN</th>\n",
       "      <td>28061</td>\n",
       "    </tr>\n",
       "    <tr>\n",
       "      <th>CENTRAL</th>\n",
       "      <td>31631</td>\n",
       "    </tr>\n",
       "    <tr>\n",
       "      <th>NORTHERN</th>\n",
       "      <td>31665</td>\n",
       "    </tr>\n",
       "    <tr>\n",
       "      <th>SOUTHERN</th>\n",
       "      <td>31850</td>\n",
       "    </tr>\n",
       "    <tr>\n",
       "      <th>SOUTHEASTERN</th>\n",
       "      <td>38291</td>\n",
       "    </tr>\n",
       "    <tr>\n",
       "      <th>NORTHEASTERN</th>\n",
       "      <td>43006</td>\n",
       "    </tr>\n",
       "  </tbody>\n",
       "</table>\n",
       "</div>"
      ],
      "text/plain": [
       "              Total Incidents\n",
       "District                     \n",
       "WESTERN                 22218\n",
       "EASTERN                 23635\n",
       "SOUTHWESTERN            26092\n",
       "NORTHWESTERN            28061\n",
       "CENTRAL                 31631\n",
       "NORTHERN                31665\n",
       "SOUTHERN                31850\n",
       "SOUTHEASTERN            38291\n",
       "NORTHEASTERN            43006"
      ]
     },
     "execution_count": 30,
     "metadata": {},
     "output_type": "execute_result"
    }
   ],
   "source": [
    "districts_total = crime_df.groupby(['District'])[['Total Incidents']].sum().sort_values('Total Incidents')\n",
    "districts_total.head(10)"
   ]
  },
  {
   "cell_type": "code",
   "execution_count": 31,
   "metadata": {},
   "outputs": [
    {
     "data": {
      "text/html": [
       "<div>\n",
       "<style scoped>\n",
       "    .dataframe tbody tr th:only-of-type {\n",
       "        vertical-align: middle;\n",
       "    }\n",
       "\n",
       "    .dataframe tbody tr th {\n",
       "        vertical-align: top;\n",
       "    }\n",
       "\n",
       "    .dataframe thead th {\n",
       "        text-align: right;\n",
       "    }\n",
       "</style>\n",
       "<table border=\"1\" class=\"dataframe\">\n",
       "  <thead>\n",
       "    <tr style=\"text-align: right;\">\n",
       "      <th>District</th>\n",
       "      <th>CENTRAL</th>\n",
       "      <th>EASTERN</th>\n",
       "      <th>NORTHEASTERN</th>\n",
       "      <th>NORTHERN</th>\n",
       "      <th>NORTHWESTERN</th>\n",
       "      <th>SOUTHEASTERN</th>\n",
       "      <th>SOUTHERN</th>\n",
       "      <th>SOUTHWESTERN</th>\n",
       "      <th>WESTERN</th>\n",
       "    </tr>\n",
       "    <tr>\n",
       "      <th>Year</th>\n",
       "      <th></th>\n",
       "      <th></th>\n",
       "      <th></th>\n",
       "      <th></th>\n",
       "      <th></th>\n",
       "      <th></th>\n",
       "      <th></th>\n",
       "      <th></th>\n",
       "      <th></th>\n",
       "    </tr>\n",
       "  </thead>\n",
       "  <tbody>\n",
       "    <tr>\n",
       "      <th>2012</th>\n",
       "      <td>6496</td>\n",
       "      <td>4235</td>\n",
       "      <td>7728</td>\n",
       "      <td>5586</td>\n",
       "      <td>4886</td>\n",
       "      <td>6580</td>\n",
       "      <td>5796</td>\n",
       "      <td>4440</td>\n",
       "      <td>3812</td>\n",
       "    </tr>\n",
       "    <tr>\n",
       "      <th>2013</th>\n",
       "      <td>5656</td>\n",
       "      <td>4135</td>\n",
       "      <td>7838</td>\n",
       "      <td>5741</td>\n",
       "      <td>5324</td>\n",
       "      <td>6983</td>\n",
       "      <td>5581</td>\n",
       "      <td>4265</td>\n",
       "      <td>4035</td>\n",
       "    </tr>\n",
       "    <tr>\n",
       "      <th>2014</th>\n",
       "      <td>5034</td>\n",
       "      <td>3661</td>\n",
       "      <td>7513</td>\n",
       "      <td>5320</td>\n",
       "      <td>4703</td>\n",
       "      <td>6427</td>\n",
       "      <td>5213</td>\n",
       "      <td>4357</td>\n",
       "      <td>3728</td>\n",
       "    </tr>\n",
       "    <tr>\n",
       "      <th>2015</th>\n",
       "      <td>5317</td>\n",
       "      <td>4098</td>\n",
       "      <td>7723</td>\n",
       "      <td>5948</td>\n",
       "      <td>4778</td>\n",
       "      <td>7105</td>\n",
       "      <td>5224</td>\n",
       "      <td>4620</td>\n",
       "      <td>4007</td>\n",
       "    </tr>\n",
       "    <tr>\n",
       "      <th>2016</th>\n",
       "      <td>5700</td>\n",
       "      <td>4275</td>\n",
       "      <td>6882</td>\n",
       "      <td>5409</td>\n",
       "      <td>4937</td>\n",
       "      <td>6686</td>\n",
       "      <td>6001</td>\n",
       "      <td>4767</td>\n",
       "      <td>4079</td>\n",
       "    </tr>\n",
       "    <tr>\n",
       "      <th>2017</th>\n",
       "      <td>3428</td>\n",
       "      <td>3231</td>\n",
       "      <td>5322</td>\n",
       "      <td>3661</td>\n",
       "      <td>3433</td>\n",
       "      <td>4510</td>\n",
       "      <td>4035</td>\n",
       "      <td>3643</td>\n",
       "      <td>2557</td>\n",
       "    </tr>\n",
       "  </tbody>\n",
       "</table>\n",
       "</div>"
      ],
      "text/plain": [
       "District  CENTRAL  EASTERN  NORTHEASTERN  NORTHERN  NORTHWESTERN  \\\n",
       "Year                                                               \n",
       "2012         6496     4235          7728      5586          4886   \n",
       "2013         5656     4135          7838      5741          5324   \n",
       "2014         5034     3661          7513      5320          4703   \n",
       "2015         5317     4098          7723      5948          4778   \n",
       "2016         5700     4275          6882      5409          4937   \n",
       "2017         3428     3231          5322      3661          3433   \n",
       "\n",
       "District  SOUTHEASTERN  SOUTHERN  SOUTHWESTERN  WESTERN  \n",
       "Year                                                     \n",
       "2012              6580      5796          4440     3812  \n",
       "2013              6983      5581          4265     4035  \n",
       "2014              6427      5213          4357     3728  \n",
       "2015              7105      5224          4620     4007  \n",
       "2016              6686      6001          4767     4079  \n",
       "2017              4510      4035          3643     2557  "
      ]
     },
     "execution_count": 31,
     "metadata": {},
     "output_type": "execute_result"
    }
   ],
   "source": [
    "districts_line_plot = crime_df.pivot_table(\n",
    "                        index='Year', \n",
    "                        columns='District', \n",
    "                        values='Total Incidents', \n",
    "                        aggfunc=sum).fillna(0)\n",
    "districts_line_plot"
   ]
  },
  {
   "cell_type": "code",
   "execution_count": 32,
   "metadata": {},
   "outputs": [
    {
     "data": {
      "application/vnd.plotly.v1+json": {
       "config": {
        "linkText": "Export to plot.ly",
        "plotlyServerURL": "https://plot.ly",
        "showLink": false
       },
       "data": [
        {
         "name": "CENTRAL",
         "type": "scatter",
         "x": [
          "2012",
          "2013",
          "2014",
          "2015",
          "2016",
          "2017"
         ],
         "y": [
          6496,
          5656,
          5034,
          5317,
          5700,
          3428
         ]
        },
        {
         "name": "EASTERN",
         "type": "scatter",
         "x": [
          "2012",
          "2013",
          "2014",
          "2015",
          "2016",
          "2017"
         ],
         "y": [
          4235,
          4135,
          3661,
          4098,
          4275,
          3231
         ]
        },
        {
         "name": "NORTHEASTERN",
         "type": "scatter",
         "x": [
          "2012",
          "2013",
          "2014",
          "2015",
          "2016",
          "2017"
         ],
         "y": [
          7728,
          7838,
          7513,
          7723,
          6882,
          5322
         ]
        },
        {
         "name": "NORTHERN",
         "type": "scatter",
         "x": [
          "2012",
          "2013",
          "2014",
          "2015",
          "2016",
          "2017"
         ],
         "y": [
          5586,
          5741,
          5320,
          5948,
          5409,
          3661
         ]
        },
        {
         "name": "NORTHWESTERN",
         "type": "scatter",
         "x": [
          "2012",
          "2013",
          "2014",
          "2015",
          "2016",
          "2017"
         ],
         "y": [
          4886,
          5324,
          4703,
          4778,
          4937,
          3433
         ]
        },
        {
         "name": "SOUTHEASTERN",
         "type": "scatter",
         "x": [
          "2012",
          "2013",
          "2014",
          "2015",
          "2016",
          "2017"
         ],
         "y": [
          6580,
          6983,
          6427,
          7105,
          6686,
          4510
         ]
        },
        {
         "name": "SOUTHERN",
         "type": "scatter",
         "x": [
          "2012",
          "2013",
          "2014",
          "2015",
          "2016",
          "2017"
         ],
         "y": [
          5796,
          5581,
          5213,
          5224,
          6001,
          4035
         ]
        },
        {
         "name": "SOUTHWESTERN",
         "type": "scatter",
         "x": [
          "2012",
          "2013",
          "2014",
          "2015",
          "2016",
          "2017"
         ],
         "y": [
          4440,
          4265,
          4357,
          4620,
          4767,
          3643
         ]
        },
        {
         "name": "WESTERN",
         "type": "scatter",
         "x": [
          "2012",
          "2013",
          "2014",
          "2015",
          "2016",
          "2017"
         ],
         "y": [
          3812,
          4035,
          3728,
          4007,
          4079,
          2557
         ]
        }
       ],
       "layout": {
        "template": {
         "data": {
          "bar": [
           {
            "error_x": {
             "color": "#2a3f5f"
            },
            "error_y": {
             "color": "#2a3f5f"
            },
            "marker": {
             "line": {
              "color": "#E5ECF6",
              "width": 0.5
             }
            },
            "type": "bar"
           }
          ],
          "barpolar": [
           {
            "marker": {
             "line": {
              "color": "#E5ECF6",
              "width": 0.5
             }
            },
            "type": "barpolar"
           }
          ],
          "carpet": [
           {
            "aaxis": {
             "endlinecolor": "#2a3f5f",
             "gridcolor": "white",
             "linecolor": "white",
             "minorgridcolor": "white",
             "startlinecolor": "#2a3f5f"
            },
            "baxis": {
             "endlinecolor": "#2a3f5f",
             "gridcolor": "white",
             "linecolor": "white",
             "minorgridcolor": "white",
             "startlinecolor": "#2a3f5f"
            },
            "type": "carpet"
           }
          ],
          "choropleth": [
           {
            "colorbar": {
             "outlinewidth": 0,
             "ticks": ""
            },
            "type": "choropleth"
           }
          ],
          "contour": [
           {
            "colorbar": {
             "outlinewidth": 0,
             "ticks": ""
            },
            "colorscale": [
             [
              0,
              "#0d0887"
             ],
             [
              0.1111111111111111,
              "#46039f"
             ],
             [
              0.2222222222222222,
              "#7201a8"
             ],
             [
              0.3333333333333333,
              "#9c179e"
             ],
             [
              0.4444444444444444,
              "#bd3786"
             ],
             [
              0.5555555555555556,
              "#d8576b"
             ],
             [
              0.6666666666666666,
              "#ed7953"
             ],
             [
              0.7777777777777778,
              "#fb9f3a"
             ],
             [
              0.8888888888888888,
              "#fdca26"
             ],
             [
              1,
              "#f0f921"
             ]
            ],
            "type": "contour"
           }
          ],
          "contourcarpet": [
           {
            "colorbar": {
             "outlinewidth": 0,
             "ticks": ""
            },
            "type": "contourcarpet"
           }
          ],
          "heatmap": [
           {
            "colorbar": {
             "outlinewidth": 0,
             "ticks": ""
            },
            "colorscale": [
             [
              0,
              "#0d0887"
             ],
             [
              0.1111111111111111,
              "#46039f"
             ],
             [
              0.2222222222222222,
              "#7201a8"
             ],
             [
              0.3333333333333333,
              "#9c179e"
             ],
             [
              0.4444444444444444,
              "#bd3786"
             ],
             [
              0.5555555555555556,
              "#d8576b"
             ],
             [
              0.6666666666666666,
              "#ed7953"
             ],
             [
              0.7777777777777778,
              "#fb9f3a"
             ],
             [
              0.8888888888888888,
              "#fdca26"
             ],
             [
              1,
              "#f0f921"
             ]
            ],
            "type": "heatmap"
           }
          ],
          "heatmapgl": [
           {
            "colorbar": {
             "outlinewidth": 0,
             "ticks": ""
            },
            "colorscale": [
             [
              0,
              "#0d0887"
             ],
             [
              0.1111111111111111,
              "#46039f"
             ],
             [
              0.2222222222222222,
              "#7201a8"
             ],
             [
              0.3333333333333333,
              "#9c179e"
             ],
             [
              0.4444444444444444,
              "#bd3786"
             ],
             [
              0.5555555555555556,
              "#d8576b"
             ],
             [
              0.6666666666666666,
              "#ed7953"
             ],
             [
              0.7777777777777778,
              "#fb9f3a"
             ],
             [
              0.8888888888888888,
              "#fdca26"
             ],
             [
              1,
              "#f0f921"
             ]
            ],
            "type": "heatmapgl"
           }
          ],
          "histogram": [
           {
            "marker": {
             "colorbar": {
              "outlinewidth": 0,
              "ticks": ""
             }
            },
            "type": "histogram"
           }
          ],
          "histogram2d": [
           {
            "colorbar": {
             "outlinewidth": 0,
             "ticks": ""
            },
            "colorscale": [
             [
              0,
              "#0d0887"
             ],
             [
              0.1111111111111111,
              "#46039f"
             ],
             [
              0.2222222222222222,
              "#7201a8"
             ],
             [
              0.3333333333333333,
              "#9c179e"
             ],
             [
              0.4444444444444444,
              "#bd3786"
             ],
             [
              0.5555555555555556,
              "#d8576b"
             ],
             [
              0.6666666666666666,
              "#ed7953"
             ],
             [
              0.7777777777777778,
              "#fb9f3a"
             ],
             [
              0.8888888888888888,
              "#fdca26"
             ],
             [
              1,
              "#f0f921"
             ]
            ],
            "type": "histogram2d"
           }
          ],
          "histogram2dcontour": [
           {
            "colorbar": {
             "outlinewidth": 0,
             "ticks": ""
            },
            "colorscale": [
             [
              0,
              "#0d0887"
             ],
             [
              0.1111111111111111,
              "#46039f"
             ],
             [
              0.2222222222222222,
              "#7201a8"
             ],
             [
              0.3333333333333333,
              "#9c179e"
             ],
             [
              0.4444444444444444,
              "#bd3786"
             ],
             [
              0.5555555555555556,
              "#d8576b"
             ],
             [
              0.6666666666666666,
              "#ed7953"
             ],
             [
              0.7777777777777778,
              "#fb9f3a"
             ],
             [
              0.8888888888888888,
              "#fdca26"
             ],
             [
              1,
              "#f0f921"
             ]
            ],
            "type": "histogram2dcontour"
           }
          ],
          "mesh3d": [
           {
            "colorbar": {
             "outlinewidth": 0,
             "ticks": ""
            },
            "type": "mesh3d"
           }
          ],
          "parcoords": [
           {
            "line": {
             "colorbar": {
              "outlinewidth": 0,
              "ticks": ""
             }
            },
            "type": "parcoords"
           }
          ],
          "pie": [
           {
            "automargin": true,
            "type": "pie"
           }
          ],
          "scatter": [
           {
            "marker": {
             "colorbar": {
              "outlinewidth": 0,
              "ticks": ""
             }
            },
            "type": "scatter"
           }
          ],
          "scatter3d": [
           {
            "line": {
             "colorbar": {
              "outlinewidth": 0,
              "ticks": ""
             }
            },
            "marker": {
             "colorbar": {
              "outlinewidth": 0,
              "ticks": ""
             }
            },
            "type": "scatter3d"
           }
          ],
          "scattercarpet": [
           {
            "marker": {
             "colorbar": {
              "outlinewidth": 0,
              "ticks": ""
             }
            },
            "type": "scattercarpet"
           }
          ],
          "scattergeo": [
           {
            "marker": {
             "colorbar": {
              "outlinewidth": 0,
              "ticks": ""
             }
            },
            "type": "scattergeo"
           }
          ],
          "scattergl": [
           {
            "marker": {
             "colorbar": {
              "outlinewidth": 0,
              "ticks": ""
             }
            },
            "type": "scattergl"
           }
          ],
          "scattermapbox": [
           {
            "marker": {
             "colorbar": {
              "outlinewidth": 0,
              "ticks": ""
             }
            },
            "type": "scattermapbox"
           }
          ],
          "scatterpolar": [
           {
            "marker": {
             "colorbar": {
              "outlinewidth": 0,
              "ticks": ""
             }
            },
            "type": "scatterpolar"
           }
          ],
          "scatterpolargl": [
           {
            "marker": {
             "colorbar": {
              "outlinewidth": 0,
              "ticks": ""
             }
            },
            "type": "scatterpolargl"
           }
          ],
          "scatterternary": [
           {
            "marker": {
             "colorbar": {
              "outlinewidth": 0,
              "ticks": ""
             }
            },
            "type": "scatterternary"
           }
          ],
          "surface": [
           {
            "colorbar": {
             "outlinewidth": 0,
             "ticks": ""
            },
            "colorscale": [
             [
              0,
              "#0d0887"
             ],
             [
              0.1111111111111111,
              "#46039f"
             ],
             [
              0.2222222222222222,
              "#7201a8"
             ],
             [
              0.3333333333333333,
              "#9c179e"
             ],
             [
              0.4444444444444444,
              "#bd3786"
             ],
             [
              0.5555555555555556,
              "#d8576b"
             ],
             [
              0.6666666666666666,
              "#ed7953"
             ],
             [
              0.7777777777777778,
              "#fb9f3a"
             ],
             [
              0.8888888888888888,
              "#fdca26"
             ],
             [
              1,
              "#f0f921"
             ]
            ],
            "type": "surface"
           }
          ],
          "table": [
           {
            "cells": {
             "fill": {
              "color": "#EBF0F8"
             },
             "line": {
              "color": "white"
             }
            },
            "header": {
             "fill": {
              "color": "#C8D4E3"
             },
             "line": {
              "color": "white"
             }
            },
            "type": "table"
           }
          ]
         },
         "layout": {
          "annotationdefaults": {
           "arrowcolor": "#2a3f5f",
           "arrowhead": 0,
           "arrowwidth": 1
          },
          "coloraxis": {
           "colorbar": {
            "outlinewidth": 0,
            "ticks": ""
           }
          },
          "colorscale": {
           "diverging": [
            [
             0,
             "#8e0152"
            ],
            [
             0.1,
             "#c51b7d"
            ],
            [
             0.2,
             "#de77ae"
            ],
            [
             0.3,
             "#f1b6da"
            ],
            [
             0.4,
             "#fde0ef"
            ],
            [
             0.5,
             "#f7f7f7"
            ],
            [
             0.6,
             "#e6f5d0"
            ],
            [
             0.7,
             "#b8e186"
            ],
            [
             0.8,
             "#7fbc41"
            ],
            [
             0.9,
             "#4d9221"
            ],
            [
             1,
             "#276419"
            ]
           ],
           "sequential": [
            [
             0,
             "#0d0887"
            ],
            [
             0.1111111111111111,
             "#46039f"
            ],
            [
             0.2222222222222222,
             "#7201a8"
            ],
            [
             0.3333333333333333,
             "#9c179e"
            ],
            [
             0.4444444444444444,
             "#bd3786"
            ],
            [
             0.5555555555555556,
             "#d8576b"
            ],
            [
             0.6666666666666666,
             "#ed7953"
            ],
            [
             0.7777777777777778,
             "#fb9f3a"
            ],
            [
             0.8888888888888888,
             "#fdca26"
            ],
            [
             1,
             "#f0f921"
            ]
           ],
           "sequentialminus": [
            [
             0,
             "#0d0887"
            ],
            [
             0.1111111111111111,
             "#46039f"
            ],
            [
             0.2222222222222222,
             "#7201a8"
            ],
            [
             0.3333333333333333,
             "#9c179e"
            ],
            [
             0.4444444444444444,
             "#bd3786"
            ],
            [
             0.5555555555555556,
             "#d8576b"
            ],
            [
             0.6666666666666666,
             "#ed7953"
            ],
            [
             0.7777777777777778,
             "#fb9f3a"
            ],
            [
             0.8888888888888888,
             "#fdca26"
            ],
            [
             1,
             "#f0f921"
            ]
           ]
          },
          "colorway": [
           "#636efa",
           "#EF553B",
           "#00cc96",
           "#ab63fa",
           "#FFA15A",
           "#19d3f3",
           "#FF6692",
           "#B6E880",
           "#FF97FF",
           "#FECB52"
          ],
          "font": {
           "color": "#2a3f5f"
          },
          "geo": {
           "bgcolor": "white",
           "lakecolor": "white",
           "landcolor": "#E5ECF6",
           "showlakes": true,
           "showland": true,
           "subunitcolor": "white"
          },
          "hoverlabel": {
           "align": "left"
          },
          "hovermode": "closest",
          "mapbox": {
           "style": "light"
          },
          "paper_bgcolor": "white",
          "plot_bgcolor": "#E5ECF6",
          "polar": {
           "angularaxis": {
            "gridcolor": "white",
            "linecolor": "white",
            "ticks": ""
           },
           "bgcolor": "#E5ECF6",
           "radialaxis": {
            "gridcolor": "white",
            "linecolor": "white",
            "ticks": ""
           }
          },
          "scene": {
           "xaxis": {
            "backgroundcolor": "#E5ECF6",
            "gridcolor": "white",
            "gridwidth": 2,
            "linecolor": "white",
            "showbackground": true,
            "ticks": "",
            "zerolinecolor": "white"
           },
           "yaxis": {
            "backgroundcolor": "#E5ECF6",
            "gridcolor": "white",
            "gridwidth": 2,
            "linecolor": "white",
            "showbackground": true,
            "ticks": "",
            "zerolinecolor": "white"
           },
           "zaxis": {
            "backgroundcolor": "#E5ECF6",
            "gridcolor": "white",
            "gridwidth": 2,
            "linecolor": "white",
            "showbackground": true,
            "ticks": "",
            "zerolinecolor": "white"
           }
          },
          "shapedefaults": {
           "line": {
            "color": "#2a3f5f"
           }
          },
          "ternary": {
           "aaxis": {
            "gridcolor": "white",
            "linecolor": "white",
            "ticks": ""
           },
           "baxis": {
            "gridcolor": "white",
            "linecolor": "white",
            "ticks": ""
           },
           "bgcolor": "#E5ECF6",
           "caxis": {
            "gridcolor": "white",
            "linecolor": "white",
            "ticks": ""
           }
          },
          "title": {
           "x": 0.05
          },
          "xaxis": {
           "automargin": true,
           "gridcolor": "white",
           "linecolor": "white",
           "ticks": "",
           "title": {
            "standoff": 15
           },
           "zerolinecolor": "white",
           "zerolinewidth": 2
          },
          "yaxis": {
           "automargin": true,
           "gridcolor": "white",
           "linecolor": "white",
           "ticks": "",
           "title": {
            "standoff": 15
           },
           "zerolinecolor": "white",
           "zerolinewidth": 2
          }
         }
        },
        "title": {
         "text": "Baltimor Crime"
        }
       }
      },
      "text/html": [
       "<div>\n",
       "        \n",
       "        \n",
       "            <div id=\"edfb7ff6-179b-4649-90d4-8d2d138227ce\" class=\"plotly-graph-div\" style=\"height:525px; width:100%;\"></div>\n",
       "            <script type=\"text/javascript\">\n",
       "                require([\"plotly\"], function(Plotly) {\n",
       "                    window.PLOTLYENV=window.PLOTLYENV || {};\n",
       "                    \n",
       "                if (document.getElementById(\"edfb7ff6-179b-4649-90d4-8d2d138227ce\")) {\n",
       "                    Plotly.newPlot(\n",
       "                        'edfb7ff6-179b-4649-90d4-8d2d138227ce',\n",
       "                        [{\"name\": \"CENTRAL\", \"type\": \"scatter\", \"x\": [\"2012\", \"2013\", \"2014\", \"2015\", \"2016\", \"2017\"], \"y\": [6496, 5656, 5034, 5317, 5700, 3428]}, {\"name\": \"EASTERN\", \"type\": \"scatter\", \"x\": [\"2012\", \"2013\", \"2014\", \"2015\", \"2016\", \"2017\"], \"y\": [4235, 4135, 3661, 4098, 4275, 3231]}, {\"name\": \"NORTHEASTERN\", \"type\": \"scatter\", \"x\": [\"2012\", \"2013\", \"2014\", \"2015\", \"2016\", \"2017\"], \"y\": [7728, 7838, 7513, 7723, 6882, 5322]}, {\"name\": \"NORTHERN\", \"type\": \"scatter\", \"x\": [\"2012\", \"2013\", \"2014\", \"2015\", \"2016\", \"2017\"], \"y\": [5586, 5741, 5320, 5948, 5409, 3661]}, {\"name\": \"NORTHWESTERN\", \"type\": \"scatter\", \"x\": [\"2012\", \"2013\", \"2014\", \"2015\", \"2016\", \"2017\"], \"y\": [4886, 5324, 4703, 4778, 4937, 3433]}, {\"name\": \"SOUTHEASTERN\", \"type\": \"scatter\", \"x\": [\"2012\", \"2013\", \"2014\", \"2015\", \"2016\", \"2017\"], \"y\": [6580, 6983, 6427, 7105, 6686, 4510]}, {\"name\": \"SOUTHERN\", \"type\": \"scatter\", \"x\": [\"2012\", \"2013\", \"2014\", \"2015\", \"2016\", \"2017\"], \"y\": [5796, 5581, 5213, 5224, 6001, 4035]}, {\"name\": \"SOUTHWESTERN\", \"type\": \"scatter\", \"x\": [\"2012\", \"2013\", \"2014\", \"2015\", \"2016\", \"2017\"], \"y\": [4440, 4265, 4357, 4620, 4767, 3643]}, {\"name\": \"WESTERN\", \"type\": \"scatter\", \"x\": [\"2012\", \"2013\", \"2014\", \"2015\", \"2016\", \"2017\"], \"y\": [3812, 4035, 3728, 4007, 4079, 2557]}],\n",
       "                        {\"template\": {\"data\": {\"bar\": [{\"error_x\": {\"color\": \"#2a3f5f\"}, \"error_y\": {\"color\": \"#2a3f5f\"}, \"marker\": {\"line\": {\"color\": \"#E5ECF6\", \"width\": 0.5}}, \"type\": \"bar\"}], \"barpolar\": [{\"marker\": {\"line\": {\"color\": \"#E5ECF6\", \"width\": 0.5}}, \"type\": \"barpolar\"}], \"carpet\": [{\"aaxis\": {\"endlinecolor\": \"#2a3f5f\", \"gridcolor\": \"white\", \"linecolor\": \"white\", \"minorgridcolor\": \"white\", \"startlinecolor\": \"#2a3f5f\"}, \"baxis\": {\"endlinecolor\": \"#2a3f5f\", \"gridcolor\": \"white\", \"linecolor\": \"white\", \"minorgridcolor\": \"white\", \"startlinecolor\": \"#2a3f5f\"}, \"type\": \"carpet\"}], \"choropleth\": [{\"colorbar\": {\"outlinewidth\": 0, \"ticks\": \"\"}, \"type\": \"choropleth\"}], \"contour\": [{\"colorbar\": {\"outlinewidth\": 0, \"ticks\": \"\"}, \"colorscale\": [[0.0, \"#0d0887\"], [0.1111111111111111, \"#46039f\"], [0.2222222222222222, \"#7201a8\"], [0.3333333333333333, \"#9c179e\"], [0.4444444444444444, \"#bd3786\"], [0.5555555555555556, \"#d8576b\"], [0.6666666666666666, \"#ed7953\"], [0.7777777777777778, \"#fb9f3a\"], [0.8888888888888888, \"#fdca26\"], [1.0, \"#f0f921\"]], \"type\": \"contour\"}], \"contourcarpet\": [{\"colorbar\": {\"outlinewidth\": 0, \"ticks\": \"\"}, \"type\": \"contourcarpet\"}], \"heatmap\": [{\"colorbar\": {\"outlinewidth\": 0, \"ticks\": \"\"}, \"colorscale\": [[0.0, \"#0d0887\"], [0.1111111111111111, \"#46039f\"], [0.2222222222222222, \"#7201a8\"], [0.3333333333333333, \"#9c179e\"], [0.4444444444444444, \"#bd3786\"], [0.5555555555555556, \"#d8576b\"], [0.6666666666666666, \"#ed7953\"], [0.7777777777777778, \"#fb9f3a\"], [0.8888888888888888, \"#fdca26\"], [1.0, \"#f0f921\"]], \"type\": \"heatmap\"}], \"heatmapgl\": [{\"colorbar\": {\"outlinewidth\": 0, \"ticks\": \"\"}, \"colorscale\": [[0.0, \"#0d0887\"], [0.1111111111111111, \"#46039f\"], [0.2222222222222222, \"#7201a8\"], [0.3333333333333333, \"#9c179e\"], [0.4444444444444444, \"#bd3786\"], [0.5555555555555556, \"#d8576b\"], [0.6666666666666666, \"#ed7953\"], [0.7777777777777778, \"#fb9f3a\"], [0.8888888888888888, \"#fdca26\"], [1.0, \"#f0f921\"]], \"type\": \"heatmapgl\"}], \"histogram\": [{\"marker\": {\"colorbar\": {\"outlinewidth\": 0, \"ticks\": \"\"}}, \"type\": \"histogram\"}], \"histogram2d\": [{\"colorbar\": {\"outlinewidth\": 0, \"ticks\": \"\"}, \"colorscale\": [[0.0, \"#0d0887\"], [0.1111111111111111, \"#46039f\"], [0.2222222222222222, \"#7201a8\"], [0.3333333333333333, \"#9c179e\"], [0.4444444444444444, \"#bd3786\"], [0.5555555555555556, \"#d8576b\"], [0.6666666666666666, \"#ed7953\"], [0.7777777777777778, \"#fb9f3a\"], [0.8888888888888888, \"#fdca26\"], [1.0, \"#f0f921\"]], \"type\": \"histogram2d\"}], \"histogram2dcontour\": [{\"colorbar\": {\"outlinewidth\": 0, \"ticks\": \"\"}, \"colorscale\": [[0.0, \"#0d0887\"], [0.1111111111111111, \"#46039f\"], [0.2222222222222222, \"#7201a8\"], [0.3333333333333333, \"#9c179e\"], [0.4444444444444444, \"#bd3786\"], [0.5555555555555556, \"#d8576b\"], [0.6666666666666666, \"#ed7953\"], [0.7777777777777778, \"#fb9f3a\"], [0.8888888888888888, \"#fdca26\"], [1.0, \"#f0f921\"]], \"type\": \"histogram2dcontour\"}], \"mesh3d\": [{\"colorbar\": {\"outlinewidth\": 0, \"ticks\": \"\"}, \"type\": \"mesh3d\"}], \"parcoords\": [{\"line\": {\"colorbar\": {\"outlinewidth\": 0, \"ticks\": \"\"}}, \"type\": \"parcoords\"}], \"pie\": [{\"automargin\": true, \"type\": \"pie\"}], \"scatter\": [{\"marker\": {\"colorbar\": {\"outlinewidth\": 0, \"ticks\": \"\"}}, \"type\": \"scatter\"}], \"scatter3d\": [{\"line\": {\"colorbar\": {\"outlinewidth\": 0, \"ticks\": \"\"}}, \"marker\": {\"colorbar\": {\"outlinewidth\": 0, \"ticks\": \"\"}}, \"type\": \"scatter3d\"}], \"scattercarpet\": [{\"marker\": {\"colorbar\": {\"outlinewidth\": 0, \"ticks\": \"\"}}, \"type\": \"scattercarpet\"}], \"scattergeo\": [{\"marker\": {\"colorbar\": {\"outlinewidth\": 0, \"ticks\": \"\"}}, \"type\": \"scattergeo\"}], \"scattergl\": [{\"marker\": {\"colorbar\": {\"outlinewidth\": 0, \"ticks\": \"\"}}, \"type\": \"scattergl\"}], \"scattermapbox\": [{\"marker\": {\"colorbar\": {\"outlinewidth\": 0, \"ticks\": \"\"}}, \"type\": \"scattermapbox\"}], \"scatterpolar\": [{\"marker\": {\"colorbar\": {\"outlinewidth\": 0, \"ticks\": \"\"}}, \"type\": \"scatterpolar\"}], \"scatterpolargl\": [{\"marker\": {\"colorbar\": {\"outlinewidth\": 0, \"ticks\": \"\"}}, \"type\": \"scatterpolargl\"}], \"scatterternary\": [{\"marker\": {\"colorbar\": {\"outlinewidth\": 0, \"ticks\": \"\"}}, \"type\": \"scatterternary\"}], \"surface\": [{\"colorbar\": {\"outlinewidth\": 0, \"ticks\": \"\"}, \"colorscale\": [[0.0, \"#0d0887\"], [0.1111111111111111, \"#46039f\"], [0.2222222222222222, \"#7201a8\"], [0.3333333333333333, \"#9c179e\"], [0.4444444444444444, \"#bd3786\"], [0.5555555555555556, \"#d8576b\"], [0.6666666666666666, \"#ed7953\"], [0.7777777777777778, \"#fb9f3a\"], [0.8888888888888888, \"#fdca26\"], [1.0, \"#f0f921\"]], \"type\": \"surface\"}], \"table\": [{\"cells\": {\"fill\": {\"color\": \"#EBF0F8\"}, \"line\": {\"color\": \"white\"}}, \"header\": {\"fill\": {\"color\": \"#C8D4E3\"}, \"line\": {\"color\": \"white\"}}, \"type\": \"table\"}]}, \"layout\": {\"annotationdefaults\": {\"arrowcolor\": \"#2a3f5f\", \"arrowhead\": 0, \"arrowwidth\": 1}, \"coloraxis\": {\"colorbar\": {\"outlinewidth\": 0, \"ticks\": \"\"}}, \"colorscale\": {\"diverging\": [[0, \"#8e0152\"], [0.1, \"#c51b7d\"], [0.2, \"#de77ae\"], [0.3, \"#f1b6da\"], [0.4, \"#fde0ef\"], [0.5, \"#f7f7f7\"], [0.6, \"#e6f5d0\"], [0.7, \"#b8e186\"], [0.8, \"#7fbc41\"], [0.9, \"#4d9221\"], [1, \"#276419\"]], \"sequential\": [[0.0, \"#0d0887\"], [0.1111111111111111, \"#46039f\"], [0.2222222222222222, \"#7201a8\"], [0.3333333333333333, \"#9c179e\"], [0.4444444444444444, \"#bd3786\"], [0.5555555555555556, \"#d8576b\"], [0.6666666666666666, \"#ed7953\"], [0.7777777777777778, \"#fb9f3a\"], [0.8888888888888888, \"#fdca26\"], [1.0, \"#f0f921\"]], \"sequentialminus\": [[0.0, \"#0d0887\"], [0.1111111111111111, \"#46039f\"], [0.2222222222222222, \"#7201a8\"], [0.3333333333333333, \"#9c179e\"], [0.4444444444444444, \"#bd3786\"], [0.5555555555555556, \"#d8576b\"], [0.6666666666666666, \"#ed7953\"], [0.7777777777777778, \"#fb9f3a\"], [0.8888888888888888, \"#fdca26\"], [1.0, \"#f0f921\"]]}, \"colorway\": [\"#636efa\", \"#EF553B\", \"#00cc96\", \"#ab63fa\", \"#FFA15A\", \"#19d3f3\", \"#FF6692\", \"#B6E880\", \"#FF97FF\", \"#FECB52\"], \"font\": {\"color\": \"#2a3f5f\"}, \"geo\": {\"bgcolor\": \"white\", \"lakecolor\": \"white\", \"landcolor\": \"#E5ECF6\", \"showlakes\": true, \"showland\": true, \"subunitcolor\": \"white\"}, \"hoverlabel\": {\"align\": \"left\"}, \"hovermode\": \"closest\", \"mapbox\": {\"style\": \"light\"}, \"paper_bgcolor\": \"white\", \"plot_bgcolor\": \"#E5ECF6\", \"polar\": {\"angularaxis\": {\"gridcolor\": \"white\", \"linecolor\": \"white\", \"ticks\": \"\"}, \"bgcolor\": \"#E5ECF6\", \"radialaxis\": {\"gridcolor\": \"white\", \"linecolor\": \"white\", \"ticks\": \"\"}}, \"scene\": {\"xaxis\": {\"backgroundcolor\": \"#E5ECF6\", \"gridcolor\": \"white\", \"gridwidth\": 2, \"linecolor\": \"white\", \"showbackground\": true, \"ticks\": \"\", \"zerolinecolor\": \"white\"}, \"yaxis\": {\"backgroundcolor\": \"#E5ECF6\", \"gridcolor\": \"white\", \"gridwidth\": 2, \"linecolor\": \"white\", \"showbackground\": true, \"ticks\": \"\", \"zerolinecolor\": \"white\"}, \"zaxis\": {\"backgroundcolor\": \"#E5ECF6\", \"gridcolor\": \"white\", \"gridwidth\": 2, \"linecolor\": \"white\", \"showbackground\": true, \"ticks\": \"\", \"zerolinecolor\": \"white\"}}, \"shapedefaults\": {\"line\": {\"color\": \"#2a3f5f\"}}, \"ternary\": {\"aaxis\": {\"gridcolor\": \"white\", \"linecolor\": \"white\", \"ticks\": \"\"}, \"baxis\": {\"gridcolor\": \"white\", \"linecolor\": \"white\", \"ticks\": \"\"}, \"bgcolor\": \"#E5ECF6\", \"caxis\": {\"gridcolor\": \"white\", \"linecolor\": \"white\", \"ticks\": \"\"}}, \"title\": {\"x\": 0.05}, \"xaxis\": {\"automargin\": true, \"gridcolor\": \"white\", \"linecolor\": \"white\", \"ticks\": \"\", \"title\": {\"standoff\": 15}, \"zerolinecolor\": \"white\", \"zerolinewidth\": 2}, \"yaxis\": {\"automargin\": true, \"gridcolor\": \"white\", \"linecolor\": \"white\", \"ticks\": \"\", \"title\": {\"standoff\": 15}, \"zerolinecolor\": \"white\", \"zerolinewidth\": 2}}}, \"title\": {\"text\": \"Baltimor Crime\"}},\n",
       "                        {\"responsive\": true}\n",
       "                    ).then(function(){\n",
       "                            \n",
       "var gd = document.getElementById('edfb7ff6-179b-4649-90d4-8d2d138227ce');\n",
       "var x = new MutationObserver(function (mutations, observer) {{\n",
       "        var display = window.getComputedStyle(gd).display;\n",
       "        if (!display || display === 'none') {{\n",
       "            console.log([gd, 'removed!']);\n",
       "            Plotly.purge(gd);\n",
       "            observer.disconnect();\n",
       "        }}\n",
       "}});\n",
       "\n",
       "// Listen for the removal of the full notebook cells\n",
       "var notebookContainer = gd.closest('#notebook-container');\n",
       "if (notebookContainer) {{\n",
       "    x.observe(notebookContainer, {childList: true});\n",
       "}}\n",
       "\n",
       "// Listen for the clearing of the current output cell\n",
       "var outputEl = gd.closest('.output');\n",
       "if (outputEl) {{\n",
       "    x.observe(outputEl, {childList: true});\n",
       "}}\n",
       "\n",
       "                        })\n",
       "                };\n",
       "                });\n",
       "            </script>\n",
       "        </div>"
      ]
     },
     "metadata": {},
     "output_type": "display_data"
    }
   ],
   "source": [
    "trace0 = go.Scatter(\n",
    "    x=districts_line_plot.index,\n",
    "    y=districts_line_plot['CENTRAL'],\n",
    "    name='CENTRAL'\n",
    ")\n",
    "\n",
    "trace1 = go.Scatter(\n",
    "    x=districts_line_plot.index,\n",
    "    y=districts_line_plot['EASTERN'],\n",
    "    name='EASTERN'\n",
    ")\n",
    "\n",
    "trace2 = go.Scatter(\n",
    "    x=districts_line_plot.index,\n",
    "    y=districts_line_plot['NORTHEASTERN'],\n",
    "    name='NORTHEASTERN'\n",
    ")\n",
    "\n",
    "trace3 = go.Scatter(\n",
    "    x=districts_line_plot.index,\n",
    "    y=districts_line_plot['NORTHERN'],\n",
    "    name='NORTHERN'\n",
    ")\n",
    "\n",
    "\n",
    "trace4 = go.Scatter(\n",
    "    x=districts_line_plot.index,\n",
    "    y=districts_line_plot['NORTHWESTERN'],\n",
    "    name='NORTHWESTERN'\n",
    ")\n",
    "\n",
    "trace5 = go.Scatter(\n",
    "    x=districts_line_plot.index,\n",
    "    y=districts_line_plot['SOUTHEASTERN'],\n",
    "    name='SOUTHEASTERN'\n",
    ")\n",
    "\n",
    "trace6 = go.Scatter(\n",
    "    x=districts_line_plot.index,\n",
    "    y=districts_line_plot['SOUTHERN'],\n",
    "    name='SOUTHERN'\n",
    ")\n",
    "\n",
    "trace7 = go.Scatter(\n",
    "    x=districts_line_plot.index,\n",
    "    y=districts_line_plot['SOUTHWESTERN'],\n",
    "    name='SOUTHWESTERN'\n",
    ")\n",
    "\n",
    "trace8 = go.Scatter(\n",
    "    x=districts_line_plot.index,\n",
    "    y=districts_line_plot['WESTERN'],\n",
    "    name='WESTERN'\n",
    ")\n",
    "\n",
    "data = [trace0, trace1, trace2, trace3, trace4, trace5, trace6, trace7, trace8]\n",
    "layout = {'title': 'Baltimor Crime'}\n",
    "\n",
    "fig = go.Figure(data=data, layout=layout)\n",
    "\n",
    "iplot(fig)\n",
    "\n",
    "#в общем, тут наконец-то как-то лучше видно, какие районы самые (не)благополучные в плане преступности в целом \n",
    "#куда понятней, чем на круговом пироге"
   ]
  },
  {
   "cell_type": "code",
   "execution_count": 33,
   "metadata": {},
   "outputs": [],
   "source": [
    "#ну это я сначала руками написал замучался, потом сообразил, что функция есть и даже готовая в ноутбуке с лекции\n",
    "#правда, не понял, почему отобразилось в окне со скроллом\n",
    "\n",
    "def plotly_line_plot(df, title = ''):\n",
    "    data = []\n",
    "    \n",
    "    for column in df.columns:\n",
    "        trace = go.Scatter(\n",
    "            x = df.index,\n",
    "            y = df[column],\n",
    "            mode = 'lines',\n",
    "            name = column\n",
    "        )\n",
    "        data.append(trace)\n",
    "    \n",
    "    layout = dict(title = title)\n",
    "    fig = dict(data = data, layout = layout)\n",
    "    iplot(fig, show_link=False)"
   ]
  },
  {
   "cell_type": "code",
   "execution_count": 34,
   "metadata": {
    "scrolled": true
   },
   "outputs": [
    {
     "data": {
      "application/vnd.plotly.v1+json": {
       "config": {
        "linkText": "Export to plot.ly",
        "plotlyServerURL": "https://plot.ly",
        "showLink": false
       },
       "data": [
        {
         "mode": "lines",
         "name": "CENTRAL",
         "type": "scatter",
         "x": [
          "2012",
          "2013",
          "2014",
          "2015",
          "2016",
          "2017"
         ],
         "y": [
          6496,
          5656,
          5034,
          5317,
          5700,
          3428
         ]
        },
        {
         "mode": "lines",
         "name": "EASTERN",
         "type": "scatter",
         "x": [
          "2012",
          "2013",
          "2014",
          "2015",
          "2016",
          "2017"
         ],
         "y": [
          4235,
          4135,
          3661,
          4098,
          4275,
          3231
         ]
        },
        {
         "mode": "lines",
         "name": "NORTHEASTERN",
         "type": "scatter",
         "x": [
          "2012",
          "2013",
          "2014",
          "2015",
          "2016",
          "2017"
         ],
         "y": [
          7728,
          7838,
          7513,
          7723,
          6882,
          5322
         ]
        },
        {
         "mode": "lines",
         "name": "NORTHERN",
         "type": "scatter",
         "x": [
          "2012",
          "2013",
          "2014",
          "2015",
          "2016",
          "2017"
         ],
         "y": [
          5586,
          5741,
          5320,
          5948,
          5409,
          3661
         ]
        },
        {
         "mode": "lines",
         "name": "NORTHWESTERN",
         "type": "scatter",
         "x": [
          "2012",
          "2013",
          "2014",
          "2015",
          "2016",
          "2017"
         ],
         "y": [
          4886,
          5324,
          4703,
          4778,
          4937,
          3433
         ]
        },
        {
         "mode": "lines",
         "name": "SOUTHEASTERN",
         "type": "scatter",
         "x": [
          "2012",
          "2013",
          "2014",
          "2015",
          "2016",
          "2017"
         ],
         "y": [
          6580,
          6983,
          6427,
          7105,
          6686,
          4510
         ]
        },
        {
         "mode": "lines",
         "name": "SOUTHERN",
         "type": "scatter",
         "x": [
          "2012",
          "2013",
          "2014",
          "2015",
          "2016",
          "2017"
         ],
         "y": [
          5796,
          5581,
          5213,
          5224,
          6001,
          4035
         ]
        },
        {
         "mode": "lines",
         "name": "SOUTHWESTERN",
         "type": "scatter",
         "x": [
          "2012",
          "2013",
          "2014",
          "2015",
          "2016",
          "2017"
         ],
         "y": [
          4440,
          4265,
          4357,
          4620,
          4767,
          3643
         ]
        },
        {
         "mode": "lines",
         "name": "WESTERN",
         "type": "scatter",
         "x": [
          "2012",
          "2013",
          "2014",
          "2015",
          "2016",
          "2017"
         ],
         "y": [
          3812,
          4035,
          3728,
          4007,
          4079,
          2557
         ]
        }
       ],
       "layout": {
        "template": {
         "data": {
          "bar": [
           {
            "error_x": {
             "color": "#2a3f5f"
            },
            "error_y": {
             "color": "#2a3f5f"
            },
            "marker": {
             "line": {
              "color": "#E5ECF6",
              "width": 0.5
             }
            },
            "type": "bar"
           }
          ],
          "barpolar": [
           {
            "marker": {
             "line": {
              "color": "#E5ECF6",
              "width": 0.5
             }
            },
            "type": "barpolar"
           }
          ],
          "carpet": [
           {
            "aaxis": {
             "endlinecolor": "#2a3f5f",
             "gridcolor": "white",
             "linecolor": "white",
             "minorgridcolor": "white",
             "startlinecolor": "#2a3f5f"
            },
            "baxis": {
             "endlinecolor": "#2a3f5f",
             "gridcolor": "white",
             "linecolor": "white",
             "minorgridcolor": "white",
             "startlinecolor": "#2a3f5f"
            },
            "type": "carpet"
           }
          ],
          "choropleth": [
           {
            "colorbar": {
             "outlinewidth": 0,
             "ticks": ""
            },
            "type": "choropleth"
           }
          ],
          "contour": [
           {
            "colorbar": {
             "outlinewidth": 0,
             "ticks": ""
            },
            "colorscale": [
             [
              0,
              "#0d0887"
             ],
             [
              0.1111111111111111,
              "#46039f"
             ],
             [
              0.2222222222222222,
              "#7201a8"
             ],
             [
              0.3333333333333333,
              "#9c179e"
             ],
             [
              0.4444444444444444,
              "#bd3786"
             ],
             [
              0.5555555555555556,
              "#d8576b"
             ],
             [
              0.6666666666666666,
              "#ed7953"
             ],
             [
              0.7777777777777778,
              "#fb9f3a"
             ],
             [
              0.8888888888888888,
              "#fdca26"
             ],
             [
              1,
              "#f0f921"
             ]
            ],
            "type": "contour"
           }
          ],
          "contourcarpet": [
           {
            "colorbar": {
             "outlinewidth": 0,
             "ticks": ""
            },
            "type": "contourcarpet"
           }
          ],
          "heatmap": [
           {
            "colorbar": {
             "outlinewidth": 0,
             "ticks": ""
            },
            "colorscale": [
             [
              0,
              "#0d0887"
             ],
             [
              0.1111111111111111,
              "#46039f"
             ],
             [
              0.2222222222222222,
              "#7201a8"
             ],
             [
              0.3333333333333333,
              "#9c179e"
             ],
             [
              0.4444444444444444,
              "#bd3786"
             ],
             [
              0.5555555555555556,
              "#d8576b"
             ],
             [
              0.6666666666666666,
              "#ed7953"
             ],
             [
              0.7777777777777778,
              "#fb9f3a"
             ],
             [
              0.8888888888888888,
              "#fdca26"
             ],
             [
              1,
              "#f0f921"
             ]
            ],
            "type": "heatmap"
           }
          ],
          "heatmapgl": [
           {
            "colorbar": {
             "outlinewidth": 0,
             "ticks": ""
            },
            "colorscale": [
             [
              0,
              "#0d0887"
             ],
             [
              0.1111111111111111,
              "#46039f"
             ],
             [
              0.2222222222222222,
              "#7201a8"
             ],
             [
              0.3333333333333333,
              "#9c179e"
             ],
             [
              0.4444444444444444,
              "#bd3786"
             ],
             [
              0.5555555555555556,
              "#d8576b"
             ],
             [
              0.6666666666666666,
              "#ed7953"
             ],
             [
              0.7777777777777778,
              "#fb9f3a"
             ],
             [
              0.8888888888888888,
              "#fdca26"
             ],
             [
              1,
              "#f0f921"
             ]
            ],
            "type": "heatmapgl"
           }
          ],
          "histogram": [
           {
            "marker": {
             "colorbar": {
              "outlinewidth": 0,
              "ticks": ""
             }
            },
            "type": "histogram"
           }
          ],
          "histogram2d": [
           {
            "colorbar": {
             "outlinewidth": 0,
             "ticks": ""
            },
            "colorscale": [
             [
              0,
              "#0d0887"
             ],
             [
              0.1111111111111111,
              "#46039f"
             ],
             [
              0.2222222222222222,
              "#7201a8"
             ],
             [
              0.3333333333333333,
              "#9c179e"
             ],
             [
              0.4444444444444444,
              "#bd3786"
             ],
             [
              0.5555555555555556,
              "#d8576b"
             ],
             [
              0.6666666666666666,
              "#ed7953"
             ],
             [
              0.7777777777777778,
              "#fb9f3a"
             ],
             [
              0.8888888888888888,
              "#fdca26"
             ],
             [
              1,
              "#f0f921"
             ]
            ],
            "type": "histogram2d"
           }
          ],
          "histogram2dcontour": [
           {
            "colorbar": {
             "outlinewidth": 0,
             "ticks": ""
            },
            "colorscale": [
             [
              0,
              "#0d0887"
             ],
             [
              0.1111111111111111,
              "#46039f"
             ],
             [
              0.2222222222222222,
              "#7201a8"
             ],
             [
              0.3333333333333333,
              "#9c179e"
             ],
             [
              0.4444444444444444,
              "#bd3786"
             ],
             [
              0.5555555555555556,
              "#d8576b"
             ],
             [
              0.6666666666666666,
              "#ed7953"
             ],
             [
              0.7777777777777778,
              "#fb9f3a"
             ],
             [
              0.8888888888888888,
              "#fdca26"
             ],
             [
              1,
              "#f0f921"
             ]
            ],
            "type": "histogram2dcontour"
           }
          ],
          "mesh3d": [
           {
            "colorbar": {
             "outlinewidth": 0,
             "ticks": ""
            },
            "type": "mesh3d"
           }
          ],
          "parcoords": [
           {
            "line": {
             "colorbar": {
              "outlinewidth": 0,
              "ticks": ""
             }
            },
            "type": "parcoords"
           }
          ],
          "pie": [
           {
            "automargin": true,
            "type": "pie"
           }
          ],
          "scatter": [
           {
            "marker": {
             "colorbar": {
              "outlinewidth": 0,
              "ticks": ""
             }
            },
            "type": "scatter"
           }
          ],
          "scatter3d": [
           {
            "line": {
             "colorbar": {
              "outlinewidth": 0,
              "ticks": ""
             }
            },
            "marker": {
             "colorbar": {
              "outlinewidth": 0,
              "ticks": ""
             }
            },
            "type": "scatter3d"
           }
          ],
          "scattercarpet": [
           {
            "marker": {
             "colorbar": {
              "outlinewidth": 0,
              "ticks": ""
             }
            },
            "type": "scattercarpet"
           }
          ],
          "scattergeo": [
           {
            "marker": {
             "colorbar": {
              "outlinewidth": 0,
              "ticks": ""
             }
            },
            "type": "scattergeo"
           }
          ],
          "scattergl": [
           {
            "marker": {
             "colorbar": {
              "outlinewidth": 0,
              "ticks": ""
             }
            },
            "type": "scattergl"
           }
          ],
          "scattermapbox": [
           {
            "marker": {
             "colorbar": {
              "outlinewidth": 0,
              "ticks": ""
             }
            },
            "type": "scattermapbox"
           }
          ],
          "scatterpolar": [
           {
            "marker": {
             "colorbar": {
              "outlinewidth": 0,
              "ticks": ""
             }
            },
            "type": "scatterpolar"
           }
          ],
          "scatterpolargl": [
           {
            "marker": {
             "colorbar": {
              "outlinewidth": 0,
              "ticks": ""
             }
            },
            "type": "scatterpolargl"
           }
          ],
          "scatterternary": [
           {
            "marker": {
             "colorbar": {
              "outlinewidth": 0,
              "ticks": ""
             }
            },
            "type": "scatterternary"
           }
          ],
          "surface": [
           {
            "colorbar": {
             "outlinewidth": 0,
             "ticks": ""
            },
            "colorscale": [
             [
              0,
              "#0d0887"
             ],
             [
              0.1111111111111111,
              "#46039f"
             ],
             [
              0.2222222222222222,
              "#7201a8"
             ],
             [
              0.3333333333333333,
              "#9c179e"
             ],
             [
              0.4444444444444444,
              "#bd3786"
             ],
             [
              0.5555555555555556,
              "#d8576b"
             ],
             [
              0.6666666666666666,
              "#ed7953"
             ],
             [
              0.7777777777777778,
              "#fb9f3a"
             ],
             [
              0.8888888888888888,
              "#fdca26"
             ],
             [
              1,
              "#f0f921"
             ]
            ],
            "type": "surface"
           }
          ],
          "table": [
           {
            "cells": {
             "fill": {
              "color": "#EBF0F8"
             },
             "line": {
              "color": "white"
             }
            },
            "header": {
             "fill": {
              "color": "#C8D4E3"
             },
             "line": {
              "color": "white"
             }
            },
            "type": "table"
           }
          ]
         },
         "layout": {
          "annotationdefaults": {
           "arrowcolor": "#2a3f5f",
           "arrowhead": 0,
           "arrowwidth": 1
          },
          "coloraxis": {
           "colorbar": {
            "outlinewidth": 0,
            "ticks": ""
           }
          },
          "colorscale": {
           "diverging": [
            [
             0,
             "#8e0152"
            ],
            [
             0.1,
             "#c51b7d"
            ],
            [
             0.2,
             "#de77ae"
            ],
            [
             0.3,
             "#f1b6da"
            ],
            [
             0.4,
             "#fde0ef"
            ],
            [
             0.5,
             "#f7f7f7"
            ],
            [
             0.6,
             "#e6f5d0"
            ],
            [
             0.7,
             "#b8e186"
            ],
            [
             0.8,
             "#7fbc41"
            ],
            [
             0.9,
             "#4d9221"
            ],
            [
             1,
             "#276419"
            ]
           ],
           "sequential": [
            [
             0,
             "#0d0887"
            ],
            [
             0.1111111111111111,
             "#46039f"
            ],
            [
             0.2222222222222222,
             "#7201a8"
            ],
            [
             0.3333333333333333,
             "#9c179e"
            ],
            [
             0.4444444444444444,
             "#bd3786"
            ],
            [
             0.5555555555555556,
             "#d8576b"
            ],
            [
             0.6666666666666666,
             "#ed7953"
            ],
            [
             0.7777777777777778,
             "#fb9f3a"
            ],
            [
             0.8888888888888888,
             "#fdca26"
            ],
            [
             1,
             "#f0f921"
            ]
           ],
           "sequentialminus": [
            [
             0,
             "#0d0887"
            ],
            [
             0.1111111111111111,
             "#46039f"
            ],
            [
             0.2222222222222222,
             "#7201a8"
            ],
            [
             0.3333333333333333,
             "#9c179e"
            ],
            [
             0.4444444444444444,
             "#bd3786"
            ],
            [
             0.5555555555555556,
             "#d8576b"
            ],
            [
             0.6666666666666666,
             "#ed7953"
            ],
            [
             0.7777777777777778,
             "#fb9f3a"
            ],
            [
             0.8888888888888888,
             "#fdca26"
            ],
            [
             1,
             "#f0f921"
            ]
           ]
          },
          "colorway": [
           "#636efa",
           "#EF553B",
           "#00cc96",
           "#ab63fa",
           "#FFA15A",
           "#19d3f3",
           "#FF6692",
           "#B6E880",
           "#FF97FF",
           "#FECB52"
          ],
          "font": {
           "color": "#2a3f5f"
          },
          "geo": {
           "bgcolor": "white",
           "lakecolor": "white",
           "landcolor": "#E5ECF6",
           "showlakes": true,
           "showland": true,
           "subunitcolor": "white"
          },
          "hoverlabel": {
           "align": "left"
          },
          "hovermode": "closest",
          "mapbox": {
           "style": "light"
          },
          "paper_bgcolor": "white",
          "plot_bgcolor": "#E5ECF6",
          "polar": {
           "angularaxis": {
            "gridcolor": "white",
            "linecolor": "white",
            "ticks": ""
           },
           "bgcolor": "#E5ECF6",
           "radialaxis": {
            "gridcolor": "white",
            "linecolor": "white",
            "ticks": ""
           }
          },
          "scene": {
           "xaxis": {
            "backgroundcolor": "#E5ECF6",
            "gridcolor": "white",
            "gridwidth": 2,
            "linecolor": "white",
            "showbackground": true,
            "ticks": "",
            "zerolinecolor": "white"
           },
           "yaxis": {
            "backgroundcolor": "#E5ECF6",
            "gridcolor": "white",
            "gridwidth": 2,
            "linecolor": "white",
            "showbackground": true,
            "ticks": "",
            "zerolinecolor": "white"
           },
           "zaxis": {
            "backgroundcolor": "#E5ECF6",
            "gridcolor": "white",
            "gridwidth": 2,
            "linecolor": "white",
            "showbackground": true,
            "ticks": "",
            "zerolinecolor": "white"
           }
          },
          "shapedefaults": {
           "line": {
            "color": "#2a3f5f"
           }
          },
          "ternary": {
           "aaxis": {
            "gridcolor": "white",
            "linecolor": "white",
            "ticks": ""
           },
           "baxis": {
            "gridcolor": "white",
            "linecolor": "white",
            "ticks": ""
           },
           "bgcolor": "#E5ECF6",
           "caxis": {
            "gridcolor": "white",
            "linecolor": "white",
            "ticks": ""
           }
          },
          "title": {
           "x": 0.05
          },
          "xaxis": {
           "automargin": true,
           "gridcolor": "white",
           "linecolor": "white",
           "ticks": "",
           "title": {
            "standoff": 15
           },
           "zerolinecolor": "white",
           "zerolinewidth": 2
          },
          "yaxis": {
           "automargin": true,
           "gridcolor": "white",
           "linecolor": "white",
           "ticks": "",
           "title": {
            "standoff": 15
           },
           "zerolinecolor": "white",
           "zerolinewidth": 2
          }
         }
        },
        "title": {
         "text": "Baltimor"
        }
       }
      },
      "text/html": [
       "<div>\n",
       "        \n",
       "        \n",
       "            <div id=\"7fd352d8-0f14-4340-91ae-bbeb38b7d283\" class=\"plotly-graph-div\" style=\"height:525px; width:100%;\"></div>\n",
       "            <script type=\"text/javascript\">\n",
       "                require([\"plotly\"], function(Plotly) {\n",
       "                    window.PLOTLYENV=window.PLOTLYENV || {};\n",
       "                    \n",
       "                if (document.getElementById(\"7fd352d8-0f14-4340-91ae-bbeb38b7d283\")) {\n",
       "                    Plotly.newPlot(\n",
       "                        '7fd352d8-0f14-4340-91ae-bbeb38b7d283',\n",
       "                        [{\"mode\": \"lines\", \"name\": \"CENTRAL\", \"type\": \"scatter\", \"x\": [\"2012\", \"2013\", \"2014\", \"2015\", \"2016\", \"2017\"], \"y\": [6496, 5656, 5034, 5317, 5700, 3428]}, {\"mode\": \"lines\", \"name\": \"EASTERN\", \"type\": \"scatter\", \"x\": [\"2012\", \"2013\", \"2014\", \"2015\", \"2016\", \"2017\"], \"y\": [4235, 4135, 3661, 4098, 4275, 3231]}, {\"mode\": \"lines\", \"name\": \"NORTHEASTERN\", \"type\": \"scatter\", \"x\": [\"2012\", \"2013\", \"2014\", \"2015\", \"2016\", \"2017\"], \"y\": [7728, 7838, 7513, 7723, 6882, 5322]}, {\"mode\": \"lines\", \"name\": \"NORTHERN\", \"type\": \"scatter\", \"x\": [\"2012\", \"2013\", \"2014\", \"2015\", \"2016\", \"2017\"], \"y\": [5586, 5741, 5320, 5948, 5409, 3661]}, {\"mode\": \"lines\", \"name\": \"NORTHWESTERN\", \"type\": \"scatter\", \"x\": [\"2012\", \"2013\", \"2014\", \"2015\", \"2016\", \"2017\"], \"y\": [4886, 5324, 4703, 4778, 4937, 3433]}, {\"mode\": \"lines\", \"name\": \"SOUTHEASTERN\", \"type\": \"scatter\", \"x\": [\"2012\", \"2013\", \"2014\", \"2015\", \"2016\", \"2017\"], \"y\": [6580, 6983, 6427, 7105, 6686, 4510]}, {\"mode\": \"lines\", \"name\": \"SOUTHERN\", \"type\": \"scatter\", \"x\": [\"2012\", \"2013\", \"2014\", \"2015\", \"2016\", \"2017\"], \"y\": [5796, 5581, 5213, 5224, 6001, 4035]}, {\"mode\": \"lines\", \"name\": \"SOUTHWESTERN\", \"type\": \"scatter\", \"x\": [\"2012\", \"2013\", \"2014\", \"2015\", \"2016\", \"2017\"], \"y\": [4440, 4265, 4357, 4620, 4767, 3643]}, {\"mode\": \"lines\", \"name\": \"WESTERN\", \"type\": \"scatter\", \"x\": [\"2012\", \"2013\", \"2014\", \"2015\", \"2016\", \"2017\"], \"y\": [3812, 4035, 3728, 4007, 4079, 2557]}],\n",
       "                        {\"template\": {\"data\": {\"bar\": [{\"error_x\": {\"color\": \"#2a3f5f\"}, \"error_y\": {\"color\": \"#2a3f5f\"}, \"marker\": {\"line\": {\"color\": \"#E5ECF6\", \"width\": 0.5}}, \"type\": \"bar\"}], \"barpolar\": [{\"marker\": {\"line\": {\"color\": \"#E5ECF6\", \"width\": 0.5}}, \"type\": \"barpolar\"}], \"carpet\": [{\"aaxis\": {\"endlinecolor\": \"#2a3f5f\", \"gridcolor\": \"white\", \"linecolor\": \"white\", \"minorgridcolor\": \"white\", \"startlinecolor\": \"#2a3f5f\"}, \"baxis\": {\"endlinecolor\": \"#2a3f5f\", \"gridcolor\": \"white\", \"linecolor\": \"white\", \"minorgridcolor\": \"white\", \"startlinecolor\": \"#2a3f5f\"}, \"type\": \"carpet\"}], \"choropleth\": [{\"colorbar\": {\"outlinewidth\": 0, \"ticks\": \"\"}, \"type\": \"choropleth\"}], \"contour\": [{\"colorbar\": {\"outlinewidth\": 0, \"ticks\": \"\"}, \"colorscale\": [[0.0, \"#0d0887\"], [0.1111111111111111, \"#46039f\"], [0.2222222222222222, \"#7201a8\"], [0.3333333333333333, \"#9c179e\"], [0.4444444444444444, \"#bd3786\"], [0.5555555555555556, \"#d8576b\"], [0.6666666666666666, \"#ed7953\"], [0.7777777777777778, \"#fb9f3a\"], [0.8888888888888888, \"#fdca26\"], [1.0, \"#f0f921\"]], \"type\": \"contour\"}], \"contourcarpet\": [{\"colorbar\": {\"outlinewidth\": 0, \"ticks\": \"\"}, \"type\": \"contourcarpet\"}], \"heatmap\": [{\"colorbar\": {\"outlinewidth\": 0, \"ticks\": \"\"}, \"colorscale\": [[0.0, \"#0d0887\"], [0.1111111111111111, \"#46039f\"], [0.2222222222222222, \"#7201a8\"], [0.3333333333333333, \"#9c179e\"], [0.4444444444444444, \"#bd3786\"], [0.5555555555555556, \"#d8576b\"], [0.6666666666666666, \"#ed7953\"], [0.7777777777777778, \"#fb9f3a\"], [0.8888888888888888, \"#fdca26\"], [1.0, \"#f0f921\"]], \"type\": \"heatmap\"}], \"heatmapgl\": [{\"colorbar\": {\"outlinewidth\": 0, \"ticks\": \"\"}, \"colorscale\": [[0.0, \"#0d0887\"], [0.1111111111111111, \"#46039f\"], [0.2222222222222222, \"#7201a8\"], [0.3333333333333333, \"#9c179e\"], [0.4444444444444444, \"#bd3786\"], [0.5555555555555556, \"#d8576b\"], [0.6666666666666666, \"#ed7953\"], [0.7777777777777778, \"#fb9f3a\"], [0.8888888888888888, \"#fdca26\"], [1.0, \"#f0f921\"]], \"type\": \"heatmapgl\"}], \"histogram\": [{\"marker\": {\"colorbar\": {\"outlinewidth\": 0, \"ticks\": \"\"}}, \"type\": \"histogram\"}], \"histogram2d\": [{\"colorbar\": {\"outlinewidth\": 0, \"ticks\": \"\"}, \"colorscale\": [[0.0, \"#0d0887\"], [0.1111111111111111, \"#46039f\"], [0.2222222222222222, \"#7201a8\"], [0.3333333333333333, \"#9c179e\"], [0.4444444444444444, \"#bd3786\"], [0.5555555555555556, \"#d8576b\"], [0.6666666666666666, \"#ed7953\"], [0.7777777777777778, \"#fb9f3a\"], [0.8888888888888888, \"#fdca26\"], [1.0, \"#f0f921\"]], \"type\": \"histogram2d\"}], \"histogram2dcontour\": [{\"colorbar\": {\"outlinewidth\": 0, \"ticks\": \"\"}, \"colorscale\": [[0.0, \"#0d0887\"], [0.1111111111111111, \"#46039f\"], [0.2222222222222222, \"#7201a8\"], [0.3333333333333333, \"#9c179e\"], [0.4444444444444444, \"#bd3786\"], [0.5555555555555556, \"#d8576b\"], [0.6666666666666666, \"#ed7953\"], [0.7777777777777778, \"#fb9f3a\"], [0.8888888888888888, \"#fdca26\"], [1.0, \"#f0f921\"]], \"type\": \"histogram2dcontour\"}], \"mesh3d\": [{\"colorbar\": {\"outlinewidth\": 0, \"ticks\": \"\"}, \"type\": \"mesh3d\"}], \"parcoords\": [{\"line\": {\"colorbar\": {\"outlinewidth\": 0, \"ticks\": \"\"}}, \"type\": \"parcoords\"}], \"pie\": [{\"automargin\": true, \"type\": \"pie\"}], \"scatter\": [{\"marker\": {\"colorbar\": {\"outlinewidth\": 0, \"ticks\": \"\"}}, \"type\": \"scatter\"}], \"scatter3d\": [{\"line\": {\"colorbar\": {\"outlinewidth\": 0, \"ticks\": \"\"}}, \"marker\": {\"colorbar\": {\"outlinewidth\": 0, \"ticks\": \"\"}}, \"type\": \"scatter3d\"}], \"scattercarpet\": [{\"marker\": {\"colorbar\": {\"outlinewidth\": 0, \"ticks\": \"\"}}, \"type\": \"scattercarpet\"}], \"scattergeo\": [{\"marker\": {\"colorbar\": {\"outlinewidth\": 0, \"ticks\": \"\"}}, \"type\": \"scattergeo\"}], \"scattergl\": [{\"marker\": {\"colorbar\": {\"outlinewidth\": 0, \"ticks\": \"\"}}, \"type\": \"scattergl\"}], \"scattermapbox\": [{\"marker\": {\"colorbar\": {\"outlinewidth\": 0, \"ticks\": \"\"}}, \"type\": \"scattermapbox\"}], \"scatterpolar\": [{\"marker\": {\"colorbar\": {\"outlinewidth\": 0, \"ticks\": \"\"}}, \"type\": \"scatterpolar\"}], \"scatterpolargl\": [{\"marker\": {\"colorbar\": {\"outlinewidth\": 0, \"ticks\": \"\"}}, \"type\": \"scatterpolargl\"}], \"scatterternary\": [{\"marker\": {\"colorbar\": {\"outlinewidth\": 0, \"ticks\": \"\"}}, \"type\": \"scatterternary\"}], \"surface\": [{\"colorbar\": {\"outlinewidth\": 0, \"ticks\": \"\"}, \"colorscale\": [[0.0, \"#0d0887\"], [0.1111111111111111, \"#46039f\"], [0.2222222222222222, \"#7201a8\"], [0.3333333333333333, \"#9c179e\"], [0.4444444444444444, \"#bd3786\"], [0.5555555555555556, \"#d8576b\"], [0.6666666666666666, \"#ed7953\"], [0.7777777777777778, \"#fb9f3a\"], [0.8888888888888888, \"#fdca26\"], [1.0, \"#f0f921\"]], \"type\": \"surface\"}], \"table\": [{\"cells\": {\"fill\": {\"color\": \"#EBF0F8\"}, \"line\": {\"color\": \"white\"}}, \"header\": {\"fill\": {\"color\": \"#C8D4E3\"}, \"line\": {\"color\": \"white\"}}, \"type\": \"table\"}]}, \"layout\": {\"annotationdefaults\": {\"arrowcolor\": \"#2a3f5f\", \"arrowhead\": 0, \"arrowwidth\": 1}, \"coloraxis\": {\"colorbar\": {\"outlinewidth\": 0, \"ticks\": \"\"}}, \"colorscale\": {\"diverging\": [[0, \"#8e0152\"], [0.1, \"#c51b7d\"], [0.2, \"#de77ae\"], [0.3, \"#f1b6da\"], [0.4, \"#fde0ef\"], [0.5, \"#f7f7f7\"], [0.6, \"#e6f5d0\"], [0.7, \"#b8e186\"], [0.8, \"#7fbc41\"], [0.9, \"#4d9221\"], [1, \"#276419\"]], \"sequential\": [[0.0, \"#0d0887\"], [0.1111111111111111, \"#46039f\"], [0.2222222222222222, \"#7201a8\"], [0.3333333333333333, \"#9c179e\"], [0.4444444444444444, \"#bd3786\"], [0.5555555555555556, \"#d8576b\"], [0.6666666666666666, \"#ed7953\"], [0.7777777777777778, \"#fb9f3a\"], [0.8888888888888888, \"#fdca26\"], [1.0, \"#f0f921\"]], \"sequentialminus\": [[0.0, \"#0d0887\"], [0.1111111111111111, \"#46039f\"], [0.2222222222222222, \"#7201a8\"], [0.3333333333333333, \"#9c179e\"], [0.4444444444444444, \"#bd3786\"], [0.5555555555555556, \"#d8576b\"], [0.6666666666666666, \"#ed7953\"], [0.7777777777777778, \"#fb9f3a\"], [0.8888888888888888, \"#fdca26\"], [1.0, \"#f0f921\"]]}, \"colorway\": [\"#636efa\", \"#EF553B\", \"#00cc96\", \"#ab63fa\", \"#FFA15A\", \"#19d3f3\", \"#FF6692\", \"#B6E880\", \"#FF97FF\", \"#FECB52\"], \"font\": {\"color\": \"#2a3f5f\"}, \"geo\": {\"bgcolor\": \"white\", \"lakecolor\": \"white\", \"landcolor\": \"#E5ECF6\", \"showlakes\": true, \"showland\": true, \"subunitcolor\": \"white\"}, \"hoverlabel\": {\"align\": \"left\"}, \"hovermode\": \"closest\", \"mapbox\": {\"style\": \"light\"}, \"paper_bgcolor\": \"white\", \"plot_bgcolor\": \"#E5ECF6\", \"polar\": {\"angularaxis\": {\"gridcolor\": \"white\", \"linecolor\": \"white\", \"ticks\": \"\"}, \"bgcolor\": \"#E5ECF6\", \"radialaxis\": {\"gridcolor\": \"white\", \"linecolor\": \"white\", \"ticks\": \"\"}}, \"scene\": {\"xaxis\": {\"backgroundcolor\": \"#E5ECF6\", \"gridcolor\": \"white\", \"gridwidth\": 2, \"linecolor\": \"white\", \"showbackground\": true, \"ticks\": \"\", \"zerolinecolor\": \"white\"}, \"yaxis\": {\"backgroundcolor\": \"#E5ECF6\", \"gridcolor\": \"white\", \"gridwidth\": 2, \"linecolor\": \"white\", \"showbackground\": true, \"ticks\": \"\", \"zerolinecolor\": \"white\"}, \"zaxis\": {\"backgroundcolor\": \"#E5ECF6\", \"gridcolor\": \"white\", \"gridwidth\": 2, \"linecolor\": \"white\", \"showbackground\": true, \"ticks\": \"\", \"zerolinecolor\": \"white\"}}, \"shapedefaults\": {\"line\": {\"color\": \"#2a3f5f\"}}, \"ternary\": {\"aaxis\": {\"gridcolor\": \"white\", \"linecolor\": \"white\", \"ticks\": \"\"}, \"baxis\": {\"gridcolor\": \"white\", \"linecolor\": \"white\", \"ticks\": \"\"}, \"bgcolor\": \"#E5ECF6\", \"caxis\": {\"gridcolor\": \"white\", \"linecolor\": \"white\", \"ticks\": \"\"}}, \"title\": {\"x\": 0.05}, \"xaxis\": {\"automargin\": true, \"gridcolor\": \"white\", \"linecolor\": \"white\", \"ticks\": \"\", \"title\": {\"standoff\": 15}, \"zerolinecolor\": \"white\", \"zerolinewidth\": 2}, \"yaxis\": {\"automargin\": true, \"gridcolor\": \"white\", \"linecolor\": \"white\", \"ticks\": \"\", \"title\": {\"standoff\": 15}, \"zerolinecolor\": \"white\", \"zerolinewidth\": 2}}}, \"title\": {\"text\": \"Baltimor\"}},\n",
       "                        {\"responsive\": true}\n",
       "                    ).then(function(){\n",
       "                            \n",
       "var gd = document.getElementById('7fd352d8-0f14-4340-91ae-bbeb38b7d283');\n",
       "var x = new MutationObserver(function (mutations, observer) {{\n",
       "        var display = window.getComputedStyle(gd).display;\n",
       "        if (!display || display === 'none') {{\n",
       "            console.log([gd, 'removed!']);\n",
       "            Plotly.purge(gd);\n",
       "            observer.disconnect();\n",
       "        }}\n",
       "}});\n",
       "\n",
       "// Listen for the removal of the full notebook cells\n",
       "var notebookContainer = gd.closest('#notebook-container');\n",
       "if (notebookContainer) {{\n",
       "    x.observe(notebookContainer, {childList: true});\n",
       "}}\n",
       "\n",
       "// Listen for the clearing of the current output cell\n",
       "var outputEl = gd.closest('.output');\n",
       "if (outputEl) {{\n",
       "    x.observe(outputEl, {childList: true});\n",
       "}}\n",
       "\n",
       "                        })\n",
       "                };\n",
       "                });\n",
       "            </script>\n",
       "        </div>"
      ]
     },
     "metadata": {},
     "output_type": "display_data"
    }
   ],
   "source": [
    "plotly_line_plot(districts_line_plot, title = 'Baltimor')"
   ]
  },
  {
   "cell_type": "code",
   "execution_count": null,
   "metadata": {},
   "outputs": [],
   "source": []
  }
 ],
 "metadata": {
  "kernelspec": {
   "display_name": "Python 3",
   "language": "python",
   "name": "python3"
  },
  "language_info": {
   "codemirror_mode": {
    "name": "ipython",
    "version": 3
   },
   "file_extension": ".py",
   "mimetype": "text/x-python",
   "name": "python",
   "nbconvert_exporter": "python",
   "pygments_lexer": "ipython3",
   "version": "3.7.6"
  }
 },
 "nbformat": 4,
 "nbformat_minor": 4
}
