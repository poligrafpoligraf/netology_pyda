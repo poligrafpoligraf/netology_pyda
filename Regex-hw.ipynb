{
 "cells": [
  {
   "cell_type": "markdown",
   "metadata": {},
   "source": [
    "# Домашнее задание к лекции \"Регулярные выражения\"\n",
    "Для зачета необходимо выполнить 4 задания.  \n",
    "Для зачета с отличием – все."
   ]
  },
  {
   "cell_type": "markdown",
   "metadata": {},
   "source": [
    "## Задание 1"
   ]
  },
  {
   "cell_type": "markdown",
   "metadata": {},
   "source": [
    "Напишите функцию, которая принимает на вход строку и проверяет является ли она валидным транспортным номером. Если да, то функция должна возвращать отдельно номер и регион."
   ]
  },
  {
   "cell_type": "code",
   "execution_count": 1,
   "metadata": {},
   "outputs": [],
   "source": [
    "import re\n",
    "\n",
    "#я не стал сейчас этого делать во всех заданиях, но наверное, правильнее было бы импортировать внутри функции это все же"
   ]
  },
  {
   "cell_type": "code",
   "execution_count": 54,
   "metadata": {},
   "outputs": [],
   "source": [
    "license_plate = 'A245MP178'"
   ]
  },
  {
   "cell_type": "code",
   "execution_count": 55,
   "metadata": {},
   "outputs": [],
   "source": [
    "#исходил из того, что в номере по факту могут быть только латинские буквы же \n",
    "#ну и ввел проверку того, что номера с двухсотым кодом вроде пока не ввели\n",
    "\n",
    "def plate_check(license_plate):\n",
    "    \n",
    "    regex_plate = '[A-Z]\\d{3}[A-Z]{2}\\d{1,3}'\n",
    "    region = re.search(r'(?<=[A-Z]{2})\\d{2,3}', license_plate)\n",
    "    \n",
    "    if re.match(regex_plate, license_plate) and int(region.group()) < 200:\n",
    "        print('Registration number: ', re.match(r'[A-Z]\\d{3}[A-Z]{2}', license_plate).group())\n",
    "        print('Region code:', region.group())\n",
    "    else:\n",
    "        print('The registration number {} is invalid.'.format(license_plate))"
   ]
  },
  {
   "cell_type": "code",
   "execution_count": 56,
   "metadata": {},
   "outputs": [
    {
     "name": "stdout",
     "output_type": "stream",
     "text": [
      "Registration number:  A245MP\n",
      "Region code: 178\n"
     ]
    }
   ],
   "source": [
    "plate_check(license_plate)"
   ]
  },
  {
   "cell_type": "markdown",
   "metadata": {},
   "source": [
    "## Задание 2"
   ]
  },
  {
   "cell_type": "markdown",
   "metadata": {},
   "source": [
    "Напишите функцию, которая проверяет e-mail адрес на валидность по стандарту RFC822: http://www.w3.org/Protocols/rfc822/. Для этого постарайтесь написать (в крайнем случае найти) самый полный шаблон для проверки e-mail адресов через регулярное выражение. Разберитесь и напишите примеры, какие ваш шаблон может не охватить."
   ]
  },
  {
   "cell_type": "markdown",
   "metadata": {},
   "source": [
    "Некоторые варианты адресов, которые тестировал:\n",
    "\n",
    "Разрешенные:\n",
    "\n",
    "- Jones@Registry.org\n",
    "- nor.mmmor_123@gmail.com\n",
    "- Kdavis@This-Host.This.net\n",
    "- Kdavis@This-Host9.This.net\n",
    "- \"John..Doe\"daemon@example.com\n",
    "- Miles.O'Brian@example.com\n",
    "- \"John..Doe\"@example.com\n",
    "\n",
    "\n",
    "Насколько я смог понять с этим стандартом, там можно чуть ли не все вообще. Но с этим я не справился явно, потому что от него голова идет кругом.\n",
    "\n",
    "В итоге моя функция точно не обрабатывает символы \"(),:;<>@\\[\\] — я так понял, они разрешены внутри цитат (само существование такой возможности в адресе уже поражает). Не обрабатывает ситуацию, когда вместо условного mail.com после @ стоит IP-адрес (вроде по стандарту можно и так). Наверняка еще что-то упущено\n",
    "\n",
    "В целом вроде у меня возможны даже адреса с апострофами, но когда проверял, приходится записывать с экранированием типа 'Miles.O\\'Brian@example.com' — впрочем, через input работает вроде корректно\n",
    "\n",
    "Главная проблема, что не смог придумать, как избежать ситуации, когда подряд идет больше одной точки — как я понял, это запрещено (но при этом разрешено внутри кавычек!)"
   ]
  },
  {
   "cell_type": "code",
   "execution_count": 372,
   "metadata": {},
   "outputs": [],
   "source": [
    "email = 'nor.mmMor_123@gmail.com'"
   ]
  },
  {
   "cell_type": "code",
   "execution_count": 377,
   "metadata": {},
   "outputs": [
    {
     "name": "stdout",
     "output_type": "stream",
     "text": [
      "Ваш адрес Miles.O'Brian@example.com\n"
     ]
    }
   ],
   "source": [
    "email = input('Ваш адрес ')"
   ]
  },
  {
   "cell_type": "code",
   "execution_count": 373,
   "metadata": {},
   "outputs": [],
   "source": [
    "def email_check(email):\n",
    "    \n",
    "    morr = '[\\w\\.\\'\\-\\!\\#\\$\\%\\&\\*\\+\\/\\=\\?\\^\\`\\{\\|\\}\\~\\s]*'\n",
    "    morr1 = '[\\w\\.\\'\\-\\!\\#\\$\\%\\&\\*\\+\\/\\=\\?\\^\\`\\{\\|\\}\\~\\s]+'\n",
    "    \n",
    "    regex_email = morr + '\\\"?' + morr1 + '\\\"?' + morr + '@[a-zA-Z1-9\\.\\-]+\\.[a-z]+'\n",
    "    \n",
    "    if re.match(regex_email, email):\n",
    "        \n",
    "        print('The address {} is OK'.format(email))\n",
    "        \n",
    "    else:\n",
    "        print('The address {} is INVALID'.format(email))\n"
   ]
  },
  {
   "cell_type": "code",
   "execution_count": 376,
   "metadata": {},
   "outputs": [
    {
     "name": "stdout",
     "output_type": "stream",
     "text": [
      "The address Miles.O'Brian@example.com is OK\n"
     ]
    }
   ],
   "source": [
    "email_check(email)"
   ]
  },
  {
   "cell_type": "markdown",
   "metadata": {},
   "source": [
    "## Задание 3\n",
    "Напишите функцию, которая будет удалять все последовательные повторы слов из заданной строки."
   ]
  },
  {
   "cell_type": "code",
   "execution_count": 2,
   "metadata": {},
   "outputs": [],
   "source": [
    "text = 'При личном досмотре Коршака с с участием понятых Коршака и Анатольева, у него нашли 14 грамм грамм марихуаны'"
   ]
  },
  {
   "cell_type": "code",
   "execution_count": 3,
   "metadata": {},
   "outputs": [],
   "source": [
    "def del_err(text):\n",
    "    \n",
    "    print('Было:', text)\n",
    "    words = re.findall('[\\w]+', text)\n",
    "\n",
    "    for i in words:\n",
    "\n",
    "            text = re.sub( i+'\\s'+i, i, text)\n",
    "    \n",
    "    print('Стало:', text)"
   ]
  },
  {
   "cell_type": "code",
   "execution_count": 4,
   "metadata": {},
   "outputs": [
    {
     "name": "stdout",
     "output_type": "stream",
     "text": [
      "Было: При личном досмотре Коршака с с участием понятых Коршака и Анатольева, у него нашли 14 грамм грамм марихуаны\n",
      "Стало: При личном досмотре Коршака с участием понятых Коршака и Анатольева, у него нашли 14 грамм марихуаны\n"
     ]
    }
   ],
   "source": [
    "del_err(text)"
   ]
  },
  {
   "cell_type": "markdown",
   "metadata": {},
   "source": [
    "## Задание 4\n",
    "Напишите функцию, которая будет проверять номер сотового телефона на валидность, если он валиден, то переводить его в формат:   \n",
    "+7(xxx)-xxx-xx-xx  \n",
    "Постарайтесь предусмотреть как можно больше адекватных форматов изначального ввода номера.\n",
    "Примеры правильных и неправильных форматов:\n",
    "\n",
    "- +7 955 555-55-55;\n",
    "- 9555555555;\n",
    "- 8(955)555-55-55;\n",
    "- +7 955 555 55 55;\n",
    "- 7(955) 555-55-55;\n",
    "- +7 955+555+55+55\n",
    "- +7-916-403-12-78\n",
    "- +7-916-403-12-8798\n",
    "- +7-916-48203-12-87"
   ]
  },
  {
   "cell_type": "code",
   "execution_count": 255,
   "metadata": {},
   "outputs": [],
   "source": [
    "phone_number = '+7-(916)-403-12-78'"
   ]
  },
  {
   "cell_type": "code",
   "execution_count": 257,
   "metadata": {},
   "outputs": [],
   "source": [
    "def number_check(phone_number):\n",
    "    \n",
    "    regex_ph_num = '\\+?[7-8]?\\s?\\-?\\(?(9\\d{2})\\)?\\-?\\s?(\\d{3})\\s?\\-?(\\d{2})\\s?\\-?(\\d{2})$'\n",
    "    \n",
    "    if re.match(regex_ph_num, phone_number):\n",
    "        \n",
    "        print(re.sub(regex_ph_num, r'+7(\\1)-\\2-\\3-\\4', re.match(regex_ph_num, phone_number).group()))\n",
    "        \n",
    "    else: \n",
    "        print('The phone number {} is invalid'.format(phone_number))"
   ]
  },
  {
   "cell_type": "code",
   "execution_count": 258,
   "metadata": {},
   "outputs": [
    {
     "name": "stdout",
     "output_type": "stream",
     "text": [
      "+7(916)-403-12-78\n"
     ]
    }
   ],
   "source": [
    "number_check(phone_number)"
   ]
  }
 ],
 "metadata": {
  "kernelspec": {
   "display_name": "Python 3",
   "language": "python",
   "name": "python3"
  },
  "language_info": {
   "codemirror_mode": {
    "name": "ipython",
    "version": 3
   },
   "file_extension": ".py",
   "mimetype": "text/x-python",
   "name": "python",
   "nbconvert_exporter": "python",
   "pygments_lexer": "ipython3",
   "version": "3.7.4"
  }
 },
 "nbformat": 4,
 "nbformat_minor": 2
}
