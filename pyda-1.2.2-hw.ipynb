{
 "cells": [
  {
   "cell_type": "markdown",
   "metadata": {},
   "source": [
    "## Задание 1"
   ]
  },
  {
   "cell_type": "markdown",
   "metadata": {},
   "source": [
    "Дан список с визитами по городам и странам. \n",
    "Напишите код, который возвращает отфильтрованный список geo_logs, содержащий только визиты из России."
   ]
  },
  {
   "cell_type": "code",
   "execution_count": 1,
   "metadata": {},
   "outputs": [],
   "source": [
    "geo_logs = [\n",
    "    {'visit1': ['Москва', 'Россия']},\n",
    "    {'visit2': ['Дели', 'Индия']},\n",
    "    {'visit3': ['Владимир', 'Россия']},\n",
    "    {'visit4': ['Лиссабон', 'Португалия']},\n",
    "    {'visit5': ['Париж', 'Франция']},\n",
    "    {'visit6': ['Лиссабон', 'Португалия']},\n",
    "    {'visit7': ['Тула', 'Россия']},\n",
    "    {'visit8': ['Тула', 'Россия']},\n",
    "    {'visit9': ['Курск', 'Россия']},\n",
    "    {'visit10': ['Архангельск', 'Россия']}\n",
    "]"
   ]
  },
  {
   "cell_type": "code",
   "execution_count": 6,
   "metadata": {},
   "outputs": [
    {
     "data": {
      "text/plain": [
       "[{'visit1': ['Москва', 'Россия']},\n",
       " {'visit3': ['Владимир', 'Россия']},\n",
       " {'visit7': ['Тула', 'Россия']},\n",
       " {'visit8': ['Тула', 'Россия']},\n",
       " {'visit9': ['Курск', 'Россия']},\n",
       " {'visit10': ['Архангельск', 'Россия']}]"
      ]
     },
     "execution_count": 6,
     "metadata": {},
     "output_type": "execute_result"
    }
   ],
   "source": [
    "russia_logs = []\n",
    "\n",
    "for russia_dict in geo_logs:\n",
    "    \n",
    "  if list(russia_dict.values())[0][1] == 'Россия':\n",
    "    \n",
    "    russia_logs.append(russia_dict)\n",
    "    \n",
    "russia_logs"
   ]
  },
  {
   "cell_type": "code",
   "execution_count": null,
   "metadata": {},
   "outputs": [],
   "source": []
  },
  {
   "cell_type": "code",
   "execution_count": 11,
   "metadata": {},
   "outputs": [
    {
     "ename": "TypeError",
     "evalue": "'dict_values' object is not subscriptable",
     "output_type": "error",
     "traceback": [
      "\u001b[0;31m---------------------------------------------------------------------------\u001b[0m",
      "\u001b[0;31mTypeError\u001b[0m                                 Traceback (most recent call last)",
      "\u001b[0;32m<ipython-input-11-082dd8125f8b>\u001b[0m in \u001b[0;36m<module>\u001b[0;34m\u001b[0m\n\u001b[0;32m----> 1\u001b[0;31m \u001b[0;34m[\u001b[0m\u001b[0mrussia_logs\u001b[0m \u001b[0;32mfor\u001b[0m \u001b[0mrussia_logs\u001b[0m \u001b[0;32min\u001b[0m \u001b[0mgeo_logs\u001b[0m \u001b[0;32mif\u001b[0m \u001b[0mrussia_logs\u001b[0m\u001b[0;34m.\u001b[0m\u001b[0mvalues\u001b[0m\u001b[0;34m(\u001b[0m\u001b[0;34m)\u001b[0m\u001b[0;34m[\u001b[0m\u001b[0;36m1\u001b[0m\u001b[0;34m]\u001b[0m \u001b[0;34m==\u001b[0m \u001b[0;34m'Россия'\u001b[0m\u001b[0;34m]\u001b[0m\u001b[0;34m\u001b[0m\u001b[0;34m\u001b[0m\u001b[0m\n\u001b[0m",
      "\u001b[0;32m<ipython-input-11-082dd8125f8b>\u001b[0m in \u001b[0;36m<listcomp>\u001b[0;34m(.0)\u001b[0m\n\u001b[0;32m----> 1\u001b[0;31m \u001b[0;34m[\u001b[0m\u001b[0mrussia_logs\u001b[0m \u001b[0;32mfor\u001b[0m \u001b[0mrussia_logs\u001b[0m \u001b[0;32min\u001b[0m \u001b[0mgeo_logs\u001b[0m \u001b[0;32mif\u001b[0m \u001b[0mrussia_logs\u001b[0m\u001b[0;34m.\u001b[0m\u001b[0mvalues\u001b[0m\u001b[0;34m(\u001b[0m\u001b[0;34m)\u001b[0m\u001b[0;34m[\u001b[0m\u001b[0;36m1\u001b[0m\u001b[0;34m]\u001b[0m \u001b[0;34m==\u001b[0m \u001b[0;34m'Россия'\u001b[0m\u001b[0;34m]\u001b[0m\u001b[0;34m\u001b[0m\u001b[0;34m\u001b[0m\u001b[0m\n\u001b[0m",
      "\u001b[0;31mTypeError\u001b[0m: 'dict_values' object is not subscriptable"
     ]
    }
   ],
   "source": [
    "[russia_logs for russia_logs in geo_logs if russia_logs.values()[1] == 'Россия']"
   ]
  },
  {
   "cell_type": "code",
   "execution_count": 95,
   "metadata": {},
   "outputs": [
    {
     "data": {
      "text/plain": [
       "[{'visit1': ['Москва', 'Россия']},\n",
       " {'visit3': ['Владимир', 'Россия']},\n",
       " {'visit7': ['Тула', 'Россия']},\n",
       " {'visit8': ['Тула', 'Россия']},\n",
       " {'visit9': ['Курск', 'Россия']},\n",
       " {'visit10': ['Архангельск', 'Россия']}]"
      ]
     },
     "execution_count": 95,
     "metadata": {},
     "output_type": "execute_result"
    }
   ],
   "source": [
    "#несколько раздражает, что пришлось вклаыдывать цикл в цикл в условие — явно неизящно и может быть проще, но с через .values \n",
    "#у меня не получилось ничего \n",
    "\n",
    "russia_logs = []\n",
    "\n",
    "for russia_dict in geo_logs:\n",
    "    for key in russia_dict.keys():\n",
    "        if 'Россия' in russia_dict[key]:\n",
    "            russia_logs.append(russia_dict)\n",
    "            \n",
    "russia_logs"
   ]
  },
  {
   "cell_type": "code",
   "execution_count": null,
   "metadata": {},
   "outputs": [],
   "source": []
  },
  {
   "cell_type": "markdown",
   "metadata": {},
   "source": [
    "## Задание 2"
   ]
  },
  {
   "cell_type": "markdown",
   "metadata": {},
   "source": [
    "Выведите на экран все уникальные гео-ID из значений словаря ids. Т. е. список вида [213, 15, 54, 119, 98, 35]"
   ]
  },
  {
   "cell_type": "code",
   "execution_count": 13,
   "metadata": {},
   "outputs": [],
   "source": [
    "ids = {'user1': [213, 213, 213, 15, 213], \n",
    "       'user2': [54, 54, 119, 119, 119], \n",
    "       'user3': [213, 98, 98, 35]}"
   ]
  },
  {
   "cell_type": "code",
   "execution_count": 112,
   "metadata": {},
   "outputs": [
    {
     "data": {
      "text/plain": [
       "[213, 15, 54, 119, 98, 35]"
      ]
     },
     "execution_count": 112,
     "metadata": {},
     "output_type": "execute_result"
    }
   ],
   "source": [
    "unique_ids = []\n",
    "\n",
    "for key in ids.keys():\n",
    "    for geo_id in ids[key]:\n",
    "        if geo_id not in unique_ids:\n",
    "            unique_ids.append(geo_id)\n",
    "\n",
    "unique_ids"
   ]
  },
  {
   "cell_type": "code",
   "execution_count": 23,
   "metadata": {},
   "outputs": [
    {
     "ename": "TypeError",
     "evalue": "unsupported operand type(s) for +: 'int' and 'list'",
     "output_type": "error",
     "traceback": [
      "\u001b[0;31m---------------------------------------------------------------------------\u001b[0m",
      "\u001b[0;31mTypeError\u001b[0m                                 Traceback (most recent call last)",
      "\u001b[0;32m<ipython-input-23-6414d69f55d8>\u001b[0m in \u001b[0;36m<module>\u001b[0;34m\u001b[0m\n\u001b[0;32m----> 1\u001b[0;31m \u001b[0msum\u001b[0m\u001b[0;34m(\u001b[0m\u001b[0mids\u001b[0m\u001b[0;34m.\u001b[0m\u001b[0mvalues\u001b[0m\u001b[0;34m(\u001b[0m\u001b[0;34m)\u001b[0m\u001b[0;34m)\u001b[0m\u001b[0;34m\u001b[0m\u001b[0;34m\u001b[0m\u001b[0m\n\u001b[0m",
      "\u001b[0;31mTypeError\u001b[0m: unsupported operand type(s) for +: 'int' and 'list'"
     ]
    }
   ],
   "source": []
  },
  {
   "cell_type": "code",
   "execution_count": 32,
   "metadata": {},
   "outputs": [
    {
     "data": {
      "text/plain": [
       "[213, 15, 54, 119, 98, 35]"
      ]
     },
     "execution_count": 32,
     "metadata": {},
     "output_type": "execute_result"
    }
   ],
   "source": [
    "id_list = []\n",
    "unique_ids = []\n",
    "\n",
    "#[id_list for id_list in ids.values()] - это все же список списков\n",
    "\n",
    "for value in ids.values():\n",
    "    \n",
    "    id_list += value\n",
    "    \n",
    "for i in id_list:\n",
    "    \n",
    "    if i not in unique_ids: \n",
    "        \n",
    "        unique_ids.append(i)\n",
    "    \n",
    "unique_ids"
   ]
  },
  {
   "cell_type": "markdown",
   "metadata": {},
   "source": [
    "## Задание 3"
   ]
  },
  {
   "cell_type": "markdown",
   "metadata": {},
   "source": [
    "Дан список поисковых запросов. Получить распределение количества слов в них. \n",
    "Т. е. поисковых запросов из одного - слова 5%, из двух - 7%, из трех - 3% и т.д."
   ]
  },
  {
   "cell_type": "code",
   "execution_count": 27,
   "metadata": {},
   "outputs": [],
   "source": [
    "queries = [\n",
    "    'смотреть сериалы онлайн',\n",
    "    'новости спорта',\n",
    "    'афиша кино',\n",
    "    'курс доллара',\n",
    "    'сериалы этим летом',\n",
    "    'курс по питону',\n",
    "    'сериалы про спорт',\n",
    "]"
   ]
  },
  {
   "cell_type": "code",
   "execution_count": 28,
   "metadata": {},
   "outputs": [
    {
     "name": "stdout",
     "output_type": "stream",
     "text": [
      "Слов в запросе: 3 ( 57 %)\n",
      "Слов в запросе: 2 ( 43 %)\n"
     ]
    }
   ],
   "source": [
    "#возможно, не вполне понял задачу, получилось сделать словарь с ключом по числу слов в запросе — то есть при желании можно оттуда \n",
    "#достать где какой процент, но что-то есть сомнения, что это и ставилось в задаче \n",
    "\n",
    "words = []\n",
    "x = {}\n",
    "\n",
    "for phrase in queries:\n",
    "    words.append(len(phrase.split()))\n",
    "    \n",
    "for percent in words:\n",
    "    x[percent] = words.count(percent) / len(words) * 100\n",
    "    \n",
    "for wow in x.keys():\n",
    "    print('Слов в запросе:', wow, '(', round(x[wow]), '%)' )\n",
    "    \n",
    "#вроде можно убирать эти длинные числа после зяпятой ф-строками, но пока не вышло"
   ]
  },
  {
   "cell_type": "markdown",
   "metadata": {},
   "source": [
    "## Задание 4"
   ]
  },
  {
   "cell_type": "markdown",
   "metadata": {},
   "source": [
    "Дана статистика рекламных каналов по объемам продаж. Напишите скрипт, который возвращает название канала с максимальным объемом.\n",
    "Т. е. в данном примере скрипт должен возвращать 'yandex'."
   ]
  },
  {
   "cell_type": "code",
   "execution_count": 149,
   "metadata": {},
   "outputs": [],
   "source": [
    "stats = {'facebook': 550, 'yandex': 1200, 'vk': 115, 'google': 99, 'email': 42, 'ok': 98}"
   ]
  },
  {
   "cell_type": "code",
   "execution_count": 150,
   "metadata": {},
   "outputs": [
    {
     "data": {
      "text/plain": [
       "'yandex'"
      ]
     },
     "execution_count": 150,
     "metadata": {},
     "output_type": "execute_result"
    }
   ],
   "source": [
    "x = 0\n",
    "channel = ''\n",
    "\n",
    "for yandex in stats.keys():\n",
    "    if stats[yandex] > x:\n",
    "        x = stats[yandex]\n",
    "        channel = yandex\n",
    "\n",
    "channel"
   ]
  },
  {
   "cell_type": "code",
   "execution_count": null,
   "metadata": {},
   "outputs": [],
   "source": []
  },
  {
   "cell_type": "markdown",
   "metadata": {},
   "source": [
    "## Дополнительное задание из первого домашнего\n",
    "\n",
    "Датчик принимает сигнал, состоящий из 0 и 1. Известно, что сигнал имеет периодичность, не превышающей натурального числа n. Напишите код, который вычисляет периодичность сигнала. Считайте, что 3 < n < 1000, а общая длина сигнала значительно превышает n.\n",
    "\n",
    "Пример сигнала с периодичностью 4 (повторяющийся элемент 1011):\n",
    "1011101110111011101110111011101110111011\n",
    "\n",
    "Еще одна интерпретация задачи, но без кода: https://tproger.ru/problems/endless-train/"
   ]
  },
  {
   "cell_type": "code",
   "execution_count": 5,
   "metadata": {},
   "outputs": [],
   "source": [
    "#кажется, вышло неизящно и с громоздким списком, но вроде работает\n",
    "#повторяющийся элемент 1011100011001011100011\n",
    "signal = '1011100011001011100011101110001100101110001110111000110010111000111011100011001011100011101110001100101110001110111000110010111000111011100011001011100011101110001100101110001110111000110010111000111011100011001011100011101110001100101110001110111000110010111000111011100011001011100011101110001100101110001110111000110010111000111011100011001011100011101110001100101110001110111000110010111000111011100011001011100011'"
   ]
  },
  {
   "cell_type": "code",
   "execution_count": 6,
   "metadata": {},
   "outputs": [],
   "source": [
    "sequence = ''\n",
    "sec_list = []\n",
    "\n",
    "for i in signal:\n",
    "    sequence += i\n",
    "    sec_list.append(sequence)\n",
    "    \n",
    "#пытался записать это через list comprehension, но не справился — не могу сообразить, \n",
    "#как это сделать, чтобы накапливать строку в какой-то перменной"
   ]
  },
  {
   "cell_type": "code",
   "execution_count": 7,
   "metadata": {
    "scrolled": true
   },
   "outputs": [
    {
     "name": "stdout",
     "output_type": "stream",
     "text": [
      "['1011100011001011100011', '1011100011001011100011101110001100101110001110111000110010111000111011100011001011100011101110001100101110001110111000110010111000111011100011001011100011101110001100101110001110111000110010111000111011100011001011100011101110001100101110001110111000110010111000111011100011001011100011101110001100101110001110111000110010111000111011100011001011100011101110001100101110001110111000110010111000111011100011001011100011']\n"
     ]
    }
   ],
   "source": [
    "sec = []\n",
    "\n",
    "for n in sec_list:\n",
    "    \n",
    "    if 3 < len(n) < 1000 and len(signal) == signal.count(n) * len(n):\n",
    "        sec.append(n)\n",
    "        \n",
    "print(sec)"
   ]
  },
  {
   "cell_type": "code",
   "execution_count": 11,
   "metadata": {},
   "outputs": [
    {
     "data": {
      "text/plain": [
       "'1011100011'"
      ]
     },
     "execution_count": 11,
     "metadata": {},
     "output_type": "execute_result"
    }
   ],
   "source": [
    "# а здесь вроде бы получилось это записать через list comprehension (потому что условие более-менее понятно как сюда вписать)\n",
    "[n for n in sec_list if 3 < len(n) < 1000 and len(signal) == signal.count(n) * len(n)][0]"
   ]
  },
  {
   "cell_type": "code",
   "execution_count": null,
   "metadata": {},
   "outputs": [],
   "source": []
  },
  {
   "cell_type": "code",
   "execution_count": 2,
   "metadata": {},
   "outputs": [],
   "source": [
    "#вариант покороче сделал уже после того как отправил дз, так что решил дописать его здесь, не удаляя тот длинный \n",
    "#повторяющийся элемент 1011100011\n",
    "signal = '1011100011101110001110111000111011100011101110001110111000111011100011101110001110111000111011100011'"
   ]
  },
  {
   "cell_type": "code",
   "execution_count": 6,
   "metadata": {},
   "outputs": [
    {
     "name": "stdout",
     "output_type": "stream",
     "text": [
      "1011100011\n"
     ]
    }
   ],
   "source": [
    "sequence = ''\n",
    "\n",
    "for i in signal:\n",
    "    sequence += i\n",
    "    if 3 < len(sequence) < 1000 and len(signal) == signal.count(sequence) * len(sequence):\n",
    "        break\n",
    "        \n",
    "print(sequence)"
   ]
  },
  {
   "cell_type": "code",
   "execution_count": null,
   "metadata": {},
   "outputs": [],
   "source": []
  }
 ],
 "metadata": {
  "kernelspec": {
   "display_name": "Python 3",
   "language": "python",
   "name": "python3"
  },
  "language_info": {
   "codemirror_mode": {
    "name": "ipython",
    "version": 3
   },
   "file_extension": ".py",
   "mimetype": "text/x-python",
   "name": "python",
   "nbconvert_exporter": "python",
   "pygments_lexer": "ipython3",
   "version": "3.7.4"
  }
 },
 "nbformat": 4,
 "nbformat_minor": 2
}
