{
 "cells": [
  {
   "cell_type": "markdown",
   "metadata": {},
   "source": [
    "# Домашнее задание\n",
    "1. Переведите содержимое файла purchase_log.txt в словарь purchases вида:\n",
    "```python\n",
    "{'1840e0b9d4': 'Продукты', ...}\n",
    "```\n",
    "\n",
    "2. Для каждого user_id в файле visit_log.csv добавьте третий столбец с категорией покупки (если покупка была).\n",
    "\n",
    "3. Запишите в файл funnel.csv визиты из файла visit_log.csv, в которых были покупки с указанием категории.\n",
    "\n",
    "Учтите условия на данные:\n",
    "- содержимое purchase_log.txt помещается в оперативную память компьютера\n",
    "- содержимое visit_log.csv - нет; используйте только построчную обработку этого файла"
   ]
  },
  {
   "cell_type": "code",
   "execution_count": 122,
   "metadata": {},
   "outputs": [
    {
     "name": "stdout",
     "output_type": "stream",
     "text": [
      "['Продукты', 'Электроника']\n",
      "['Досуг', 'Электроника']\n",
      "['Электроника', 'Бытовая техника']\n",
      "['Электроника', 'Продукты']\n",
      "['Электроника', 'Досуг']\n",
      "['Электроника', 'Продукты']\n",
      "['Досуг', 'Бытовая техника']\n",
      "['Продукты', 'Бытовая техника']\n",
      "['Бытовая техника', 'Электроника']\n",
      "['Электроника', 'Бытовая техника']\n",
      "['Строительство и ремонт', 'Электроника']\n"
     ]
    }
   ],
   "source": [
    "#возможно, не до конца понял исходную задачу в первом пункте, сначала показалось логичнее значением для словаря с ключем по id \n",
    "#сделать список, потом подумал, что он как-то дурацки вписывается в файл в пункте два и попробовал сделать вариант, когда \n",
    "#через запятую строкой вносятся все значения покупок (подозреваю, что есть более нормальный вариант решения)\n",
    "\n",
    "import json\n",
    "\n",
    "with open('purchase_log.txt', 'r') as f:\n",
    "    \n",
    "    purchases = {}\n",
    "    f.readline()\n",
    "    \n",
    "    for line in f:\n",
    "\n",
    "        line = line.strip()\n",
    "        dict_ = json.loads(line)\n",
    "        \n",
    "        if dict_['user_id'] in purchases.keys():\n",
    "            \n",
    "            purchases[dict_['user_id']].append(dict_['category'])\n",
    "                \n",
    "        else: \n",
    "            \n",
    "            purchases[dict_['user_id']] = [dict_['category']]\n",
    "            \n",
    "x = 0\n",
    "\n",
    "\n",
    "for i in purchases.values():\n",
    "    \n",
    "    if len(i) > 1 and x < 11:\n",
    "        \n",
    "        print(i)\n",
    "        \n",
    "        x +=1"
   ]
  },
  {
   "cell_type": "code",
   "execution_count": null,
   "metadata": {},
   "outputs": [],
   "source": []
  },
  {
   "cell_type": "code",
   "execution_count": 160,
   "metadata": {},
   "outputs": [
    {
     "name": "stdout",
     "output_type": "stream",
     "text": [
      "Продукты,Электроника\n",
      "Досуг,Электроника\n",
      "Электроника,Бытовая техника\n",
      "Электроника,Продукты\n",
      "Электроника,Досуг\n",
      "Электроника,Продукты\n",
      "Досуг,Бытовая техника\n",
      "Продукты,Бытовая техника\n",
      "Бытовая техника,Электроника\n",
      "Электроника,Бытовая техника\n"
     ]
    }
   ],
   "source": [
    "import json\n",
    "\n",
    "with open('purchase_log.txt', 'r') as f:\n",
    "    \n",
    "    purchases = {}\n",
    "    f.readline()\n",
    "    \n",
    "    for line in f:\n",
    "\n",
    "        line = line.strip()\n",
    "        dict_ = json.loads(line)\n",
    "        \n",
    "        if dict_['user_id'] in purchases.keys():\n",
    "            \n",
    "            purchases[dict_['user_id']] = purchases[dict_['user_id']] + ',' + dict_['category']\n",
    "                \n",
    "        else: \n",
    "            \n",
    "            purchases[dict_['user_id']] = dict_['category']\n",
    "            \n",
    "x = 0 \n",
    "\n",
    "\n",
    "for i in purchases.values():\n",
    "    \n",
    "    if ',' in i and x < 10:\n",
    "        \n",
    "        print(i)\n",
    "        \n",
    "        x +=1"
   ]
  },
  {
   "cell_type": "code",
   "execution_count": 161,
   "metadata": {},
   "outputs": [],
   "source": [
    "#записывал сразу в файл visit_log2 чтобы не испортить нечаянно первый — но кажется, проблема еще и в том, что я не понимаю\n",
    "#можно ли одновременно читать строку из файла и дописывать в эту строку \n",
    "# на счет построчной обработки — я предполагаю, что в случае цикла он построчно перебирает открытый файл \n",
    "#(если это не так, то придется что-то иначе придумывать)\n",
    "\n",
    "with open('visit_log.csv', 'r') as f:\n",
    "    \n",
    "    f.readline()\n",
    "    \n",
    "    with open('visit_log2.csv', 'w') as m:\n",
    "        \n",
    "        m.write('user_id,source,category\\n')\n",
    "        \n",
    "        for line in f:\n",
    "            \n",
    "            if line.strip().split(',')[0] in purchases.keys():\n",
    "                \n",
    "                 m.write(line.strip() + ',' + purchases[line.strip().split(',')[0]] +'\\n')"
   ]
  },
  {
   "cell_type": "code",
   "execution_count": 162,
   "metadata": {},
   "outputs": [
    {
     "name": "stdout",
     "output_type": "stream",
     "text": [
      "Сколько строк вывести? 12\n",
      "user_id,source,category\n",
      "1840e0b9d4,other,Продукты\n",
      "4e4f90fcfb,context,Электроника\n",
      "afea8d72fc,other,Электроника\n",
      "2824221f38,email,Продукты\n",
      "373a6055fe,other,Бытовая техника\n",
      "9b2ab046f3,other,Электроника\n",
      "9f39d307c3,context,Электроника\n",
      "44edeffc91,context,Продукты\n",
      "704474fa2d,other,Продукты\n",
      "1de31be403,other,Бытовая техника\n",
      "5da0dedf13,context,Досуг\n"
     ]
    }
   ],
   "source": [
    "#функция ниже прописана в упражнении\n",
    "\n",
    "my_open('visit_log2.csv', True)"
   ]
  },
  {
   "cell_type": "code",
   "execution_count": 163,
   "metadata": {},
   "outputs": [],
   "source": [
    "#Запишите в файл funnel.csv визиты из файла visit_log.csv, в которых были покупки с указанием категории.\n",
    " \n",
    "#with open('visit_log2.csv', 'r') as f:\n",
    "    \n",
    "with open('funnel.csv', 'w') as um:\n",
    "        \n",
    "    um.write('user_id,category\\n')\n",
    "    \n",
    "    for key in purchases.keys():\n",
    "            \n",
    "        um.write((key + ',' + purchases[key] + '\\n'))"
   ]
  },
  {
   "cell_type": "code",
   "execution_count": 164,
   "metadata": {},
   "outputs": [
    {
     "name": "stdout",
     "output_type": "stream",
     "text": [
      "Сколько строк вывести? 13\n",
      "user_id,category\n",
      "1840e0b9d4,Продукты\n",
      "4e4f90fcfb,Электроника\n",
      "afea8d72fc,Электроника\n",
      "373a6055fe,Бытовая техника\n",
      "9b2ab046f3,Электроника\n",
      "9f39d307c3,Электроника\n",
      "44edeffc91,Продукты\n",
      "704474fa2d,Продукты\n",
      "1de31be403,Бытовая техника\n",
      "b71f36a5e4,Продукты\n",
      "79843a685a,Продукты\n",
      "ff68cee0d6,Бытовая техника\n"
     ]
    }
   ],
   "source": [
    "my_open('funnel.csv', True)"
   ]
  },
  {
   "cell_type": "markdown",
   "metadata": {},
   "source": [
    "### Упражнение\n",
    "Напишите функцию, которая фильтрует файл visit_log.csv по источнику context и пишет результат в visits_context.csv. Используйте функцию из второго упражнения для проверки результата."
   ]
  },
  {
   "cell_type": "code",
   "execution_count": 152,
   "metadata": {},
   "outputs": [],
   "source": [
    "def my_open(file, include_header = False):\n",
    "    \n",
    "    f = open(file, 'r')\n",
    "    n = int(input('Сколько строк вывести? '))\n",
    "    \n",
    "    if not include_header:\n",
    "        f.readline()\n",
    "        # запускаем вхолостую, чтобы не было первой строки заголовка\n",
    "    # это же можно сделать через next(f)\n",
    "    \n",
    "    for i in range(n):\n",
    "        \n",
    "        print(f.readline().strip())"
   ]
  },
  {
   "cell_type": "code",
   "execution_count": 153,
   "metadata": {},
   "outputs": [],
   "source": [
    "def find_context(file):\n",
    "\n",
    "    for_lines = open('visit_log.csv', 'r')\n",
    "    context_line = open('visits_context_test.csv', 'w')\n",
    "\n",
    "    for line in for_lines:\n",
    "\n",
    "        n = for_lines.readline()\n",
    "\n",
    "        if 'context' in n:\n",
    "\n",
    "            context_line.write(n)\n",
    "            \n",
    "    for_lines.close()\n",
    "    context_line.close()"
   ]
  },
  {
   "cell_type": "code",
   "execution_count": 154,
   "metadata": {},
   "outputs": [],
   "source": [
    "find_context('visit_log.csv')"
   ]
  },
  {
   "cell_type": "code",
   "execution_count": 155,
   "metadata": {},
   "outputs": [
    {
     "name": "stdout",
     "output_type": "stream",
     "text": [
      "Сколько строк вывести? 12\n",
      "e1bd168161,context\n",
      "f6401d302f,context\n",
      "8554e1a9f9,context\n",
      "282d7418ae,context\n",
      "9d653ee784,context\n",
      "1ba32f4175,context\n",
      "7a84ac6499,context\n",
      "4e4f90fcfb,context\n",
      "5087ae3e47,context\n",
      "cf16107d36,context\n",
      "74cda77f4a,context\n",
      "009704a1c4,context\n"
     ]
    }
   ],
   "source": [
    "my_open('visits_context_test.csv', True)"
   ]
  },
  {
   "cell_type": "markdown",
   "metadata": {},
   "source": [
    "### Упражнение\n",
    "1. Посчитайте распределение количества покупок по категориям в столбце category\n",
    "2. Составьте словарь, в котором для каждого user_id значением будет название категории"
   ]
  },
  {
   "cell_type": "code",
   "execution_count": 156,
   "metadata": {},
   "outputs": [
    {
     "name": "stdout",
     "output_type": "stream",
     "text": [
      "['{\"user_id\": \"user_id\", \"category\": \"category\"}\\n', '{\"user_id\": \"1840e0b9d4\", \"category\": \"Продукты\"}\\n', '{\"user_id\": \"4e4f90fcfb\", \"category\": \"Электроника\"}\\n', '{\"user_id\": \"afea8d72fc\", \"category\": \"Электроника\"}\\n', '{\"user_id\": \"373a6055fe\", \"category\": \"Бытовая техника\"}\\n']\n"
     ]
    }
   ],
   "source": [
    "with open('purchase_log.txt') as f:\n",
    "    print([next(f) for x in range(5)])"
   ]
  },
  {
   "cell_type": "code",
   "execution_count": 157,
   "metadata": {},
   "outputs": [],
   "source": [
    "import json"
   ]
  },
  {
   "cell_type": "code",
   "execution_count": 158,
   "metadata": {},
   "outputs": [
    {
     "name": "stdout",
     "output_type": "stream",
     "text": [
      "{'Продукты': 14011, 'Электроника': 33467, 'Бытовая техника': 23671, 'Досуг': 11784, 'Товары для животных': 7029, 'Строительство и ремонт': 9010, 'не определена': 1034}\n"
     ]
    }
   ],
   "source": [
    "with open('purchase_log.txt') as f:\n",
    "\n",
    "    category_list = []\n",
    "    categories_counter = {}\n",
    "    f.readline()\n",
    "\n",
    "    for line in f:\n",
    "\n",
    "        line = line.strip()\n",
    "        \n",
    "        dict_ = json.loads(line)\n",
    "        \n",
    "        n = dict_\n",
    "        \n",
    "        if n['category'] not in category_list:\n",
    "            \n",
    "            category_list.append(n['category'])\n",
    "            categories_counter[n['category']] = 1\n",
    "        \n",
    "        for i in category_list:\n",
    "            \n",
    "            if i == n['category']:\n",
    "                \n",
    "                categories_counter[i] += 1\n",
    "        \n",
    "\n",
    "print(categories_counter)"
   ]
  },
  {
   "cell_type": "code",
   "execution_count": 159,
   "metadata": {},
   "outputs": [],
   "source": [
    "#Составьте словарь, в котором для каждого user_id значением будет название категории\n",
    "\n",
    "with open('purchase_log.txt') as f:\n",
    "    \n",
    "    id_dict = {}\n",
    "    f.readline() \n",
    "    \n",
    "    for line in f:\n",
    "\n",
    "        line = line.strip()\n",
    "\n",
    "        dict_ = json.loads(line)\n",
    "        \n",
    "        id_dict[dict_['user_id']] = dict_['category']"
   ]
  },
  {
   "cell_type": "code",
   "execution_count": 235,
   "metadata": {},
   "outputs": [
    {
     "name": "stdout",
     "output_type": "stream",
     "text": [
      "('1840e0b9d4', 'Продукты')\n",
      "('4e4f90fcfb', 'Электроника')\n",
      "('afea8d72fc', 'Электроника')\n",
      "('373a6055fe', 'Бытовая техника')\n",
      "('9b2ab046f3', 'Электроника')\n",
      "('9f39d307c3', 'Электроника')\n",
      "('44edeffc91', 'Продукты')\n",
      "('704474fa2d', 'Продукты')\n",
      "('1de31be403', 'Бытовая техника')\n",
      "('b71f36a5e4', 'Продукты')\n"
     ]
    }
   ],
   "source": [
    "x = 0 \n",
    "\n",
    "for i in id_dict.items():\n",
    "    \n",
    "    if x < 10:\n",
    "        \n",
    "        print(i)\n",
    "        x +=1 \n",
    "    "
   ]
  },
  {
   "cell_type": "code",
   "execution_count": null,
   "metadata": {},
   "outputs": [],
   "source": []
  },
  {
   "cell_type": "code",
   "execution_count": null,
   "metadata": {},
   "outputs": [],
   "source": []
  },
  {
   "cell_type": "code",
   "execution_count": null,
   "metadata": {},
   "outputs": [],
   "source": []
  },
  {
   "cell_type": "markdown",
   "metadata": {},
   "source": [
    "### Упражнение\n",
    "В файле payments_stat.pickle записана некая статистика платежей пользователей. Посчитайте среднее значение платежа."
   ]
  },
  {
   "cell_type": "code",
   "execution_count": null,
   "metadata": {},
   "outputs": [],
   "source": []
  },
  {
   "cell_type": "code",
   "execution_count": null,
   "metadata": {},
   "outputs": [],
   "source": []
  }
 ],
 "metadata": {
  "kernelspec": {
   "display_name": "Python 3",
   "language": "python",
   "name": "python3"
  },
  "language_info": {
   "codemirror_mode": {
    "name": "ipython",
    "version": 3
   },
   "file_extension": ".py",
   "mimetype": "text/x-python",
   "name": "python",
   "nbconvert_exporter": "python",
   "pygments_lexer": "ipython3",
   "version": "3.7.4"
  }
 },
 "nbformat": 4,
 "nbformat_minor": 2
}
