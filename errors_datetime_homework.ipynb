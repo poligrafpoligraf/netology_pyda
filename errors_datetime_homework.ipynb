{
 "cells": [
  {
   "cell_type": "markdown",
   "metadata": {},
   "source": [
    "## Задание 1 \n",
    "\n",
    "Напишите функцию date_range, которая возвращает список дней между датами start_date и end_date. Даты должны вводиться в формате YYYY-MM-DD.\n",
    "\n",
    "## Задание 2\n",
    "\n",
    "Дополните функцию из первого задания проверкой на корректность дат. В случае неверного формата или если start_date > end_date должен возвращаться пустой список.\n",
    "\n",
    "## Задание 3\n",
    "\n",
    "Дан поток дат в формате YYYY-MM-DD, в которых встречаются некорректные значения:\n",
    "```python\n",
    "stream = [‘2018-04-02’, ‘2018-02-29’, ‘2018-19-02’]\n",
    "```\n",
    "Напишите функцию, которая проверяет эти даты на корректность. Т. е. для каждой даты возвращает True (дата корректна) или False (некорректная дата).\n",
    "\n",
    "## Задание 4 (бонусное)\n",
    "\n",
    "Ваш коллега прислал код функции:\n",
    "\n",
    "```python\n",
    "DEFAULT_USER_COUNT = 3\n",
    "\n",
    "def delete_and_return_last_user(region, default_list=[‘A100’, ‘A101’, ‘A102’]):\n",
    "\"\"\"\n",
    "Удаляет из списка default_list последнего пользователя\n",
    "и возвращает ID нового последнего пользователя.\n",
    "\"\"\"\n",
    "element_to_delete = default_list[-1]\n",
    "default_list.remove(element_to_delete)\n",
    "\n",
    "return default_list[DEFAULT_USER_COUNT-2]\n",
    "```\n",
    "\n",
    "При однократном вызове этой функции все работает корректно:\n",
    "```python\n",
    "delete_and_return_last_user(1)\n",
    "‘A101’\n",
    "```\n",
    "Однако, при повторном вызове получается ошибка IndexError: list index out of range.\n",
    "\n",
    "### Задание:\n",
    "\n",
    "Что значит ошибка list index out of range?\n",
    "Почему при первом запуске функция работает корректно, а при втором - нет?"
   ]
  },
  {
   "cell_type": "markdown",
   "metadata": {},
   "source": [
    "#### Задание 1\n",
    "\n",
    "Напишите функцию date_range, которая возвращает список дней между датами start_date и end_date. Даты должны вводиться в формате YYYY-MM-DD."
   ]
  },
  {
   "cell_type": "code",
   "execution_count": 42,
   "metadata": {},
   "outputs": [],
   "source": [
    "import datetime"
   ]
  },
  {
   "cell_type": "code",
   "execution_count": 43,
   "metadata": {},
   "outputs": [],
   "source": [
    "from datetime import timedelta\n",
    "from datetime import datetime"
   ]
  },
  {
   "cell_type": "code",
   "execution_count": 44,
   "metadata": {},
   "outputs": [],
   "source": [
    "start = '2005-12-21'\n",
    "end = '2006-01-21'"
   ]
  },
  {
   "cell_type": "code",
   "execution_count": 45,
   "metadata": {},
   "outputs": [],
   "source": [
    "def date_range (start, end):\n",
    "    \n",
    "    start_date = datetime.strptime(start, '%Y-%m-%d')\n",
    "    end_date = datetime.strptime(end, '%Y-%m-%d')\n",
    "    date_list = [start_date]\n",
    "    temp_date = start_date\n",
    "    \n",
    "    while temp_date < end_date:\n",
    "        \n",
    "        temp_date += timedelta(days=1)\n",
    "        date_list.append(temp_date)\n",
    "        \n",
    "#        print(temp_date)\n",
    "    \n",
    "    return date_list"
   ]
  },
  {
   "cell_type": "code",
   "execution_count": 46,
   "metadata": {},
   "outputs": [
    {
     "data": {
      "text/plain": [
       "[datetime.datetime(2005, 12, 21, 0, 0),\n",
       " datetime.datetime(2005, 12, 22, 0, 0),\n",
       " datetime.datetime(2005, 12, 23, 0, 0),\n",
       " datetime.datetime(2005, 12, 24, 0, 0),\n",
       " datetime.datetime(2005, 12, 25, 0, 0),\n",
       " datetime.datetime(2005, 12, 26, 0, 0),\n",
       " datetime.datetime(2005, 12, 27, 0, 0),\n",
       " datetime.datetime(2005, 12, 28, 0, 0),\n",
       " datetime.datetime(2005, 12, 29, 0, 0),\n",
       " datetime.datetime(2005, 12, 30, 0, 0),\n",
       " datetime.datetime(2005, 12, 31, 0, 0),\n",
       " datetime.datetime(2006, 1, 1, 0, 0),\n",
       " datetime.datetime(2006, 1, 2, 0, 0),\n",
       " datetime.datetime(2006, 1, 3, 0, 0),\n",
       " datetime.datetime(2006, 1, 4, 0, 0),\n",
       " datetime.datetime(2006, 1, 5, 0, 0),\n",
       " datetime.datetime(2006, 1, 6, 0, 0),\n",
       " datetime.datetime(2006, 1, 7, 0, 0),\n",
       " datetime.datetime(2006, 1, 8, 0, 0),\n",
       " datetime.datetime(2006, 1, 9, 0, 0),\n",
       " datetime.datetime(2006, 1, 10, 0, 0),\n",
       " datetime.datetime(2006, 1, 11, 0, 0),\n",
       " datetime.datetime(2006, 1, 12, 0, 0),\n",
       " datetime.datetime(2006, 1, 13, 0, 0),\n",
       " datetime.datetime(2006, 1, 14, 0, 0),\n",
       " datetime.datetime(2006, 1, 15, 0, 0),\n",
       " datetime.datetime(2006, 1, 16, 0, 0),\n",
       " datetime.datetime(2006, 1, 17, 0, 0),\n",
       " datetime.datetime(2006, 1, 18, 0, 0),\n",
       " datetime.datetime(2006, 1, 19, 0, 0),\n",
       " datetime.datetime(2006, 1, 20, 0, 0),\n",
       " datetime.datetime(2006, 1, 21, 0, 0)]"
      ]
     },
     "execution_count": 46,
     "metadata": {},
     "output_type": "execute_result"
    }
   ],
   "source": [
    "date_range(start, end)"
   ]
  },
  {
   "cell_type": "code",
   "execution_count": null,
   "metadata": {},
   "outputs": [],
   "source": []
  },
  {
   "cell_type": "markdown",
   "metadata": {},
   "source": [
    "### Задание 2\n",
    "\n",
    "Дополните функцию из первого задания проверкой на корректность дат. В случае неверного формата или если start_date > end_date должен возвращаться пустой список."
   ]
  },
  {
   "cell_type": "code",
   "execution_count": 47,
   "metadata": {},
   "outputs": [],
   "source": [
    "def date_range_err (start, end):\n",
    "    \n",
    "    date_list = []\n",
    "    \n",
    "    try:\n",
    "        start_date = datetime.strptime(start, '%Y-%m-%d')\n",
    "        end_date = datetime.strptime(end, '%Y-%m-%d')\n",
    "        \n",
    "        temp_date = start_date\n",
    "\n",
    "        while temp_date < end_date:\n",
    "\n",
    "            date_list.append(temp_date)\n",
    "            temp_date += timedelta(days=1)\n",
    "        \n",
    "        \n",
    "#        print(temp_date)\n",
    "    \n",
    "        return date_list\n",
    "    \n",
    "    except: \n",
    "        \n",
    "        return date_list "
   ]
  },
  {
   "cell_type": "code",
   "execution_count": 50,
   "metadata": {},
   "outputs": [
    {
     "data": {
      "text/plain": [
       "[datetime.datetime(2020, 10, 11, 0, 0),\n",
       " datetime.datetime(2020, 10, 12, 0, 0),\n",
       " datetime.datetime(2020, 10, 13, 0, 0)]"
      ]
     },
     "execution_count": 50,
     "metadata": {},
     "output_type": "execute_result"
    }
   ],
   "source": [
    "date_range_err ('2020-10-11', '2020-10-14')"
   ]
  },
  {
   "cell_type": "code",
   "execution_count": 51,
   "metadata": {},
   "outputs": [
    {
     "data": {
      "text/plain": [
       "[]"
      ]
     },
     "execution_count": 51,
     "metadata": {},
     "output_type": "execute_result"
    }
   ],
   "source": [
    "date_range_err ('2020-10-11', '2020/10/04')"
   ]
  },
  {
   "cell_type": "markdown",
   "metadata": {},
   "source": [
    "### Задание 3\n",
    "\n",
    "Дан поток дат в формате YYYY-MM-DD, в которых встречаются некорректные значения:\n",
    "```python\n",
    "stream = [‘2018-04-02’, ‘2018-02-29’, ‘2018-19-02’]\n",
    "```\n",
    "Напишите функцию, которая проверяет эти даты на корректность. Т. е. для каждой даты возвращает True (дата корректна) или False (некорректная дата)."
   ]
  },
  {
   "cell_type": "code",
   "execution_count": 53,
   "metadata": {},
   "outputs": [],
   "source": [
    "stream = ['2018-04-02', '2018-02-29', '2018-19-02']"
   ]
  },
  {
   "cell_type": "code",
   "execution_count": 54,
   "metadata": {},
   "outputs": [],
   "source": [
    "# есть ощущение, что как-то кривовато это получилось и не факт что так корректно (и соответствует задаче)\n",
    "\n",
    "def stream_check(stream):\n",
    "    \n",
    "    for i in stream:\n",
    "        \n",
    "        print(i)\n",
    "        \n",
    "        try:\n",
    "            \n",
    "            datetime.strptime(i,'%Y-%m-%d')\n",
    "            \n",
    "            print(True)\n",
    "        \n",
    "        except: \n",
    "            \n",
    "            print(False)"
   ]
  },
  {
   "cell_type": "code",
   "execution_count": 55,
   "metadata": {},
   "outputs": [
    {
     "name": "stdout",
     "output_type": "stream",
     "text": [
      "2018-04-02\n",
      "True\n",
      "2018-02-29\n",
      "False\n",
      "2018-19-02\n",
      "False\n"
     ]
    }
   ],
   "source": [
    "stream_check(stream)"
   ]
  },
  {
   "cell_type": "markdown",
   "metadata": {},
   "source": [
    "### Задание 4 (бонусное)\n",
    "\n",
    "Ваш коллега прислал код функции:\n",
    "\n",
    "```python\n",
    "DEFAULT_USER_COUNT = 3\n",
    "\n",
    "def delete_and_return_last_user(region, default_list=[‘A100’, ‘A101’, ‘A102’]):\n",
    "\"\"\"\n",
    "Удаляет из списка default_list последнего пользователя\n",
    "и возвращает ID нового последнего пользователя.\n",
    "\"\"\"\n",
    "element_to_delete = default_list[-1]\n",
    "default_list.remove(element_to_delete)\n",
    "\n",
    "return default_list[DEFAULT_USER_COUNT-2]\n",
    "```\n",
    "\n",
    "При однократном вызове этой функции все работает корректно:\n",
    "```python\n",
    "delete_and_return_last_user(1)\n",
    "‘A101’\n",
    "```\n",
    "Однако, при повторном вызове получается ошибка IndexError: list index out of range.\n",
    "\n",
    "### Задание:\n",
    "\n",
    "Что значит ошибка list index out of range?\n",
    "Почему при первом запуске функция работает корректно, а при втором - нет?"
   ]
  },
  {
   "cell_type": "code",
   "execution_count": 83,
   "metadata": {},
   "outputs": [],
   "source": [
    "DEFAULT_USER_COUNT = 3\n",
    "\n",
    "def delete_and_return_last_user(region, default_list=['A100', 'A101', 'A102']):\n",
    "    \"\"\"Удаляет из списка default_list последнего пользователя \n",
    "    и возвращает ID нового последнего пользователя.\"\"\"\n",
    "    print(default_list)\n",
    "    element_to_delete = default_list[-1]\n",
    "    default_list.remove(element_to_delete)\n",
    "\n",
    "    return default_list[DEFAULT_USER_COUNT-2]"
   ]
  },
  {
   "cell_type": "code",
   "execution_count": 84,
   "metadata": {},
   "outputs": [
    {
     "name": "stdout",
     "output_type": "stream",
     "text": [
      "['A100', 'A101', 'A102']\n"
     ]
    },
    {
     "data": {
      "text/plain": [
       "'A101'"
      ]
     },
     "execution_count": 84,
     "metadata": {},
     "output_type": "execute_result"
    }
   ],
   "source": [
    "delete_and_return_last_user(23)"
   ]
  },
  {
   "cell_type": "code",
   "execution_count": 85,
   "metadata": {},
   "outputs": [
    {
     "name": "stdout",
     "output_type": "stream",
     "text": [
      "['A100', 'A101']\n"
     ]
    },
    {
     "ename": "IndexError",
     "evalue": "list index out of range",
     "output_type": "error",
     "traceback": [
      "\u001b[0;31m---------------------------------------------------------------------------\u001b[0m",
      "\u001b[0;31mIndexError\u001b[0m                                Traceback (most recent call last)",
      "\u001b[0;32m<ipython-input-85-2e35d1452e66>\u001b[0m in \u001b[0;36m<module>\u001b[0;34m\u001b[0m\n\u001b[0;32m----> 1\u001b[0;31m \u001b[0mdelete_and_return_last_user\u001b[0m\u001b[0;34m(\u001b[0m\u001b[0;36m23\u001b[0m\u001b[0;34m)\u001b[0m\u001b[0;34m\u001b[0m\u001b[0;34m\u001b[0m\u001b[0m\n\u001b[0m",
      "\u001b[0;32m<ipython-input-83-bb450f1c69f5>\u001b[0m in \u001b[0;36mdelete_and_return_last_user\u001b[0;34m(region, default_list)\u001b[0m\n\u001b[1;32m      8\u001b[0m     \u001b[0mdefault_list\u001b[0m\u001b[0;34m.\u001b[0m\u001b[0mremove\u001b[0m\u001b[0;34m(\u001b[0m\u001b[0melement_to_delete\u001b[0m\u001b[0;34m)\u001b[0m\u001b[0;34m\u001b[0m\u001b[0;34m\u001b[0m\u001b[0m\n\u001b[1;32m      9\u001b[0m \u001b[0;34m\u001b[0m\u001b[0m\n\u001b[0;32m---> 10\u001b[0;31m     \u001b[0;32mreturn\u001b[0m \u001b[0mdefault_list\u001b[0m\u001b[0;34m[\u001b[0m\u001b[0mDEFAULT_USER_COUNT\u001b[0m\u001b[0;34m-\u001b[0m\u001b[0;36m2\u001b[0m\u001b[0;34m]\u001b[0m\u001b[0;34m\u001b[0m\u001b[0;34m\u001b[0m\u001b[0m\n\u001b[0m",
      "\u001b[0;31mIndexError\u001b[0m: list index out of range"
     ]
    }
   ],
   "source": [
    "delete_and_return_last_user(23)"
   ]
  },
  {
   "cell_type": "markdown",
   "metadata": {},
   "source": [
    "### попытка ответить\n",
    "\n",
    "list index out of range на десятой строке показывает, что питон не может обратиться к этому элементу — вероятно, \n",
    "потому что мы в первый раз запустили функцию и удалили третий элемент, осталось два (проверил это выше через вывод принтом) — и когда мы удаляем еще один, невозможно вызвать элемент №1 в списке (там остал только элемент с индексом 0) "
   ]
  }
 ],
 "metadata": {
  "kernelspec": {
   "display_name": "Python 3",
   "language": "python",
   "name": "python3"
  },
  "language_info": {
   "codemirror_mode": {
    "name": "ipython",
    "version": 3
   },
   "file_extension": ".py",
   "mimetype": "text/x-python",
   "name": "python",
   "nbconvert_exporter": "python",
   "pygments_lexer": "ipython3",
   "version": "3.7.4"
  }
 },
 "nbformat": 4,
 "nbformat_minor": 2
}
