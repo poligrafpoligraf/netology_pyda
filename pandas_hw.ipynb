{
 "cells": [
  {
   "cell_type": "markdown",
   "metadata": {},
   "source": [
    "### Задание 1\n",
    "\n",
    "Скачайте с сайта https://grouplens.org/datasets/movielens/ датасет любого размера. Определите какому фильму было выставлено больше всего оценок 5.0.\n",
    "\n",
    "__Комментарий к решению:__\n",
    "\n",
    "Все-таки запутался с типом Series ближе к концу — не понял, как из него получить можно бы просто айди фильма, который z отсортировал по самому большому числу оценок 5 (пришлось криво преобразовывать это в строку, делить, превращать в цифру и уже так отдавать другому файлу — подозреваю, что пандас умеет это делать проще)\n"
   ]
  },
  {
   "cell_type": "code",
   "execution_count": 195,
   "metadata": {},
   "outputs": [],
   "source": [
    "import pandas as pd"
   ]
  },
  {
   "cell_type": "code",
   "execution_count": 202,
   "metadata": {},
   "outputs": [
    {
     "data": {
      "text/html": [
       "<div>\n",
       "<style scoped>\n",
       "    .dataframe tbody tr th:only-of-type {\n",
       "        vertical-align: middle;\n",
       "    }\n",
       "\n",
       "    .dataframe tbody tr th {\n",
       "        vertical-align: top;\n",
       "    }\n",
       "\n",
       "    .dataframe thead th {\n",
       "        text-align: right;\n",
       "    }\n",
       "</style>\n",
       "<table border=\"1\" class=\"dataframe\">\n",
       "  <thead>\n",
       "    <tr style=\"text-align: right;\">\n",
       "      <th></th>\n",
       "      <th>userId</th>\n",
       "      <th>movieId</th>\n",
       "      <th>rating</th>\n",
       "      <th>timestamp</th>\n",
       "    </tr>\n",
       "  </thead>\n",
       "  <tbody>\n",
       "    <tr>\n",
       "      <td>0</td>\n",
       "      <td>1</td>\n",
       "      <td>1</td>\n",
       "      <td>4.0</td>\n",
       "      <td>964982703</td>\n",
       "    </tr>\n",
       "    <tr>\n",
       "      <td>1</td>\n",
       "      <td>1</td>\n",
       "      <td>3</td>\n",
       "      <td>4.0</td>\n",
       "      <td>964981247</td>\n",
       "    </tr>\n",
       "    <tr>\n",
       "      <td>2</td>\n",
       "      <td>1</td>\n",
       "      <td>6</td>\n",
       "      <td>4.0</td>\n",
       "      <td>964982224</td>\n",
       "    </tr>\n",
       "    <tr>\n",
       "      <td>3</td>\n",
       "      <td>1</td>\n",
       "      <td>47</td>\n",
       "      <td>5.0</td>\n",
       "      <td>964983815</td>\n",
       "    </tr>\n",
       "    <tr>\n",
       "      <td>4</td>\n",
       "      <td>1</td>\n",
       "      <td>50</td>\n",
       "      <td>5.0</td>\n",
       "      <td>964982931</td>\n",
       "    </tr>\n",
       "  </tbody>\n",
       "</table>\n",
       "</div>"
      ],
      "text/plain": [
       "   userId  movieId  rating  timestamp\n",
       "0       1        1     4.0  964982703\n",
       "1       1        3     4.0  964981247\n",
       "2       1        6     4.0  964982224\n",
       "3       1       47     5.0  964983815\n",
       "4       1       50     5.0  964982931"
      ]
     },
     "execution_count": 202,
     "metadata": {},
     "output_type": "execute_result"
    }
   ],
   "source": [
    "films = pd.read_csv('ratings2.csv')\n",
    "films.head()"
   ]
  },
  {
   "cell_type": "code",
   "execution_count": 203,
   "metadata": {},
   "outputs": [],
   "source": [
    "films_5_0 = films[ films['rating'] == 5.0 ]"
   ]
  },
  {
   "cell_type": "code",
   "execution_count": 204,
   "metadata": {},
   "outputs": [
    {
     "data": {
      "text/plain": [
       "318     153\n",
       "296     123\n",
       "356     116\n",
       "2571    109\n",
       "260     104\n",
       "Name: movieId, dtype: int64"
      ]
     },
     "execution_count": 204,
     "metadata": {},
     "output_type": "execute_result"
    }
   ],
   "source": [
    "films_5_0['movieId'].value_counts().sort_values(ascending=False).head()"
   ]
  },
  {
   "cell_type": "code",
   "execution_count": 205,
   "metadata": {},
   "outputs": [],
   "source": [
    "mm = films_5_0['movieId'].value_counts().sort_values(ascending=False).head(1)"
   ]
  },
  {
   "cell_type": "code",
   "execution_count": 206,
   "metadata": {},
   "outputs": [],
   "source": [
    "my_film_num = int(str(mm).split(' ')[0])"
   ]
  },
  {
   "cell_type": "code",
   "execution_count": 207,
   "metadata": {},
   "outputs": [
    {
     "data": {
      "text/plain": [
       "277    Shawshank Redemption, The (1994)\n",
       "Name: title, dtype: object"
      ]
     },
     "execution_count": 207,
     "metadata": {},
     "output_type": "execute_result"
    }
   ],
   "source": [
    "mov = pd.read_csv('movies2.csv')\n",
    "mov[ (mov['movieId']==my_film_num) ]['title']"
   ]
  },
  {
   "cell_type": "markdown",
   "metadata": {},
   "source": [
    "### Задание 2\n",
    "\n",
    "По данным файла power.csv посчитайте суммарное потребление стран Прибалтики (Латвия, Литва и Эстония) категорий 4, 12 и 21 за период с 2005 по 2010 года. Не учитывайте в расчетах отрицательные значения quantity.\n",
    "\n",
    "__Комментарий__\n",
    "\n",
    "Сначала последовательно разными методами вроде получил искомое, ниже объединил это в одну функцию все же"
   ]
  },
  {
   "cell_type": "code",
   "execution_count": 208,
   "metadata": {},
   "outputs": [
    {
     "data": {
      "text/html": [
       "<div>\n",
       "<style scoped>\n",
       "    .dataframe tbody tr th:only-of-type {\n",
       "        vertical-align: middle;\n",
       "    }\n",
       "\n",
       "    .dataframe tbody tr th {\n",
       "        vertical-align: top;\n",
       "    }\n",
       "\n",
       "    .dataframe thead th {\n",
       "        text-align: right;\n",
       "    }\n",
       "</style>\n",
       "<table border=\"1\" class=\"dataframe\">\n",
       "  <thead>\n",
       "    <tr style=\"text-align: right;\">\n",
       "      <th></th>\n",
       "      <th>country</th>\n",
       "      <th>year</th>\n",
       "      <th>quantity</th>\n",
       "      <th>category</th>\n",
       "    </tr>\n",
       "  </thead>\n",
       "  <tbody>\n",
       "    <tr>\n",
       "      <td>0</td>\n",
       "      <td>Austria</td>\n",
       "      <td>1996</td>\n",
       "      <td>5.0</td>\n",
       "      <td>1</td>\n",
       "    </tr>\n",
       "    <tr>\n",
       "      <td>1</td>\n",
       "      <td>Austria</td>\n",
       "      <td>1995</td>\n",
       "      <td>17.0</td>\n",
       "      <td>1</td>\n",
       "    </tr>\n",
       "    <tr>\n",
       "      <td>2</td>\n",
       "      <td>Belgium</td>\n",
       "      <td>2014</td>\n",
       "      <td>0.0</td>\n",
       "      <td>1</td>\n",
       "    </tr>\n",
       "    <tr>\n",
       "      <td>3</td>\n",
       "      <td>Belgium</td>\n",
       "      <td>2013</td>\n",
       "      <td>0.0</td>\n",
       "      <td>1</td>\n",
       "    </tr>\n",
       "    <tr>\n",
       "      <td>4</td>\n",
       "      <td>Belgium</td>\n",
       "      <td>2012</td>\n",
       "      <td>35.0</td>\n",
       "      <td>1</td>\n",
       "    </tr>\n",
       "  </tbody>\n",
       "</table>\n",
       "</div>"
      ],
      "text/plain": [
       "   country  year  quantity  category\n",
       "0  Austria  1996       5.0         1\n",
       "1  Austria  1995      17.0         1\n",
       "2  Belgium  2014       0.0         1\n",
       "3  Belgium  2013       0.0         1\n",
       "4  Belgium  2012      35.0         1"
      ]
     },
     "execution_count": 208,
     "metadata": {},
     "output_type": "execute_result"
    }
   ],
   "source": [
    "power = pd.read_csv('power.csv')\n",
    "power.head()"
   ]
  },
  {
   "cell_type": "code",
   "execution_count": 209,
   "metadata": {},
   "outputs": [
    {
     "data": {
      "text/plain": [
       "array(['Estonia', 'State of Palestine', 'Timor-Leste'], dtype=object)"
      ]
     },
     "execution_count": 209,
     "metadata": {},
     "output_type": "execute_result"
    }
   ],
   "source": [
    "power[ power['country'].str.contains('est', case=False) ]['country'].unique()"
   ]
  },
  {
   "cell_type": "code",
   "execution_count": 210,
   "metadata": {},
   "outputs": [
    {
     "data": {
      "text/plain": [
       "array(['Lithuania'], dtype=object)"
      ]
     },
     "execution_count": 210,
     "metadata": {},
     "output_type": "execute_result"
    }
   ],
   "source": [
    "power[ power['country'].str.contains('lit', case=False) ]['country'].unique()"
   ]
  },
  {
   "cell_type": "code",
   "execution_count": 211,
   "metadata": {},
   "outputs": [
    {
     "data": {
      "text/plain": [
       "array(['Latvia'], dtype=object)"
      ]
     },
     "execution_count": 211,
     "metadata": {},
     "output_type": "execute_result"
    }
   ],
   "source": [
    "power[ power['country'].str.contains('lat', case=False) ]['country'].unique()"
   ]
  },
  {
   "cell_type": "code",
   "execution_count": 212,
   "metadata": {},
   "outputs": [
    {
     "data": {
      "text/html": [
       "<div>\n",
       "<style scoped>\n",
       "    .dataframe tbody tr th:only-of-type {\n",
       "        vertical-align: middle;\n",
       "    }\n",
       "\n",
       "    .dataframe tbody tr th {\n",
       "        vertical-align: top;\n",
       "    }\n",
       "\n",
       "    .dataframe thead th {\n",
       "        text-align: right;\n",
       "    }\n",
       "</style>\n",
       "<table border=\"1\" class=\"dataframe\">\n",
       "  <thead>\n",
       "    <tr style=\"text-align: right;\">\n",
       "      <th></th>\n",
       "      <th>country</th>\n",
       "      <th>year</th>\n",
       "      <th>quantity</th>\n",
       "      <th>category</th>\n",
       "    </tr>\n",
       "  </thead>\n",
       "  <tbody>\n",
       "    <tr>\n",
       "      <td>373</td>\n",
       "      <td>Lithuania</td>\n",
       "      <td>2014</td>\n",
       "      <td>39.0</td>\n",
       "      <td>1</td>\n",
       "    </tr>\n",
       "    <tr>\n",
       "      <td>374</td>\n",
       "      <td>Lithuania</td>\n",
       "      <td>2013</td>\n",
       "      <td>192.0</td>\n",
       "      <td>1</td>\n",
       "    </tr>\n",
       "    <tr>\n",
       "      <td>375</td>\n",
       "      <td>Lithuania</td>\n",
       "      <td>2012</td>\n",
       "      <td>196.0</td>\n",
       "      <td>1</td>\n",
       "    </tr>\n",
       "    <tr>\n",
       "      <td>376</td>\n",
       "      <td>Lithuania</td>\n",
       "      <td>2011</td>\n",
       "      <td>171.0</td>\n",
       "      <td>1</td>\n",
       "    </tr>\n",
       "    <tr>\n",
       "      <td>377</td>\n",
       "      <td>Lithuania</td>\n",
       "      <td>2010</td>\n",
       "      <td>158.0</td>\n",
       "      <td>1</td>\n",
       "    </tr>\n",
       "  </tbody>\n",
       "</table>\n",
       "</div>"
      ],
      "text/plain": [
       "       country  year  quantity  category\n",
       "373  Lithuania  2014      39.0         1\n",
       "374  Lithuania  2013     192.0         1\n",
       "375  Lithuania  2012     196.0         1\n",
       "376  Lithuania  2011     171.0         1\n",
       "377  Lithuania  2010     158.0         1"
      ]
     },
     "execution_count": 212,
     "metadata": {},
     "output_type": "execute_result"
    }
   ],
   "source": [
    "power_filtered = power[ ((power['country']=='Estonia') | (power['country']=='Lithuania') | \\\n",
    "                       (power['country']=='Lithuania')) & ((power['category']==1) | (power['category']==1) \\\n",
    "                       | (power['category']==21)) ]\n",
    "power_filtered.head()"
   ]
  },
  {
   "cell_type": "code",
   "execution_count": 213,
   "metadata": {},
   "outputs": [
    {
     "data": {
      "text/plain": [
       "373    2014\n",
       "374    2013\n",
       "375    2012\n",
       "376    2011\n",
       "377    2010\n",
       "Name: year, dtype: int64"
      ]
     },
     "execution_count": 213,
     "metadata": {},
     "output_type": "execute_result"
    }
   ],
   "source": [
    "power_filtered['year'].head()"
   ]
  },
  {
   "cell_type": "code",
   "execution_count": 214,
   "metadata": {},
   "outputs": [
    {
     "data": {
      "text/html": [
       "<div>\n",
       "<style scoped>\n",
       "    .dataframe tbody tr th:only-of-type {\n",
       "        vertical-align: middle;\n",
       "    }\n",
       "\n",
       "    .dataframe tbody tr th {\n",
       "        vertical-align: top;\n",
       "    }\n",
       "\n",
       "    .dataframe thead th {\n",
       "        text-align: right;\n",
       "    }\n",
       "</style>\n",
       "<table border=\"1\" class=\"dataframe\">\n",
       "  <thead>\n",
       "    <tr style=\"text-align: right;\">\n",
       "      <th></th>\n",
       "      <th>country</th>\n",
       "      <th>year</th>\n",
       "      <th>quantity</th>\n",
       "      <th>category</th>\n",
       "    </tr>\n",
       "  </thead>\n",
       "  <tbody>\n",
       "    <tr>\n",
       "      <td>253982</td>\n",
       "      <td>Lithuania</td>\n",
       "      <td>2009</td>\n",
       "      <td>98.0</td>\n",
       "      <td>21</td>\n",
       "    </tr>\n",
       "    <tr>\n",
       "      <td>253983</td>\n",
       "      <td>Lithuania</td>\n",
       "      <td>2008</td>\n",
       "      <td>54.0</td>\n",
       "      <td>21</td>\n",
       "    </tr>\n",
       "    <tr>\n",
       "      <td>253984</td>\n",
       "      <td>Lithuania</td>\n",
       "      <td>2007</td>\n",
       "      <td>47.0</td>\n",
       "      <td>21</td>\n",
       "    </tr>\n",
       "    <tr>\n",
       "      <td>253985</td>\n",
       "      <td>Lithuania</td>\n",
       "      <td>2006</td>\n",
       "      <td>31.0</td>\n",
       "      <td>21</td>\n",
       "    </tr>\n",
       "    <tr>\n",
       "      <td>253986</td>\n",
       "      <td>Lithuania</td>\n",
       "      <td>2005</td>\n",
       "      <td>1.0</td>\n",
       "      <td>21</td>\n",
       "    </tr>\n",
       "  </tbody>\n",
       "</table>\n",
       "</div>"
      ],
      "text/plain": [
       "          country  year  quantity  category\n",
       "253982  Lithuania  2009      98.0        21\n",
       "253983  Lithuania  2008      54.0        21\n",
       "253984  Lithuania  2007      47.0        21\n",
       "253985  Lithuania  2006      31.0        21\n",
       "253986  Lithuania  2005       1.0        21"
      ]
     },
     "execution_count": 214,
     "metadata": {},
     "output_type": "execute_result"
    }
   ],
   "source": [
    "#вот тут пытался написать сначала условие типа 2005 <= power_filtered['year'] <= 2010 — но питон начал ругаться сильно,\n",
    "# поэтому вот так попробовал записать\n",
    "\n",
    "t = power_filtered[ (power_filtered['year'] <= 2010) & (2005 <= power_filtered['year']) & \\\n",
    "                   (power_filtered['quantity'] >= 0)]\n",
    "t.tail()"
   ]
  },
  {
   "cell_type": "code",
   "execution_count": 215,
   "metadata": {},
   "outputs": [
    {
     "data": {
      "text/plain": [
       "181509.0"
      ]
     },
     "execution_count": 215,
     "metadata": {},
     "output_type": "execute_result"
    }
   ],
   "source": [
    "sum(t['quantity'])"
   ]
  },
  {
   "cell_type": "code",
   "execution_count": 216,
   "metadata": {},
   "outputs": [],
   "source": [
    "def baltic_power(file_name):\n",
    "    \n",
    "    power = pd.read_csv(file_name)\n",
    "    \n",
    "    power_filtered = power[ ((power['country']=='Estonia') | (power['country']=='Lithuania') | \\\n",
    "                       (power['country']=='Lithuania')) & ((power['category']==1) | (power['category']==1) \\\n",
    "                       | (power['category']==21)) ]\n",
    "    \n",
    "    power_filtered_by_years = power_filtered[ (power_filtered['year'] <= 2010) & (2005 <= power_filtered['year']) & \\\n",
    "                   (power_filtered['quantity'] >= 0) ]\n",
    "    \n",
    "    return sum(power_filtered_by_years['quantity'])"
   ]
  },
  {
   "cell_type": "code",
   "execution_count": 217,
   "metadata": {},
   "outputs": [
    {
     "data": {
      "text/plain": [
       "181509.0"
      ]
     },
     "execution_count": 217,
     "metadata": {},
     "output_type": "execute_result"
    }
   ],
   "source": [
    "baltic_power('power.csv')"
   ]
  },
  {
   "cell_type": "markdown",
   "metadata": {},
   "source": [
    "### Задание 3\n",
    "\n",
    "Выберите страницу любого сайта с табличными данными. Импортируйте таблицы в pandas dataframe.\n",
    "Примеры страниц (необязательно брать именно эти):\n",
    "https://fortrader.org/quotes\n",
    "https://www.finanz.ru/valyuty/v-realnom-vremeni"
   ]
  },
  {
   "cell_type": "code",
   "execution_count": 218,
   "metadata": {},
   "outputs": [],
   "source": [
    "df = pd.read_html('https://www.finanz.ru/valyuty/v-realnom-vremeni', encoding='utf-8')[1]"
   ]
  },
  {
   "cell_type": "code",
   "execution_count": 219,
   "metadata": {},
   "outputs": [
    {
     "data": {
      "text/html": [
       "<div>\n",
       "<style scoped>\n",
       "    .dataframe tbody tr th:only-of-type {\n",
       "        vertical-align: middle;\n",
       "    }\n",
       "\n",
       "    .dataframe tbody tr th {\n",
       "        vertical-align: top;\n",
       "    }\n",
       "\n",
       "    .dataframe thead th {\n",
       "        text-align: right;\n",
       "    }\n",
       "</style>\n",
       "<table border=\"1\" class=\"dataframe\">\n",
       "  <thead>\n",
       "    <tr style=\"text-align: right;\">\n",
       "      <th></th>\n",
       "      <th>Unnamed: 0</th>\n",
       "      <th>Рубль</th>\n",
       "      <th>Предложение</th>\n",
       "      <th>Спрос</th>\n",
       "      <th>Предыдущее закрытие</th>\n",
       "      <th>%</th>\n",
       "      <th>Абсолютное значение</th>\n",
       "      <th>Время</th>\n",
       "    </tr>\n",
       "  </thead>\n",
       "  <tbody>\n",
       "    <tr>\n",
       "      <td>0</td>\n",
       "      <td>NaN</td>\n",
       "      <td>GBP/RUB</td>\n",
       "      <td>894576</td>\n",
       "      <td>-</td>\n",
       "      <td>894891</td>\n",
       "      <td>-0,04 %</td>\n",
       "      <td>-00315</td>\n",
       "      <td>07.03.2020</td>\n",
       "    </tr>\n",
       "    <tr>\n",
       "      <td>1</td>\n",
       "      <td>NaN</td>\n",
       "      <td>EUR/RUB</td>\n",
       "      <td>773875</td>\n",
       "      <td>-</td>\n",
       "      <td>758920</td>\n",
       "      <td>1,97 %</td>\n",
       "      <td>14955</td>\n",
       "      <td>07.03.2020</td>\n",
       "    </tr>\n",
       "    <tr>\n",
       "      <td>2</td>\n",
       "      <td>NaN</td>\n",
       "      <td>USD/RUB</td>\n",
       "      <td>685595</td>\n",
       "      <td>-</td>\n",
       "      <td>685630</td>\n",
       "      <td>-0,01 %</td>\n",
       "      <td>-00035</td>\n",
       "      <td>07.03.2020</td>\n",
       "    </tr>\n",
       "    <tr>\n",
       "      <td>3</td>\n",
       "      <td>NaN</td>\n",
       "      <td>JPY/RUB</td>\n",
       "      <td>06506</td>\n",
       "      <td>-</td>\n",
       "      <td>06513</td>\n",
       "      <td>-0,11 %</td>\n",
       "      <td>-00007</td>\n",
       "      <td>07.03.2020</td>\n",
       "    </tr>\n",
       "    <tr>\n",
       "      <td>4</td>\n",
       "      <td>NaN</td>\n",
       "      <td>CNY/RUB</td>\n",
       "      <td>98908</td>\n",
       "      <td>-</td>\n",
       "      <td>98932</td>\n",
       "      <td>-0,02 %</td>\n",
       "      <td>-00024</td>\n",
       "      <td>07.03.2020</td>\n",
       "    </tr>\n",
       "  </tbody>\n",
       "</table>\n",
       "</div>"
      ],
      "text/plain": [
       "   Unnamed: 0    Рубль Предложение Спрос Предыдущее закрытие        %  \\\n",
       "0         NaN  GBP/RUB      894576     -              894891  -0,04 %   \n",
       "1         NaN  EUR/RUB      773875     -              758920   1,97 %   \n",
       "2         NaN  USD/RUB      685595     -              685630  -0,01 %   \n",
       "3         NaN  JPY/RUB       06506     -               06513  -0,11 %   \n",
       "4         NaN  CNY/RUB       98908     -               98932  -0,02 %   \n",
       "\n",
       "  Абсолютное значение       Время  \n",
       "0              -00315  07.03.2020  \n",
       "1               14955  07.03.2020  \n",
       "2              -00035  07.03.2020  \n",
       "3              -00007  07.03.2020  \n",
       "4              -00024  07.03.2020  "
      ]
     },
     "execution_count": 219,
     "metadata": {},
     "output_type": "execute_result"
    }
   ],
   "source": [
    "df.head()"
   ]
  },
  {
   "cell_type": "code",
   "execution_count": 220,
   "metadata": {},
   "outputs": [],
   "source": [
    "df1 = pd.read_html('https://www.thecompleteuniversityguide.co.uk/league-tables/rankings')[0]"
   ]
  },
  {
   "cell_type": "code",
   "execution_count": 221,
   "metadata": {},
   "outputs": [
    {
     "data": {
      "text/html": [
       "<div>\n",
       "<style scoped>\n",
       "    .dataframe tbody tr th:only-of-type {\n",
       "        vertical-align: middle;\n",
       "    }\n",
       "\n",
       "    .dataframe tbody tr th {\n",
       "        vertical-align: top;\n",
       "    }\n",
       "\n",
       "    .dataframe thead th {\n",
       "        text-align: right;\n",
       "    }\n",
       "</style>\n",
       "<table border=\"1\" class=\"dataframe\">\n",
       "  <thead>\n",
       "    <tr style=\"text-align: right;\">\n",
       "      <th></th>\n",
       "      <th>Unnamed: 0</th>\n",
       "      <th>Rank</th>\n",
       "      <th>Rank.1</th>\n",
       "      <th>University Name</th>\n",
       "      <th>Entry Standards  Entry Standards  The average UCAS tariff score of new students entering the university.  Read more</th>\n",
       "      <th>Student Satisfaction  Student Satisfaction  A guide to how satisfied students are with the quality of teaching they receive.  Maximum score: 5.00  Read more</th>\n",
       "      <th>Research Quality  Research Quality  A measure of the quality of the research undertaken in the university.  Maximum score: 4.00  Read more</th>\n",
       "      <th>Graduate Prospects  Graduate Prospects  A guide to the success of graduates on completion of their courses at the university.  Maximum score: 100.0  Read more</th>\n",
       "      <th>Overall Score  Overall Score  The total score calculated by our independent and trusted methodology, comprising entry standards, student satisfaction, research assessment (quality and intensity), graduate prospects, studentâstaff ratio, academic services spend, facilities spend, good honours, and degree completion.  Maximum score: 1000  Read more</th>\n",
       "      <th>Next Steps</th>\n",
       "    </tr>\n",
       "  </thead>\n",
       "  <tbody>\n",
       "    <tr>\n",
       "      <td>0</td>\n",
       "      <td>NaN</td>\n",
       "      <td>1st</td>\n",
       "      <td>0</td>\n",
       "      <td>Cambridge</td>\n",
       "      <td>224</td>\n",
       "      <td>4.09</td>\n",
       "      <td>3.33</td>\n",
       "      <td>86.7</td>\n",
       "      <td>1000</td>\n",
       "      <td>Profile  Courses</td>\n",
       "    </tr>\n",
       "    <tr>\n",
       "      <td>1</td>\n",
       "      <td>NaN</td>\n",
       "      <td>2nd</td>\n",
       "      <td>0</td>\n",
       "      <td>Oxford</td>\n",
       "      <td>215</td>\n",
       "      <td>4.10</td>\n",
       "      <td>3.34</td>\n",
       "      <td>83.4</td>\n",
       "      <td>989</td>\n",
       "      <td>Profile  Courses</td>\n",
       "    </tr>\n",
       "    <tr>\n",
       "      <td>2</td>\n",
       "      <td>NaN</td>\n",
       "      <td>3rd</td>\n",
       "      <td>2</td>\n",
       "      <td>St Andrews</td>\n",
       "      <td>207</td>\n",
       "      <td>4.26</td>\n",
       "      <td>3.13</td>\n",
       "      <td>79.7</td>\n",
       "      <td>944</td>\n",
       "      <td>Profile  Courses</td>\n",
       "    </tr>\n",
       "    <tr>\n",
       "      <td>3</td>\n",
       "      <td>NaN</td>\n",
       "      <td>4th</td>\n",
       "      <td>1</td>\n",
       "      <td>London School of Economics</td>\n",
       "      <td>189</td>\n",
       "      <td>3.67</td>\n",
       "      <td>3.35</td>\n",
       "      <td>86.1</td>\n",
       "      <td>934</td>\n",
       "      <td>Profile  Courses</td>\n",
       "    </tr>\n",
       "    <tr>\n",
       "      <td>4</td>\n",
       "      <td>NaN</td>\n",
       "      <td>5th</td>\n",
       "      <td>1</td>\n",
       "      <td>Imperial College London</td>\n",
       "      <td>205</td>\n",
       "      <td>4.02</td>\n",
       "      <td>3.36</td>\n",
       "      <td>90.4</td>\n",
       "      <td>933</td>\n",
       "      <td>Profile  Courses</td>\n",
       "    </tr>\n",
       "  </tbody>\n",
       "</table>\n",
       "</div>"
      ],
      "text/plain": [
       "  Unnamed: 0 Rank Rank.1             University Name  \\\n",
       "0        NaN  1st      0                   Cambridge   \n",
       "1        NaN  2nd      0                      Oxford   \n",
       "2        NaN  3rd      2                  St Andrews   \n",
       "3        NaN  4th      1  London School of Economics   \n",
       "4        NaN  5th      1     Imperial College London   \n",
       "\n",
       "  Entry Standards  Entry Standards  The average UCAS tariff score of new students entering the university.  Read more  \\\n",
       "0                                                224                                                                    \n",
       "1                                                215                                                                    \n",
       "2                                                207                                                                    \n",
       "3                                                189                                                                    \n",
       "4                                                205                                                                    \n",
       "\n",
       "  Student Satisfaction  Student Satisfaction  A guide to how satisfied students are with the quality of teaching they receive.  Maximum score: 5.00  Read more  \\\n",
       "0                                               4.09                                                                                                             \n",
       "1                                               4.10                                                                                                             \n",
       "2                                               4.26                                                                                                             \n",
       "3                                               3.67                                                                                                             \n",
       "4                                               4.02                                                                                                             \n",
       "\n",
       "  Research Quality  Research Quality  A measure of the quality of the research undertaken in the university.  Maximum score: 4.00  Read more  \\\n",
       "0                                               3.33                                                                                           \n",
       "1                                               3.34                                                                                           \n",
       "2                                               3.13                                                                                           \n",
       "3                                               3.35                                                                                           \n",
       "4                                               3.36                                                                                           \n",
       "\n",
       "  Graduate Prospects  Graduate Prospects  A guide to the success of graduates on completion of their courses at the university.  Maximum score: 100.0  Read more  \\\n",
       "0                                               86.7                                                                                                               \n",
       "1                                               83.4                                                                                                               \n",
       "2                                               79.7                                                                                                               \n",
       "3                                               86.1                                                                                                               \n",
       "4                                               90.4                                                                                                               \n",
       "\n",
       "  Overall Score  Overall Score  The total score calculated by our independent and trusted methodology, comprising entry standards, student satisfaction, research assessment (quality and intensity), graduate prospects, studentâstaff ratio, academic services spend, facilities spend, good honours, and degree completion.  Maximum score: 1000  Read more  \\\n",
       "0                                               1000                                                                                                                                                                                                                                                                                                               \n",
       "1                                                989                                                                                                                                                                                                                                                                                                               \n",
       "2                                                944                                                                                                                                                                                                                                                                                                               \n",
       "3                                                934                                                                                                                                                                                                                                                                                                               \n",
       "4                                                933                                                                                                                                                                                                                                                                                                               \n",
       "\n",
       "         Next Steps  \n",
       "0  Profile  Courses  \n",
       "1  Profile  Courses  \n",
       "2  Profile  Courses  \n",
       "3  Profile  Courses  \n",
       "4  Profile  Courses  "
      ]
     },
     "execution_count": 221,
     "metadata": {},
     "output_type": "execute_result"
    }
   ],
   "source": [
    "df1.head()"
   ]
  },
  {
   "cell_type": "code",
   "execution_count": 222,
   "metadata": {},
   "outputs": [
    {
     "data": {
      "text/plain": [
       "0                     Cambridge\n",
       "1                        Oxford\n",
       "2                    St Andrews\n",
       "3    London School of Economics\n",
       "4       Imperial College London\n",
       "Name: University Name, dtype: object"
      ]
     },
     "execution_count": 222,
     "metadata": {},
     "output_type": "execute_result"
    }
   ],
   "source": [
    "df1['University Name'].head()"
   ]
  }
 ],
 "metadata": {
  "kernelspec": {
   "display_name": "Python 3",
   "language": "python",
   "name": "python3"
  },
  "language_info": {
   "codemirror_mode": {
    "name": "ipython",
    "version": 3
   },
   "file_extension": ".py",
   "mimetype": "text/x-python",
   "name": "python",
   "nbconvert_exporter": "python",
   "pygments_lexer": "ipython3",
   "version": "3.7.4"
  }
 },
 "nbformat": 4,
 "nbformat_minor": 2
}
